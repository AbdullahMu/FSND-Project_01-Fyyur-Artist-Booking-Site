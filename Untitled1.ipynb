{
 "cells": [
  {
   "cell_type": "code",
   "execution_count": 6,
   "id": "closed-pakistan",
   "metadata": {
    "collapsed": true,
    "jupyter": {
     "outputs_hidden": true
    }
   },
   "outputs": [
    {
     "name": "stdout",
     "output_type": "stream",
     "text": [
      " * Serving Flask app \"__main__\" (lazy loading)\n",
      " * Environment: production\n",
      "   WARNING: This is a development server. Do not use it in a production deployment.\n",
      "   Use a production WSGI server instead.\n",
      " * Debug mode: on\n"
     ]
    },
    {
     "name": "stderr",
     "output_type": "stream",
     "text": [
      " * Restarting with windowsapi reloader\n"
     ]
    },
    {
     "ename": "SystemExit",
     "evalue": "1",
     "output_type": "error",
     "traceback": [
      "An exception has occurred, use %tb to see the full traceback.\n",
      "\u001b[1;31mSystemExit\u001b[0m\u001b[1;31m:\u001b[0m 1\n"
     ]
    }
   ],
   "source": [
    "class Venue(db.Model):\n",
    "    __tablename__ = 'venue'\n",
    "    id = db.Column(db.Integer, primary_key=True)\n",
    "    name = db.Column(db.String)\n",
    "    city = db.Column(db.String(120))\n",
    "    state = db.Column(db.String(120))\n",
    "    address = db.Column(db.String(120))\n",
    "    phone = db.Column(db.String(120))\n",
    "    image_link = db.Column(db.String(500))\n",
    "    facebook_link = db.Column(db.String(120))\n",
    "\n",
    "    # TODO: implement any missing fields, as a database migration using Flask-Migrate\n",
    "    description = db.Column(db.String(500), default='')\n",
    "    seeking_talent = db.Column(db.Boolean, default=False, nullable=False)\n",
    "    website = db.Column(db.String(120), nullable=True)\n",
    "    genres = db.Column(db.String(500))\n",
    "    shows = db.relationship('Show', backref='venue', lazy='dynamic')"
   ]
  },
  {
   "cell_type": "code",
   "execution_count": null,
   "id": "supreme-stereo",
   "metadata": {},
   "outputs": [],
   "source": [
    "name = request.form['name']\n",
    "city = request.form['city']\n",
    "state = request.form['state']\n",
    "address = request.form['address']\n",
    "phone = request.form['phone']\n",
    "genres = request.form.getlist('genres')\n",
    "image_link = request.form['image_link']\n",
    "facebook_link = request.form['facebook_link']\n",
    "website = request.form['website']\n",
    "seeking_talent = True if 'seeking_talent' in request.form else False # https://stackoverflow.com/questions/715417/converting-from-a-string-to-boolean-in-python\n",
    "seeking_description = request.form['seeking_description']"
   ]
  },
  {
   "cell_type": "code",
   "execution_count": null,
   "id": "supposed-basement",
   "metadata": {},
   "outputs": [],
   "source": [
    "venue = Venue(name=name, city=city, state=state, address=address, phone=phone, genres=genres, facebook_link=facebook_link, image_link=image_link, website=website, seeking_talent=seeking_talent, seeking_description=seeking_description)\n",
    "db.session.add(venue)\n",
    "db.session.commit()"
   ]
  },
  {
   "cell_type": "code",
   "execution_count": 7,
   "id": "elementary-carbon",
   "metadata": {
    "collapsed": true,
    "jupyter": {
     "outputs_hidden": true
    }
   },
   "outputs": [
    {
     "ename": "SystemExit",
     "evalue": "1",
     "output_type": "error",
     "traceback": [
      "\u001b[1;31m---------------------------------------------------------------------------\u001b[0m",
      "\u001b[1;31mSystemExit\u001b[0m                                Traceback (most recent call last)",
      "\u001b[1;32m<ipython-input-6-666f9cfce243>\u001b[0m in \u001b[0;36m<module>\u001b[1;34m\u001b[0m\n\u001b[0;32m    743\u001b[0m \u001b[1;31m# Default port:\u001b[0m\u001b[1;33m\u001b[0m\u001b[1;33m\u001b[0m\u001b[1;33m\u001b[0m\u001b[0m\n\u001b[0;32m    744\u001b[0m \u001b[1;32mif\u001b[0m \u001b[0m__name__\u001b[0m \u001b[1;33m==\u001b[0m \u001b[1;34m'__main__'\u001b[0m\u001b[1;33m:\u001b[0m\u001b[1;33m\u001b[0m\u001b[1;33m\u001b[0m\u001b[0m\n\u001b[1;32m--> 745\u001b[1;33m     \u001b[0mapp\u001b[0m\u001b[1;33m.\u001b[0m\u001b[0mrun\u001b[0m\u001b[1;33m(\u001b[0m\u001b[1;33m)\u001b[0m\u001b[1;33m\u001b[0m\u001b[1;33m\u001b[0m\u001b[0m\n\u001b[0m\u001b[0;32m    746\u001b[0m \u001b[1;33m\u001b[0m\u001b[0m\n\u001b[0;32m    747\u001b[0m \u001b[1;31m# Or specify port manually:\u001b[0m\u001b[1;33m\u001b[0m\u001b[1;33m\u001b[0m\u001b[1;33m\u001b[0m\u001b[0m\n",
      "\u001b[1;32m~\\Anaconda3\\lib\\site-packages\\flask\\app.py\u001b[0m in \u001b[0;36mrun\u001b[1;34m(self, host, port, debug, load_dotenv, **options)\u001b[0m\n\u001b[0;32m    988\u001b[0m \u001b[1;33m\u001b[0m\u001b[0m\n\u001b[0;32m    989\u001b[0m         \u001b[1;32mtry\u001b[0m\u001b[1;33m:\u001b[0m\u001b[1;33m\u001b[0m\u001b[1;33m\u001b[0m\u001b[0m\n\u001b[1;32m--> 990\u001b[1;33m             \u001b[0mrun_simple\u001b[0m\u001b[1;33m(\u001b[0m\u001b[0mhost\u001b[0m\u001b[1;33m,\u001b[0m \u001b[0mport\u001b[0m\u001b[1;33m,\u001b[0m \u001b[0mself\u001b[0m\u001b[1;33m,\u001b[0m \u001b[1;33m**\u001b[0m\u001b[0moptions\u001b[0m\u001b[1;33m)\u001b[0m\u001b[1;33m\u001b[0m\u001b[1;33m\u001b[0m\u001b[0m\n\u001b[0m\u001b[0;32m    991\u001b[0m         \u001b[1;32mfinally\u001b[0m\u001b[1;33m:\u001b[0m\u001b[1;33m\u001b[0m\u001b[1;33m\u001b[0m\u001b[0m\n\u001b[0;32m    992\u001b[0m             \u001b[1;31m# reset the first request information if the development server\u001b[0m\u001b[1;33m\u001b[0m\u001b[1;33m\u001b[0m\u001b[1;33m\u001b[0m\u001b[0m\n",
      "\u001b[1;32m~\\Anaconda3\\lib\\site-packages\\werkzeug\\serving.py\u001b[0m in \u001b[0;36mrun_simple\u001b[1;34m(hostname, port, application, use_reloader, use_debugger, use_evalex, extra_files, reloader_interval, reloader_type, threaded, processes, request_handler, static_files, passthrough_errors, ssl_context)\u001b[0m\n\u001b[0;32m   1048\u001b[0m         \u001b[1;32mfrom\u001b[0m \u001b[1;33m.\u001b[0m\u001b[0m_reloader\u001b[0m \u001b[1;32mimport\u001b[0m \u001b[0mrun_with_reloader\u001b[0m\u001b[1;33m\u001b[0m\u001b[1;33m\u001b[0m\u001b[0m\n\u001b[0;32m   1049\u001b[0m \u001b[1;33m\u001b[0m\u001b[0m\n\u001b[1;32m-> 1050\u001b[1;33m         \u001b[0mrun_with_reloader\u001b[0m\u001b[1;33m(\u001b[0m\u001b[0minner\u001b[0m\u001b[1;33m,\u001b[0m \u001b[0mextra_files\u001b[0m\u001b[1;33m,\u001b[0m \u001b[0mreloader_interval\u001b[0m\u001b[1;33m,\u001b[0m \u001b[0mreloader_type\u001b[0m\u001b[1;33m)\u001b[0m\u001b[1;33m\u001b[0m\u001b[1;33m\u001b[0m\u001b[0m\n\u001b[0m\u001b[0;32m   1051\u001b[0m     \u001b[1;32melse\u001b[0m\u001b[1;33m:\u001b[0m\u001b[1;33m\u001b[0m\u001b[1;33m\u001b[0m\u001b[0m\n\u001b[0;32m   1052\u001b[0m         \u001b[0minner\u001b[0m\u001b[1;33m(\u001b[0m\u001b[1;33m)\u001b[0m\u001b[1;33m\u001b[0m\u001b[1;33m\u001b[0m\u001b[0m\n",
      "\u001b[1;32m~\\Anaconda3\\lib\\site-packages\\werkzeug\\_reloader.py\u001b[0m in \u001b[0;36mrun_with_reloader\u001b[1;34m(main_func, extra_files, interval, reloader_type)\u001b[0m\n\u001b[0;32m    337\u001b[0m             \u001b[0mreloader\u001b[0m\u001b[1;33m.\u001b[0m\u001b[0mrun\u001b[0m\u001b[1;33m(\u001b[0m\u001b[1;33m)\u001b[0m\u001b[1;33m\u001b[0m\u001b[1;33m\u001b[0m\u001b[0m\n\u001b[0;32m    338\u001b[0m         \u001b[1;32melse\u001b[0m\u001b[1;33m:\u001b[0m\u001b[1;33m\u001b[0m\u001b[1;33m\u001b[0m\u001b[0m\n\u001b[1;32m--> 339\u001b[1;33m             \u001b[0msys\u001b[0m\u001b[1;33m.\u001b[0m\u001b[0mexit\u001b[0m\u001b[1;33m(\u001b[0m\u001b[0mreloader\u001b[0m\u001b[1;33m.\u001b[0m\u001b[0mrestart_with_reloader\u001b[0m\u001b[1;33m(\u001b[0m\u001b[1;33m)\u001b[0m\u001b[1;33m)\u001b[0m\u001b[1;33m\u001b[0m\u001b[1;33m\u001b[0m\u001b[0m\n\u001b[0m\u001b[0;32m    340\u001b[0m     \u001b[1;32mexcept\u001b[0m \u001b[0mKeyboardInterrupt\u001b[0m\u001b[1;33m:\u001b[0m\u001b[1;33m\u001b[0m\u001b[1;33m\u001b[0m\u001b[0m\n\u001b[0;32m    341\u001b[0m         \u001b[1;32mpass\u001b[0m\u001b[1;33m\u001b[0m\u001b[1;33m\u001b[0m\u001b[0m\n",
      "\u001b[1;31mSystemExit\u001b[0m: 1"
     ]
    }
   ],
   "source": [
    "class Artist(db.Model):\n",
    "    __tablename__ = 'artist'\n",
    "\n",
    "    id = db.Column(db.Integer, primary_key=True)\n",
    "    name = db.Column(db.String)\n",
    "    city = db.Column(db.String(120))\n",
    "    state = db.Column(db.String(120))\n",
    "    phone = db.Column(db.String(120))\n",
    "    genres = db.Column(db.String(120), nullable=False)\n",
    "    image_link = db.Column(db.String(500))\n",
    "    facebook_link = db.Column(db.String(120))\n",
    "\n",
    "    # TODO: implement any missing fields, as a database migration using Flask-Migrate\n",
    "    seeking_venue = db.Column(db.Boolean, default=False, nullable=False)\n",
    "    seeking_description = db.Column(db.String(500), nullable=True)\n",
    "    shows = db.relationship('Show', backref=\"artist\", lazy='dynamic')"
   ]
  },
  {
   "cell_type": "code",
   "execution_count": null,
   "id": "roman-drama",
   "metadata": {},
   "outputs": [],
   "source": [
    "artist_query = db.session.query(Artist).get(artist_id)\n",
    "\n",
    "\n",
    "name = request.form['name']\n",
    "city = request.form['city']\n",
    "state = request.form['state']\n",
    "phone = request.form['phone']\n",
    "genres = request.form.getlist('genres'),\n",
    "facebook_link = request.form['facebook_link']\n",
    "image_link = request.form['image_link']\n",
    "website = request.form['website']\n",
    "seeking_venue = True if 'seeking_venue' in request.form else False\n",
    "seeking_description = request.form['seeking_description']\n",
    "\n",
    "artist = Artist(name=name, city=city, state=state, phone=phone, genres=genres, facebook_link=facebook_link, image_link=image_link, website=website, seeking_venue=seeking_venue, seeking_description=seeking_description)\n",
    "db.session.add(artist)\n",
    "db.session.commit()"
   ]
  },
  {
   "cell_type": "code",
   "execution_count": null,
   "id": "promising-electronics",
   "metadata": {},
   "outputs": [],
   "source": [
    "class Show(db.Model):\n",
    "  __tablename__= 'show'\n",
    "\n",
    "  id = db.Column(db.Integer, primary_key=True)\n",
    "  artist_id = db.Column(db.Integer, db.ForeignKey('artist.id'), nullable=False)\n",
    "  venue_id = db.Column(db.Integer, db.ForeignKey('venue.id'), nullable=False)\n",
    "  start_time = db.Column(db.DateTime, nullable=False)"
   ]
  },
  {
   "cell_type": "code",
   "execution_count": null,
   "id": "bacterial-republic",
   "metadata": {},
   "outputs": [],
   "source": [
    "shows_query = db.session.query(Show).join(Artist).join(Venue).all()\n",
    "\n",
    "\n",
    "artist_id = request.form['artist_id']\n",
    "venue_id = request.form['venue_id']\n",
    "start_time = request.form['start_time']\n",
    "\n",
    "show = Show(artist_id=artist_id, venue_id=venue_id, start_time=start_time)\n",
    "db.session.add(show)\n",
    "db.session.commit()"
   ]
  }
 ],
 "metadata": {
  "kernelspec": {
   "display_name": "Python 3",
   "language": "python",
   "name": "python3"
  },
  "language_info": {
   "codemirror_mode": {
    "name": "ipython",
    "version": 3
   },
   "file_extension": ".py",
   "mimetype": "text/x-python",
   "name": "python",
   "nbconvert_exporter": "python",
   "pygments_lexer": "ipython3",
   "version": "3.8.5"
  }
 },
 "nbformat": 4,
 "nbformat_minor": 5
}
