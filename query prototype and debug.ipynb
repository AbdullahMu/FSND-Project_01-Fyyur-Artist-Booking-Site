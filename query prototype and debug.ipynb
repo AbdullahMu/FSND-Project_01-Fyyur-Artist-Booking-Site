{
 "cells": [
  {
   "cell_type": "code",
   "execution_count": 198,
   "id": "quantitative-narrative",
   "metadata": {},
   "outputs": [],
   "source": [
    "import sqlalchemy as db\n",
    "import json"
   ]
  },
  {
   "cell_type": "code",
   "execution_count": 199,
   "id": "eastern-mileage",
   "metadata": {},
   "outputs": [],
   "source": [
    "from app import Venue, Artist, Show"
   ]
  },
  {
   "cell_type": "code",
   "execution_count": 200,
   "id": "approximate-credit",
   "metadata": {},
   "outputs": [],
   "source": [
    "engine = db.create_engine('postgresql://postgres@localhost:5432/fyyur')\n",
    "connection = engine.connect()"
   ]
  },
  {
   "cell_type": "code",
   "execution_count": 201,
   "id": "genuine-texture",
   "metadata": {},
   "outputs": [
    {
     "data": {
      "text/plain": [
       "immutabledict({})"
      ]
     },
     "execution_count": 201,
     "metadata": {},
     "output_type": "execute_result"
    }
   ],
   "source": [
    "metadata = db.MetaData()\n",
    "metadata.tables"
   ]
  },
  {
   "cell_type": "code",
   "execution_count": 202,
   "id": "congressional-samba",
   "metadata": {},
   "outputs": [
    {
     "data": {
      "text/plain": [
       "['alembic_version', 'artist', 'show', 'venue']"
      ]
     },
     "execution_count": 202,
     "metadata": {},
     "output_type": "execute_result"
    }
   ],
   "source": [
    "engine.table_names()"
   ]
  },
  {
   "cell_type": "code",
   "execution_count": 203,
   "id": "other-norway",
   "metadata": {},
   "outputs": [],
   "source": [
    "areas = Venue.query.distinct(Venue.city, Venue.state).all()"
   ]
  },
  {
   "cell_type": "code",
   "execution_count": 204,
   "id": "relevant-silence",
   "metadata": {},
   "outputs": [],
   "source": [
    "from sqlalchemy.orm import load_only\n",
    "\n",
    "areas = Venue.query.options(load_only(Venue.city, Venue.state)).distinct(Venue.city, Venue.state).all()"
   ]
  },
  {
   "cell_type": "code",
   "execution_count": 205,
   "id": "strange-hayes",
   "metadata": {},
   "outputs": [],
   "source": [
    "areas = Venue.query.with_entities(Venue.city, Venue.state).distinct(Venue.city, Venue.state).all()"
   ]
  },
  {
   "cell_type": "code",
   "execution_count": 206,
   "id": "conceptual-shower",
   "metadata": {},
   "outputs": [],
   "source": [
    "areas = Venue.query.options(load_only('city', 'state')).with_entities(Venue.city, Venue.state).distinct(Venue.city, Venue.state).all()"
   ]
  },
  {
   "cell_type": "code",
   "execution_count": 207,
   "id": "breathing-fourth",
   "metadata": {},
   "outputs": [
    {
     "data": {
      "text/plain": [
       "{'city': 'Allenfurt', 'state': 'Utah'}"
      ]
     },
     "execution_count": 207,
     "metadata": {},
     "output_type": "execute_result"
    }
   ],
   "source": [
    "areas[0]._asdict() # bingooooo!"
   ]
  },
  {
   "cell_type": "code",
   "execution_count": 185,
   "id": "banned-eligibility",
   "metadata": {},
   "outputs": [],
   "source": [
    "sepr = '\\''\n",
    "strr = str(areas[0]).replace('\\n', '')"
   ]
  },
  {
   "cell_type": "code",
   "execution_count": 208,
   "id": "advisory-capital",
   "metadata": {},
   "outputs": [
    {
     "data": {
      "text/plain": [
       "'Allenfurt'"
      ]
     },
     "execution_count": 208,
     "metadata": {},
     "output_type": "execute_result"
    }
   ],
   "source": [
    "areas[0].city"
   ]
  },
  {
   "cell_type": "code",
   "execution_count": 209,
   "id": "widespread-bones",
   "metadata": {},
   "outputs": [
    {
     "name": "stdout",
     "output_type": "stream",
     "text": [
      "('Allenfurt', 'Utah')\n"
     ]
    }
   ],
   "source": [
    "print(areas[0])"
   ]
  },
  {
   "cell_type": "code",
   "execution_count": 188,
   "id": "critical-spring",
   "metadata": {},
   "outputs": [
    {
     "ename": "ImportError",
     "evalue": "cannot import name 'loaded_value' from 'sqlalchemy.orm' (C:\\Users\\User\\Anaconda3\\lib\\site-packages\\sqlalchemy\\orm\\__init__.py)",
     "output_type": "error",
     "traceback": [
      "\u001b[1;31m---------------------------------------------------------------------------\u001b[0m",
      "\u001b[1;31mImportError\u001b[0m                               Traceback (most recent call last)",
      "\u001b[1;32m<ipython-input-188-49f7fa7fe777>\u001b[0m in \u001b[0;36m<module>\u001b[1;34m\u001b[0m\n\u001b[0;32m      1\u001b[0m \u001b[1;32mfrom\u001b[0m \u001b[0msqlalchemy\u001b[0m\u001b[1;33m.\u001b[0m\u001b[0minspection\u001b[0m \u001b[1;32mimport\u001b[0m \u001b[0minspect\u001b[0m\u001b[1;33m\u001b[0m\u001b[1;33m\u001b[0m\u001b[0m\n\u001b[1;32m----> 2\u001b[1;33m \u001b[1;32mfrom\u001b[0m \u001b[0msqlalchemy\u001b[0m\u001b[1;33m.\u001b[0m\u001b[0morm\u001b[0m \u001b[1;32mimport\u001b[0m \u001b[0mloaded_value\u001b[0m\u001b[1;33m\u001b[0m\u001b[1;33m\u001b[0m\u001b[0m\n\u001b[0m\u001b[0;32m      3\u001b[0m \u001b[1;33m\u001b[0m\u001b[0m\n\u001b[0;32m      4\u001b[0m \u001b[1;33m\u001b[0m\u001b[0m\n\u001b[0;32m      5\u001b[0m \u001b[0mstate\u001b[0m \u001b[1;33m=\u001b[0m \u001b[0minspect\u001b[0m\u001b[1;33m(\u001b[0m\u001b[0mVenue\u001b[0m\u001b[1;33m)\u001b[0m\u001b[1;33m\u001b[0m\u001b[1;33m\u001b[0m\u001b[0m\n",
      "\u001b[1;31mImportError\u001b[0m: cannot import name 'loaded_value' from 'sqlalchemy.orm' (C:\\Users\\User\\Anaconda3\\lib\\site-packages\\sqlalchemy\\orm\\__init__.py)"
     ]
    }
   ],
   "source": [
    "from sqlalchemy.inspection import inspect\n",
    "from sqlalchemy.orm import loaded_value\n",
    "\n",
    "\n",
    "state = inspect(Venue)    \n",
    "attrs = \" \".join([f\"{attr.key}={attr.loaded_value!r}\"\n",
    "                          for attr in state.attrs])\n",
    "print(f\"<User {attrs}>\")"
   ]
  },
  {
   "cell_type": "code",
   "execution_count": 67,
   "id": "cooked-sauce",
   "metadata": {},
   "outputs": [],
   "source": [
    "from sqlalchemy.inspection import inspect\n",
    "\n",
    "state = inspect(Venue)    \n",
    "attrs = \" \".join([f\"{attr.key}\"\n",
    "                          for attr in state.attrs])\n",
    "\n",
    "print(f\"<User {attrs}>\")"
   ]
  },
  {
   "cell_type": "code",
   "execution_count": 115,
   "id": "amazing-leader",
   "metadata": {},
   "outputs": [
    {
     "ename": "SyntaxError",
     "evalue": "unexpected EOF while parsing (<ipython-input-115-a979c12b8346>, line 5)",
     "output_type": "error",
     "traceback": [
      "\u001b[1;36m  File \u001b[1;32m\"<ipython-input-115-a979c12b8346>\"\u001b[1;36m, line \u001b[1;32m5\u001b[0m\n\u001b[1;33m    x=attr.get(attr.key, default=None)\u001b[0m\n\u001b[1;37m                                      ^\u001b[0m\n\u001b[1;31mSyntaxError\u001b[0m\u001b[1;31m:\u001b[0m unexpected EOF while parsing\n"
     ]
    }
   ],
   "source": [
    "state = inspect(Venue)    \n",
    "for attr in state.attrs:\n",
    "    try: \n",
    "        print(attr)\n",
    "        x=attr.get(attr.key, default=None)"
   ]
  },
  {
   "cell_type": "code",
   "execution_count": 132,
   "id": "judicial-litigation",
   "metadata": {},
   "outputs": [
    {
     "name": "stdout",
     "output_type": "stream",
     "text": [
      "<venue 'id',\n"
     ]
    }
   ],
   "source": [
    "print(f'''<venue \\\n",
    "'id',''')"
   ]
  },
  {
   "cell_type": "code",
   "execution_count": 87,
   "id": "micro-embassy",
   "metadata": {},
   "outputs": [
    {
     "name": "stdout",
     "output_type": "stream",
     "text": [
      "<zip object at 0x0000017A7DF88900>\n"
     ]
    }
   ],
   "source": [
    "print(zip(state.attrs.keys(), state.attrs.values()))"
   ]
  },
  {
   "cell_type": "code",
   "execution_count": 118,
   "id": "infinite-influence",
   "metadata": {},
   "outputs": [
    {
     "ename": "AttributeError",
     "evalue": "keys",
     "output_type": "error",
     "traceback": [
      "\u001b[1;31m---------------------------------------------------------------------------\u001b[0m",
      "\u001b[1;31mAttributeError\u001b[0m                            Traceback (most recent call last)",
      "\u001b[1;32m<ipython-input-118-2d2d98255b2f>\u001b[0m in \u001b[0;36m<module>\u001b[1;34m\u001b[0m\n\u001b[1;32m----> 1\u001b[1;33m \u001b[0mattr\u001b[0m\u001b[1;33m.\u001b[0m\u001b[0mkeys\u001b[0m\u001b[1;33m(\u001b[0m\u001b[1;33m)\u001b[0m\u001b[1;33m\u001b[0m\u001b[1;33m\u001b[0m\u001b[0m\n\u001b[0m",
      "\u001b[1;32m~\\Anaconda3\\lib\\site-packages\\sqlalchemy\\util\\langhelpers.py\u001b[0m in \u001b[0;36m__getattr__\u001b[1;34m(self, key)\u001b[0m\n\u001b[0;32m    985\u001b[0m             \u001b[1;32mreturn\u001b[0m \u001b[0moneshot\u001b[0m\u001b[1;33m\u001b[0m\u001b[1;33m\u001b[0m\u001b[0m\n\u001b[0;32m    986\u001b[0m         \u001b[1;32melse\u001b[0m\u001b[1;33m:\u001b[0m\u001b[1;33m\u001b[0m\u001b[1;33m\u001b[0m\u001b[0m\n\u001b[1;32m--> 987\u001b[1;33m             \u001b[1;32mreturn\u001b[0m \u001b[0mself\u001b[0m\u001b[1;33m.\u001b[0m\u001b[0m_fallback_getattr\u001b[0m\u001b[1;33m(\u001b[0m\u001b[0mkey\u001b[0m\u001b[1;33m)\u001b[0m\u001b[1;33m\u001b[0m\u001b[1;33m\u001b[0m\u001b[0m\n\u001b[0m\u001b[0;32m    988\u001b[0m \u001b[1;33m\u001b[0m\u001b[0m\n\u001b[0;32m    989\u001b[0m \u001b[1;33m\u001b[0m\u001b[0m\n",
      "\u001b[1;32m~\\Anaconda3\\lib\\site-packages\\sqlalchemy\\util\\langhelpers.py\u001b[0m in \u001b[0;36m_fallback_getattr\u001b[1;34m(self, key)\u001b[0m\n\u001b[0;32m    959\u001b[0m \u001b[1;33m\u001b[0m\u001b[0m\n\u001b[0;32m    960\u001b[0m     \u001b[1;32mdef\u001b[0m \u001b[0m_fallback_getattr\u001b[0m\u001b[1;33m(\u001b[0m\u001b[0mself\u001b[0m\u001b[1;33m,\u001b[0m \u001b[0mkey\u001b[0m\u001b[1;33m)\u001b[0m\u001b[1;33m:\u001b[0m\u001b[1;33m\u001b[0m\u001b[1;33m\u001b[0m\u001b[0m\n\u001b[1;32m--> 961\u001b[1;33m         \u001b[1;32mraise\u001b[0m \u001b[0mAttributeError\u001b[0m\u001b[1;33m(\u001b[0m\u001b[0mkey\u001b[0m\u001b[1;33m)\u001b[0m\u001b[1;33m\u001b[0m\u001b[1;33m\u001b[0m\u001b[0m\n\u001b[0m\u001b[0;32m    962\u001b[0m \u001b[1;33m\u001b[0m\u001b[0m\n\u001b[0;32m    963\u001b[0m     \u001b[1;32mdef\u001b[0m \u001b[0m__getattr__\u001b[0m\u001b[1;33m(\u001b[0m\u001b[0mself\u001b[0m\u001b[1;33m,\u001b[0m \u001b[0mkey\u001b[0m\u001b[1;33m)\u001b[0m\u001b[1;33m:\u001b[0m\u001b[1;33m\u001b[0m\u001b[1;33m\u001b[0m\u001b[0m\n",
      "\u001b[1;31mAttributeError\u001b[0m: keys"
     ]
    }
   ],
   "source": [
    "attr.keys()"
   ]
  },
  {
   "cell_type": "code",
   "execution_count": 101,
   "id": "hazardous-cosmetic",
   "metadata": {},
   "outputs": [],
   "source": [
    "atre = Artist.query.all()"
   ]
  },
  {
   "cell_type": "code",
   "execution_count": 103,
   "id": "decreased-douglas",
   "metadata": {},
   "outputs": [
    {
     "data": {
      "text/plain": [
       "[<Artist 1>,\n",
       " <Artist 2>,\n",
       " <Artist 3>,\n",
       " <Artist 4>,\n",
       " <Artist 5>,\n",
       " <Artist 6>,\n",
       " <Artist 7>,\n",
       " <Artist 8>,\n",
       " <Artist 9>,\n",
       " <Artist 10>,\n",
       " <Artist 11>,\n",
       " <Artist 12>,\n",
       " <Artist 13>,\n",
       " <Artist 14>,\n",
       " <Artist 15>,\n",
       " <Artist 16>,\n",
       " <Artist 17>,\n",
       " <Artist 18>,\n",
       " <Artist 19>,\n",
       " <Artist 20>,\n",
       " <Artist 21>,\n",
       " <Artist 22>,\n",
       " <Artist 23>,\n",
       " <Artist 24>,\n",
       " <Artist 25>,\n",
       " <Artist 26>,\n",
       " <Artist 27>,\n",
       " <Artist 28>,\n",
       " <Artist 29>,\n",
       " <Artist 30>,\n",
       " <Artist 31>,\n",
       " <Artist 32>,\n",
       " <Artist 33>,\n",
       " <Artist 34>,\n",
       " <Artist 35>,\n",
       " <Artist 36>,\n",
       " <Artist 37>,\n",
       " <Artist 38>,\n",
       " <Artist 39>,\n",
       " <Artist 40>,\n",
       " <Artist 41>,\n",
       " <Artist 42>,\n",
       " <Artist 43>,\n",
       " <Artist 44>,\n",
       " <Artist 45>,\n",
       " <Artist 46>,\n",
       " <Artist 47>,\n",
       " <Artist 48>,\n",
       " <Artist 49>,\n",
       " <Artist 50>,\n",
       " <Artist 51>,\n",
       " <Artist 52>,\n",
       " <Artist 53>,\n",
       " <Artist 54>,\n",
       " <Artist 55>,\n",
       " <Artist 56>,\n",
       " <Artist 57>,\n",
       " <Artist 58>,\n",
       " <Artist 59>,\n",
       " <Artist 60>,\n",
       " <Artist 61>,\n",
       " <Artist 62>,\n",
       " <Artist 63>,\n",
       " <Artist 64>,\n",
       " <Artist 65>,\n",
       " <Artist 66>,\n",
       " <Artist 67>,\n",
       " <Artist 68>,\n",
       " <Artist 69>,\n",
       " <Artist 70>,\n",
       " <Artist 71>,\n",
       " <Artist 72>,\n",
       " <Artist 73>,\n",
       " <Artist 74>,\n",
       " <Artist 75>,\n",
       " <Artist 76>,\n",
       " <Artist 77>,\n",
       " <Artist 78>,\n",
       " <Artist 79>,\n",
       " <Artist 80>]"
      ]
     },
     "execution_count": 103,
     "metadata": {},
     "output_type": "execute_result"
    }
   ],
   "source": [
    "atre"
   ]
  },
  {
   "cell_type": "code",
   "execution_count": 88,
   "id": "governing-nomination",
   "metadata": {},
   "outputs": [
    {
     "ename": "TypeError",
     "evalue": "'Artist' object is not iterable",
     "output_type": "error",
     "traceback": [
      "\u001b[1;31m---------------------------------------------------------------------------\u001b[0m",
      "\u001b[1;31mTypeError\u001b[0m                                 Traceback (most recent call last)",
      "\u001b[1;32m<ipython-input-88-515e5d1f2ec5>\u001b[0m in \u001b[0;36m<module>\u001b[1;34m\u001b[0m\n\u001b[1;32m----> 1\u001b[1;33m \u001b[0mcc\u001b[0m \u001b[1;33m=\u001b[0m \u001b[1;33m[\u001b[0m\u001b[0mdict\u001b[0m\u001b[1;33m(\u001b[0m\u001b[0mr\u001b[0m\u001b[1;33m)\u001b[0m \u001b[1;32mfor\u001b[0m \u001b[0mr\u001b[0m \u001b[1;32min\u001b[0m \u001b[0mlist\u001b[0m\u001b[1;33m(\u001b[0m\u001b[0matre\u001b[0m\u001b[1;33m)\u001b[0m\u001b[1;33m]\u001b[0m\u001b[1;33m\u001b[0m\u001b[1;33m\u001b[0m\u001b[0m\n\u001b[0m",
      "\u001b[1;32m<ipython-input-88-515e5d1f2ec5>\u001b[0m in \u001b[0;36m<listcomp>\u001b[1;34m(.0)\u001b[0m\n\u001b[1;32m----> 1\u001b[1;33m \u001b[0mcc\u001b[0m \u001b[1;33m=\u001b[0m \u001b[1;33m[\u001b[0m\u001b[0mdict\u001b[0m\u001b[1;33m(\u001b[0m\u001b[0mr\u001b[0m\u001b[1;33m)\u001b[0m \u001b[1;32mfor\u001b[0m \u001b[0mr\u001b[0m \u001b[1;32min\u001b[0m \u001b[0mlist\u001b[0m\u001b[1;33m(\u001b[0m\u001b[0matre\u001b[0m\u001b[1;33m)\u001b[0m\u001b[1;33m]\u001b[0m\u001b[1;33m\u001b[0m\u001b[1;33m\u001b[0m\u001b[0m\n\u001b[0m",
      "\u001b[1;31mTypeError\u001b[0m: 'Artist' object is not iterable"
     ]
    }
   ],
   "source": [
    "cc = [dict(r) for r in list(atre)]"
   ]
  },
  {
   "cell_type": "code",
   "execution_count": 92,
   "id": "extra-creativity",
   "metadata": {},
   "outputs": [
    {
     "ename": "ValueError",
     "evalue": "dictionary update sequence element #0 has length 1; 2 is required",
     "output_type": "error",
     "traceback": [
      "\u001b[1;31m---------------------------------------------------------------------------\u001b[0m",
      "\u001b[1;31mValueError\u001b[0m                                Traceback (most recent call last)",
      "\u001b[1;32m<ipython-input-92-9a4020d9db1c>\u001b[0m in \u001b[0;36m<module>\u001b[1;34m\u001b[0m\n\u001b[1;32m----> 1\u001b[1;33m \u001b[0mdict\u001b[0m\u001b[1;33m(\u001b[0m\u001b[0mstr\u001b[0m\u001b[1;33m(\u001b[0m\u001b[0matre\u001b[0m\u001b[1;33m[\u001b[0m\u001b[1;36m0\u001b[0m\u001b[1;33m]\u001b[0m\u001b[1;33m)\u001b[0m\u001b[1;33m)\u001b[0m\u001b[1;33m\u001b[0m\u001b[1;33m\u001b[0m\u001b[0m\n\u001b[0m",
      "\u001b[1;31mValueError\u001b[0m: dictionary update sequence element #0 has length 1; 2 is required"
     ]
    }
   ],
   "source": [
    "dict(str(atre[0]))"
   ]
  },
  {
   "cell_type": "code",
   "execution_count": 84,
   "id": "trained-brighton",
   "metadata": {},
   "outputs": [
    {
     "ename": "JSONDecodeError",
     "evalue": "Expecting property name enclosed in double quotes: line 2 column 9 (char 10)",
     "output_type": "error",
     "traceback": [
      "\u001b[1;31m---------------------------------------------------------------------------\u001b[0m",
      "\u001b[1;31mJSONDecodeError\u001b[0m                           Traceback (most recent call last)",
      "\u001b[1;32m<ipython-input-84-399f842f64b4>\u001b[0m in \u001b[0;36m<module>\u001b[1;34m\u001b[0m\n\u001b[0;32m      2\u001b[0m \u001b[1;31m# convert dictionary string to dictionary\u001b[0m\u001b[1;33m\u001b[0m\u001b[1;33m\u001b[0m\u001b[1;33m\u001b[0m\u001b[0m\n\u001b[0;32m      3\u001b[0m \u001b[1;33m\u001b[0m\u001b[0m\n\u001b[1;32m----> 4\u001b[1;33m \u001b[0mres\u001b[0m \u001b[1;33m=\u001b[0m \u001b[0mjson\u001b[0m\u001b[1;33m.\u001b[0m\u001b[0mloads\u001b[0m\u001b[1;33m(\u001b[0m\u001b[0mstr\u001b[0m\u001b[1;33m(\u001b[0m\u001b[0matre\u001b[0m\u001b[1;33m[\u001b[0m\u001b[1;36m0\u001b[0m\u001b[1;33m]\u001b[0m\u001b[1;33m)\u001b[0m\u001b[1;33m)\u001b[0m\u001b[1;33m\u001b[0m\u001b[1;33m\u001b[0m\u001b[0m\n\u001b[0m",
      "\u001b[1;32m~\\Anaconda3\\lib\\json\\__init__.py\u001b[0m in \u001b[0;36mloads\u001b[1;34m(s, cls, object_hook, parse_float, parse_int, parse_constant, object_pairs_hook, **kw)\u001b[0m\n\u001b[0;32m    355\u001b[0m             \u001b[0mparse_int\u001b[0m \u001b[1;32mis\u001b[0m \u001b[1;32mNone\u001b[0m \u001b[1;32mand\u001b[0m \u001b[0mparse_float\u001b[0m \u001b[1;32mis\u001b[0m \u001b[1;32mNone\u001b[0m \u001b[1;32mand\u001b[0m\u001b[1;33m\u001b[0m\u001b[1;33m\u001b[0m\u001b[0m\n\u001b[0;32m    356\u001b[0m             parse_constant is None and object_pairs_hook is None and not kw):\n\u001b[1;32m--> 357\u001b[1;33m         \u001b[1;32mreturn\u001b[0m \u001b[0m_default_decoder\u001b[0m\u001b[1;33m.\u001b[0m\u001b[0mdecode\u001b[0m\u001b[1;33m(\u001b[0m\u001b[0ms\u001b[0m\u001b[1;33m)\u001b[0m\u001b[1;33m\u001b[0m\u001b[1;33m\u001b[0m\u001b[0m\n\u001b[0m\u001b[0;32m    358\u001b[0m     \u001b[1;32mif\u001b[0m \u001b[0mcls\u001b[0m \u001b[1;32mis\u001b[0m \u001b[1;32mNone\u001b[0m\u001b[1;33m:\u001b[0m\u001b[1;33m\u001b[0m\u001b[1;33m\u001b[0m\u001b[0m\n\u001b[0;32m    359\u001b[0m         \u001b[0mcls\u001b[0m \u001b[1;33m=\u001b[0m \u001b[0mJSONDecoder\u001b[0m\u001b[1;33m\u001b[0m\u001b[1;33m\u001b[0m\u001b[0m\n",
      "\u001b[1;32m~\\Anaconda3\\lib\\json\\decoder.py\u001b[0m in \u001b[0;36mdecode\u001b[1;34m(self, s, _w)\u001b[0m\n\u001b[0;32m    335\u001b[0m \u001b[1;33m\u001b[0m\u001b[0m\n\u001b[0;32m    336\u001b[0m         \"\"\"\n\u001b[1;32m--> 337\u001b[1;33m         \u001b[0mobj\u001b[0m\u001b[1;33m,\u001b[0m \u001b[0mend\u001b[0m \u001b[1;33m=\u001b[0m \u001b[0mself\u001b[0m\u001b[1;33m.\u001b[0m\u001b[0mraw_decode\u001b[0m\u001b[1;33m(\u001b[0m\u001b[0ms\u001b[0m\u001b[1;33m,\u001b[0m \u001b[0midx\u001b[0m\u001b[1;33m=\u001b[0m\u001b[0m_w\u001b[0m\u001b[1;33m(\u001b[0m\u001b[0ms\u001b[0m\u001b[1;33m,\u001b[0m \u001b[1;36m0\u001b[0m\u001b[1;33m)\u001b[0m\u001b[1;33m.\u001b[0m\u001b[0mend\u001b[0m\u001b[1;33m(\u001b[0m\u001b[1;33m)\u001b[0m\u001b[1;33m)\u001b[0m\u001b[1;33m\u001b[0m\u001b[1;33m\u001b[0m\u001b[0m\n\u001b[0m\u001b[0;32m    338\u001b[0m         \u001b[0mend\u001b[0m \u001b[1;33m=\u001b[0m \u001b[0m_w\u001b[0m\u001b[1;33m(\u001b[0m\u001b[0ms\u001b[0m\u001b[1;33m,\u001b[0m \u001b[0mend\u001b[0m\u001b[1;33m)\u001b[0m\u001b[1;33m.\u001b[0m\u001b[0mend\u001b[0m\u001b[1;33m(\u001b[0m\u001b[1;33m)\u001b[0m\u001b[1;33m\u001b[0m\u001b[1;33m\u001b[0m\u001b[0m\n\u001b[0;32m    339\u001b[0m         \u001b[1;32mif\u001b[0m \u001b[0mend\u001b[0m \u001b[1;33m!=\u001b[0m \u001b[0mlen\u001b[0m\u001b[1;33m(\u001b[0m\u001b[0ms\u001b[0m\u001b[1;33m)\u001b[0m\u001b[1;33m:\u001b[0m\u001b[1;33m\u001b[0m\u001b[1;33m\u001b[0m\u001b[0m\n",
      "\u001b[1;32m~\\Anaconda3\\lib\\json\\decoder.py\u001b[0m in \u001b[0;36mraw_decode\u001b[1;34m(self, s, idx)\u001b[0m\n\u001b[0;32m    351\u001b[0m         \"\"\"\n\u001b[0;32m    352\u001b[0m         \u001b[1;32mtry\u001b[0m\u001b[1;33m:\u001b[0m\u001b[1;33m\u001b[0m\u001b[1;33m\u001b[0m\u001b[0m\n\u001b[1;32m--> 353\u001b[1;33m             \u001b[0mobj\u001b[0m\u001b[1;33m,\u001b[0m \u001b[0mend\u001b[0m \u001b[1;33m=\u001b[0m \u001b[0mself\u001b[0m\u001b[1;33m.\u001b[0m\u001b[0mscan_once\u001b[0m\u001b[1;33m(\u001b[0m\u001b[0ms\u001b[0m\u001b[1;33m,\u001b[0m \u001b[0midx\u001b[0m\u001b[1;33m)\u001b[0m\u001b[1;33m\u001b[0m\u001b[1;33m\u001b[0m\u001b[0m\n\u001b[0m\u001b[0;32m    354\u001b[0m         \u001b[1;32mexcept\u001b[0m \u001b[0mStopIteration\u001b[0m \u001b[1;32mas\u001b[0m \u001b[0merr\u001b[0m\u001b[1;33m:\u001b[0m\u001b[1;33m\u001b[0m\u001b[1;33m\u001b[0m\u001b[0m\n\u001b[0;32m    355\u001b[0m             \u001b[1;32mraise\u001b[0m \u001b[0mJSONDecodeError\u001b[0m\u001b[1;33m(\u001b[0m\u001b[1;34m\"Expecting value\"\u001b[0m\u001b[1;33m,\u001b[0m \u001b[0ms\u001b[0m\u001b[1;33m,\u001b[0m \u001b[0merr\u001b[0m\u001b[1;33m.\u001b[0m\u001b[0mvalue\u001b[0m\u001b[1;33m)\u001b[0m \u001b[1;32mfrom\u001b[0m \u001b[1;32mNone\u001b[0m\u001b[1;33m\u001b[0m\u001b[1;33m\u001b[0m\u001b[0m\n",
      "\u001b[1;31mJSONDecodeError\u001b[0m: Expecting property name enclosed in double quotes: line 2 column 9 (char 10)"
     ]
    }
   ],
   "source": [
    "# using json.loads() \n",
    "# convert dictionary string to dictionary \n",
    "\n",
    "res = json.loads(str(atre[0]))"
   ]
  },
  {
   "cell_type": "code",
   "execution_count": 47,
   "id": "sharp-monster",
   "metadata": {},
   "outputs": [
    {
     "ename": "NameError",
     "evalue": "name 'res' is not defined",
     "output_type": "error",
     "traceback": [
      "\u001b[1;31m---------------------------------------------------------------------------\u001b[0m",
      "\u001b[1;31mNameError\u001b[0m                                 Traceback (most recent call last)",
      "\u001b[1;32m<ipython-input-47-c08785e04264>\u001b[0m in \u001b[0;36m<module>\u001b[1;34m\u001b[0m\n\u001b[1;32m----> 1\u001b[1;33m \u001b[0mres\u001b[0m\u001b[1;33m\u001b[0m\u001b[1;33m\u001b[0m\u001b[0m\n\u001b[0m",
      "\u001b[1;31mNameError\u001b[0m: name 'res' is not defined"
     ]
    }
   ],
   "source": [
    "res"
   ]
  },
  {
   "cell_type": "code",
   "execution_count": 14,
   "id": "exempt-argentina",
   "metadata": {},
   "outputs": [
    {
     "ename": "InternalError",
     "evalue": "(psycopg2.errors.InFailedSqlTransaction) current transaction is aborted, commands ignored until end of transaction block\n\n[SQL: SELECT venue.id AS venue_id, venue.name AS venue_name, venue.city AS venue_city, venue.state AS venue_state, venue.address AS venue_address, venue.phone AS venue_phone, venue.image_link AS venue_image_link, venue.facebook_link AS venue_facebook_link, venue.description AS venue_description, venue.seeking_talent AS venue_seeking_talent, venue.website AS venue_website, venue.genres AS venue_genres \nFROM venue]\n(Background on this error at: http://sqlalche.me/e/13/2j85)",
     "output_type": "error",
     "traceback": [
      "\u001b[1;31m---------------------------------------------------------------------------\u001b[0m",
      "\u001b[1;31mInFailedSqlTransaction\u001b[0m                    Traceback (most recent call last)",
      "\u001b[1;32m~\\Anaconda3\\lib\\site-packages\\sqlalchemy\\engine\\base.py\u001b[0m in \u001b[0;36m_execute_context\u001b[1;34m(self, dialect, constructor, statement, parameters, *args)\u001b[0m\n\u001b[0;32m   1275\u001b[0m                 \u001b[1;32mif\u001b[0m \u001b[1;32mnot\u001b[0m \u001b[0mevt_handled\u001b[0m\u001b[1;33m:\u001b[0m\u001b[1;33m\u001b[0m\u001b[1;33m\u001b[0m\u001b[0m\n\u001b[1;32m-> 1276\u001b[1;33m                     self.dialect.do_execute(\n\u001b[0m\u001b[0;32m   1277\u001b[0m                         \u001b[0mcursor\u001b[0m\u001b[1;33m,\u001b[0m \u001b[0mstatement\u001b[0m\u001b[1;33m,\u001b[0m \u001b[0mparameters\u001b[0m\u001b[1;33m,\u001b[0m \u001b[0mcontext\u001b[0m\u001b[1;33m\u001b[0m\u001b[1;33m\u001b[0m\u001b[0m\n",
      "\u001b[1;32m~\\Anaconda3\\lib\\site-packages\\sqlalchemy\\engine\\default.py\u001b[0m in \u001b[0;36mdo_execute\u001b[1;34m(self, cursor, statement, parameters, context)\u001b[0m\n\u001b[0;32m    607\u001b[0m     \u001b[1;32mdef\u001b[0m \u001b[0mdo_execute\u001b[0m\u001b[1;33m(\u001b[0m\u001b[0mself\u001b[0m\u001b[1;33m,\u001b[0m \u001b[0mcursor\u001b[0m\u001b[1;33m,\u001b[0m \u001b[0mstatement\u001b[0m\u001b[1;33m,\u001b[0m \u001b[0mparameters\u001b[0m\u001b[1;33m,\u001b[0m \u001b[0mcontext\u001b[0m\u001b[1;33m=\u001b[0m\u001b[1;32mNone\u001b[0m\u001b[1;33m)\u001b[0m\u001b[1;33m:\u001b[0m\u001b[1;33m\u001b[0m\u001b[1;33m\u001b[0m\u001b[0m\n\u001b[1;32m--> 608\u001b[1;33m         \u001b[0mcursor\u001b[0m\u001b[1;33m.\u001b[0m\u001b[0mexecute\u001b[0m\u001b[1;33m(\u001b[0m\u001b[0mstatement\u001b[0m\u001b[1;33m,\u001b[0m \u001b[0mparameters\u001b[0m\u001b[1;33m)\u001b[0m\u001b[1;33m\u001b[0m\u001b[1;33m\u001b[0m\u001b[0m\n\u001b[0m\u001b[0;32m    609\u001b[0m \u001b[1;33m\u001b[0m\u001b[0m\n",
      "\u001b[1;31mInFailedSqlTransaction\u001b[0m: current transaction is aborted, commands ignored until end of transaction block\n",
      "\nThe above exception was the direct cause of the following exception:\n",
      "\u001b[1;31mInternalError\u001b[0m                             Traceback (most recent call last)",
      "\u001b[1;32m<ipython-input-14-c868e1dbdf7e>\u001b[0m in \u001b[0;36m<module>\u001b[1;34m\u001b[0m\n\u001b[1;32m----> 1\u001b[1;33m \u001b[0mVenue\u001b[0m\u001b[1;33m.\u001b[0m\u001b[0mquery\u001b[0m\u001b[1;33m.\u001b[0m\u001b[0mall\u001b[0m\u001b[1;33m(\u001b[0m\u001b[1;33m)\u001b[0m\u001b[1;33m\u001b[0m\u001b[1;33m\u001b[0m\u001b[0m\n\u001b[0m",
      "\u001b[1;32m~\\Anaconda3\\lib\\site-packages\\sqlalchemy\\orm\\query.py\u001b[0m in \u001b[0;36mall\u001b[1;34m(self)\u001b[0m\n\u001b[0;32m   3371\u001b[0m                 \u001b[1;33m:\u001b[0m\u001b[0mref\u001b[0m\u001b[1;33m:\u001b[0m\u001b[0;31m`\u001b[0m\u001b[0mfaq_query_deduplicating\u001b[0m\u001b[0;31m`\u001b[0m\u001b[1;33m\u001b[0m\u001b[1;33m\u001b[0m\u001b[0m\n\u001b[0;32m   3372\u001b[0m         \"\"\"\n\u001b[1;32m-> 3373\u001b[1;33m         \u001b[1;32mreturn\u001b[0m \u001b[0mlist\u001b[0m\u001b[1;33m(\u001b[0m\u001b[0mself\u001b[0m\u001b[1;33m)\u001b[0m\u001b[1;33m\u001b[0m\u001b[1;33m\u001b[0m\u001b[0m\n\u001b[0m\u001b[0;32m   3374\u001b[0m \u001b[1;33m\u001b[0m\u001b[0m\n\u001b[0;32m   3375\u001b[0m     \u001b[1;33m@\u001b[0m\u001b[0m_generative\u001b[0m\u001b[1;33m(\u001b[0m\u001b[0m_no_clauseelement_condition\u001b[0m\u001b[1;33m)\u001b[0m\u001b[1;33m\u001b[0m\u001b[1;33m\u001b[0m\u001b[0m\n",
      "\u001b[1;32m~\\Anaconda3\\lib\\site-packages\\sqlalchemy\\orm\\query.py\u001b[0m in \u001b[0;36m__iter__\u001b[1;34m(self)\u001b[0m\n\u001b[0;32m   3533\u001b[0m         \u001b[1;32mif\u001b[0m \u001b[0mself\u001b[0m\u001b[1;33m.\u001b[0m\u001b[0m_autoflush\u001b[0m \u001b[1;32mand\u001b[0m \u001b[1;32mnot\u001b[0m \u001b[0mself\u001b[0m\u001b[1;33m.\u001b[0m\u001b[0m_populate_existing\u001b[0m\u001b[1;33m:\u001b[0m\u001b[1;33m\u001b[0m\u001b[1;33m\u001b[0m\u001b[0m\n\u001b[0;32m   3534\u001b[0m             \u001b[0mself\u001b[0m\u001b[1;33m.\u001b[0m\u001b[0msession\u001b[0m\u001b[1;33m.\u001b[0m\u001b[0m_autoflush\u001b[0m\u001b[1;33m(\u001b[0m\u001b[1;33m)\u001b[0m\u001b[1;33m\u001b[0m\u001b[1;33m\u001b[0m\u001b[0m\n\u001b[1;32m-> 3535\u001b[1;33m         \u001b[1;32mreturn\u001b[0m \u001b[0mself\u001b[0m\u001b[1;33m.\u001b[0m\u001b[0m_execute_and_instances\u001b[0m\u001b[1;33m(\u001b[0m\u001b[0mcontext\u001b[0m\u001b[1;33m)\u001b[0m\u001b[1;33m\u001b[0m\u001b[1;33m\u001b[0m\u001b[0m\n\u001b[0m\u001b[0;32m   3536\u001b[0m \u001b[1;33m\u001b[0m\u001b[0m\n\u001b[0;32m   3537\u001b[0m     \u001b[1;32mdef\u001b[0m \u001b[0m__str__\u001b[0m\u001b[1;33m(\u001b[0m\u001b[0mself\u001b[0m\u001b[1;33m)\u001b[0m\u001b[1;33m:\u001b[0m\u001b[1;33m\u001b[0m\u001b[1;33m\u001b[0m\u001b[0m\n",
      "\u001b[1;32m~\\Anaconda3\\lib\\site-packages\\sqlalchemy\\orm\\query.py\u001b[0m in \u001b[0;36m_execute_and_instances\u001b[1;34m(self, querycontext)\u001b[0m\n\u001b[0;32m   3558\u001b[0m         )\n\u001b[0;32m   3559\u001b[0m \u001b[1;33m\u001b[0m\u001b[0m\n\u001b[1;32m-> 3560\u001b[1;33m         \u001b[0mresult\u001b[0m \u001b[1;33m=\u001b[0m \u001b[0mconn\u001b[0m\u001b[1;33m.\u001b[0m\u001b[0mexecute\u001b[0m\u001b[1;33m(\u001b[0m\u001b[0mquerycontext\u001b[0m\u001b[1;33m.\u001b[0m\u001b[0mstatement\u001b[0m\u001b[1;33m,\u001b[0m \u001b[0mself\u001b[0m\u001b[1;33m.\u001b[0m\u001b[0m_params\u001b[0m\u001b[1;33m)\u001b[0m\u001b[1;33m\u001b[0m\u001b[1;33m\u001b[0m\u001b[0m\n\u001b[0m\u001b[0;32m   3561\u001b[0m         \u001b[1;32mreturn\u001b[0m \u001b[0mloading\u001b[0m\u001b[1;33m.\u001b[0m\u001b[0minstances\u001b[0m\u001b[1;33m(\u001b[0m\u001b[0mquerycontext\u001b[0m\u001b[1;33m.\u001b[0m\u001b[0mquery\u001b[0m\u001b[1;33m,\u001b[0m \u001b[0mresult\u001b[0m\u001b[1;33m,\u001b[0m \u001b[0mquerycontext\u001b[0m\u001b[1;33m)\u001b[0m\u001b[1;33m\u001b[0m\u001b[1;33m\u001b[0m\u001b[0m\n\u001b[0;32m   3562\u001b[0m \u001b[1;33m\u001b[0m\u001b[0m\n",
      "\u001b[1;32m~\\Anaconda3\\lib\\site-packages\\sqlalchemy\\engine\\base.py\u001b[0m in \u001b[0;36mexecute\u001b[1;34m(self, object_, *multiparams, **params)\u001b[0m\n\u001b[0;32m   1009\u001b[0m             )\n\u001b[0;32m   1010\u001b[0m         \u001b[1;32melse\u001b[0m\u001b[1;33m:\u001b[0m\u001b[1;33m\u001b[0m\u001b[1;33m\u001b[0m\u001b[0m\n\u001b[1;32m-> 1011\u001b[1;33m             \u001b[1;32mreturn\u001b[0m \u001b[0mmeth\u001b[0m\u001b[1;33m(\u001b[0m\u001b[0mself\u001b[0m\u001b[1;33m,\u001b[0m \u001b[0mmultiparams\u001b[0m\u001b[1;33m,\u001b[0m \u001b[0mparams\u001b[0m\u001b[1;33m)\u001b[0m\u001b[1;33m\u001b[0m\u001b[1;33m\u001b[0m\u001b[0m\n\u001b[0m\u001b[0;32m   1012\u001b[0m \u001b[1;33m\u001b[0m\u001b[0m\n\u001b[0;32m   1013\u001b[0m     \u001b[1;32mdef\u001b[0m \u001b[0m_execute_function\u001b[0m\u001b[1;33m(\u001b[0m\u001b[0mself\u001b[0m\u001b[1;33m,\u001b[0m \u001b[0mfunc\u001b[0m\u001b[1;33m,\u001b[0m \u001b[0mmultiparams\u001b[0m\u001b[1;33m,\u001b[0m \u001b[0mparams\u001b[0m\u001b[1;33m)\u001b[0m\u001b[1;33m:\u001b[0m\u001b[1;33m\u001b[0m\u001b[1;33m\u001b[0m\u001b[0m\n",
      "\u001b[1;32m~\\Anaconda3\\lib\\site-packages\\sqlalchemy\\sql\\elements.py\u001b[0m in \u001b[0;36m_execute_on_connection\u001b[1;34m(self, connection, multiparams, params)\u001b[0m\n\u001b[0;32m    296\u001b[0m     \u001b[1;32mdef\u001b[0m \u001b[0m_execute_on_connection\u001b[0m\u001b[1;33m(\u001b[0m\u001b[0mself\u001b[0m\u001b[1;33m,\u001b[0m \u001b[0mconnection\u001b[0m\u001b[1;33m,\u001b[0m \u001b[0mmultiparams\u001b[0m\u001b[1;33m,\u001b[0m \u001b[0mparams\u001b[0m\u001b[1;33m)\u001b[0m\u001b[1;33m:\u001b[0m\u001b[1;33m\u001b[0m\u001b[1;33m\u001b[0m\u001b[0m\n\u001b[0;32m    297\u001b[0m         \u001b[1;32mif\u001b[0m \u001b[0mself\u001b[0m\u001b[1;33m.\u001b[0m\u001b[0msupports_execution\u001b[0m\u001b[1;33m:\u001b[0m\u001b[1;33m\u001b[0m\u001b[1;33m\u001b[0m\u001b[0m\n\u001b[1;32m--> 298\u001b[1;33m             \u001b[1;32mreturn\u001b[0m \u001b[0mconnection\u001b[0m\u001b[1;33m.\u001b[0m\u001b[0m_execute_clauseelement\u001b[0m\u001b[1;33m(\u001b[0m\u001b[0mself\u001b[0m\u001b[1;33m,\u001b[0m \u001b[0mmultiparams\u001b[0m\u001b[1;33m,\u001b[0m \u001b[0mparams\u001b[0m\u001b[1;33m)\u001b[0m\u001b[1;33m\u001b[0m\u001b[1;33m\u001b[0m\u001b[0m\n\u001b[0m\u001b[0;32m    299\u001b[0m         \u001b[1;32melse\u001b[0m\u001b[1;33m:\u001b[0m\u001b[1;33m\u001b[0m\u001b[1;33m\u001b[0m\u001b[0m\n\u001b[0;32m    300\u001b[0m             \u001b[1;32mraise\u001b[0m \u001b[0mexc\u001b[0m\u001b[1;33m.\u001b[0m\u001b[0mObjectNotExecutableError\u001b[0m\u001b[1;33m(\u001b[0m\u001b[0mself\u001b[0m\u001b[1;33m)\u001b[0m\u001b[1;33m\u001b[0m\u001b[1;33m\u001b[0m\u001b[0m\n",
      "\u001b[1;32m~\\Anaconda3\\lib\\site-packages\\sqlalchemy\\engine\\base.py\u001b[0m in \u001b[0;36m_execute_clauseelement\u001b[1;34m(self, elem, multiparams, params)\u001b[0m\n\u001b[0;32m   1122\u001b[0m             )\n\u001b[0;32m   1123\u001b[0m \u001b[1;33m\u001b[0m\u001b[0m\n\u001b[1;32m-> 1124\u001b[1;33m         ret = self._execute_context(\n\u001b[0m\u001b[0;32m   1125\u001b[0m             \u001b[0mdialect\u001b[0m\u001b[1;33m,\u001b[0m\u001b[1;33m\u001b[0m\u001b[1;33m\u001b[0m\u001b[0m\n\u001b[0;32m   1126\u001b[0m             \u001b[0mdialect\u001b[0m\u001b[1;33m.\u001b[0m\u001b[0mexecution_ctx_cls\u001b[0m\u001b[1;33m.\u001b[0m\u001b[0m_init_compiled\u001b[0m\u001b[1;33m,\u001b[0m\u001b[1;33m\u001b[0m\u001b[1;33m\u001b[0m\u001b[0m\n",
      "\u001b[1;32m~\\Anaconda3\\lib\\site-packages\\sqlalchemy\\engine\\base.py\u001b[0m in \u001b[0;36m_execute_context\u001b[1;34m(self, dialect, constructor, statement, parameters, *args)\u001b[0m\n\u001b[0;32m   1314\u001b[0m \u001b[1;33m\u001b[0m\u001b[0m\n\u001b[0;32m   1315\u001b[0m         \u001b[1;32mexcept\u001b[0m \u001b[0mBaseException\u001b[0m \u001b[1;32mas\u001b[0m \u001b[0me\u001b[0m\u001b[1;33m:\u001b[0m\u001b[1;33m\u001b[0m\u001b[1;33m\u001b[0m\u001b[0m\n\u001b[1;32m-> 1316\u001b[1;33m             self._handle_dbapi_exception(\n\u001b[0m\u001b[0;32m   1317\u001b[0m                 \u001b[0me\u001b[0m\u001b[1;33m,\u001b[0m \u001b[0mstatement\u001b[0m\u001b[1;33m,\u001b[0m \u001b[0mparameters\u001b[0m\u001b[1;33m,\u001b[0m \u001b[0mcursor\u001b[0m\u001b[1;33m,\u001b[0m \u001b[0mcontext\u001b[0m\u001b[1;33m\u001b[0m\u001b[1;33m\u001b[0m\u001b[0m\n\u001b[0;32m   1318\u001b[0m             )\n",
      "\u001b[1;32m~\\Anaconda3\\lib\\site-packages\\sqlalchemy\\engine\\base.py\u001b[0m in \u001b[0;36m_handle_dbapi_exception\u001b[1;34m(self, e, statement, parameters, cursor, context)\u001b[0m\n\u001b[0;32m   1508\u001b[0m                 \u001b[0mutil\u001b[0m\u001b[1;33m.\u001b[0m\u001b[0mraise_\u001b[0m\u001b[1;33m(\u001b[0m\u001b[0mnewraise\u001b[0m\u001b[1;33m,\u001b[0m \u001b[0mwith_traceback\u001b[0m\u001b[1;33m=\u001b[0m\u001b[0mexc_info\u001b[0m\u001b[1;33m[\u001b[0m\u001b[1;36m2\u001b[0m\u001b[1;33m]\u001b[0m\u001b[1;33m,\u001b[0m \u001b[0mfrom_\u001b[0m\u001b[1;33m=\u001b[0m\u001b[0me\u001b[0m\u001b[1;33m)\u001b[0m\u001b[1;33m\u001b[0m\u001b[1;33m\u001b[0m\u001b[0m\n\u001b[0;32m   1509\u001b[0m             \u001b[1;32melif\u001b[0m \u001b[0mshould_wrap\u001b[0m\u001b[1;33m:\u001b[0m\u001b[1;33m\u001b[0m\u001b[1;33m\u001b[0m\u001b[0m\n\u001b[1;32m-> 1510\u001b[1;33m                 util.raise_(\n\u001b[0m\u001b[0;32m   1511\u001b[0m                     \u001b[0msqlalchemy_exception\u001b[0m\u001b[1;33m,\u001b[0m \u001b[0mwith_traceback\u001b[0m\u001b[1;33m=\u001b[0m\u001b[0mexc_info\u001b[0m\u001b[1;33m[\u001b[0m\u001b[1;36m2\u001b[0m\u001b[1;33m]\u001b[0m\u001b[1;33m,\u001b[0m \u001b[0mfrom_\u001b[0m\u001b[1;33m=\u001b[0m\u001b[0me\u001b[0m\u001b[1;33m\u001b[0m\u001b[1;33m\u001b[0m\u001b[0m\n\u001b[0;32m   1512\u001b[0m                 )\n",
      "\u001b[1;32m~\\Anaconda3\\lib\\site-packages\\sqlalchemy\\util\\compat.py\u001b[0m in \u001b[0;36mraise_\u001b[1;34m(***failed resolving arguments***)\u001b[0m\n\u001b[0;32m    180\u001b[0m \u001b[1;33m\u001b[0m\u001b[0m\n\u001b[0;32m    181\u001b[0m         \u001b[1;32mtry\u001b[0m\u001b[1;33m:\u001b[0m\u001b[1;33m\u001b[0m\u001b[1;33m\u001b[0m\u001b[0m\n\u001b[1;32m--> 182\u001b[1;33m             \u001b[1;32mraise\u001b[0m \u001b[0mexception\u001b[0m\u001b[1;33m\u001b[0m\u001b[1;33m\u001b[0m\u001b[0m\n\u001b[0m\u001b[0;32m    183\u001b[0m         \u001b[1;32mfinally\u001b[0m\u001b[1;33m:\u001b[0m\u001b[1;33m\u001b[0m\u001b[1;33m\u001b[0m\u001b[0m\n\u001b[0;32m    184\u001b[0m             \u001b[1;31m# credit to\u001b[0m\u001b[1;33m\u001b[0m\u001b[1;33m\u001b[0m\u001b[1;33m\u001b[0m\u001b[0m\n",
      "\u001b[1;32m~\\Anaconda3\\lib\\site-packages\\sqlalchemy\\engine\\base.py\u001b[0m in \u001b[0;36m_execute_context\u001b[1;34m(self, dialect, constructor, statement, parameters, *args)\u001b[0m\n\u001b[0;32m   1274\u001b[0m                             \u001b[1;32mbreak\u001b[0m\u001b[1;33m\u001b[0m\u001b[1;33m\u001b[0m\u001b[0m\n\u001b[0;32m   1275\u001b[0m                 \u001b[1;32mif\u001b[0m \u001b[1;32mnot\u001b[0m \u001b[0mevt_handled\u001b[0m\u001b[1;33m:\u001b[0m\u001b[1;33m\u001b[0m\u001b[1;33m\u001b[0m\u001b[0m\n\u001b[1;32m-> 1276\u001b[1;33m                     self.dialect.do_execute(\n\u001b[0m\u001b[0;32m   1277\u001b[0m                         \u001b[0mcursor\u001b[0m\u001b[1;33m,\u001b[0m \u001b[0mstatement\u001b[0m\u001b[1;33m,\u001b[0m \u001b[0mparameters\u001b[0m\u001b[1;33m,\u001b[0m \u001b[0mcontext\u001b[0m\u001b[1;33m\u001b[0m\u001b[1;33m\u001b[0m\u001b[0m\n\u001b[0;32m   1278\u001b[0m                     )\n",
      "\u001b[1;32m~\\Anaconda3\\lib\\site-packages\\sqlalchemy\\engine\\default.py\u001b[0m in \u001b[0;36mdo_execute\u001b[1;34m(self, cursor, statement, parameters, context)\u001b[0m\n\u001b[0;32m    606\u001b[0m \u001b[1;33m\u001b[0m\u001b[0m\n\u001b[0;32m    607\u001b[0m     \u001b[1;32mdef\u001b[0m \u001b[0mdo_execute\u001b[0m\u001b[1;33m(\u001b[0m\u001b[0mself\u001b[0m\u001b[1;33m,\u001b[0m \u001b[0mcursor\u001b[0m\u001b[1;33m,\u001b[0m \u001b[0mstatement\u001b[0m\u001b[1;33m,\u001b[0m \u001b[0mparameters\u001b[0m\u001b[1;33m,\u001b[0m \u001b[0mcontext\u001b[0m\u001b[1;33m=\u001b[0m\u001b[1;32mNone\u001b[0m\u001b[1;33m)\u001b[0m\u001b[1;33m:\u001b[0m\u001b[1;33m\u001b[0m\u001b[1;33m\u001b[0m\u001b[0m\n\u001b[1;32m--> 608\u001b[1;33m         \u001b[0mcursor\u001b[0m\u001b[1;33m.\u001b[0m\u001b[0mexecute\u001b[0m\u001b[1;33m(\u001b[0m\u001b[0mstatement\u001b[0m\u001b[1;33m,\u001b[0m \u001b[0mparameters\u001b[0m\u001b[1;33m)\u001b[0m\u001b[1;33m\u001b[0m\u001b[1;33m\u001b[0m\u001b[0m\n\u001b[0m\u001b[0;32m    609\u001b[0m \u001b[1;33m\u001b[0m\u001b[0m\n\u001b[0;32m    610\u001b[0m     \u001b[1;32mdef\u001b[0m \u001b[0mdo_execute_no_params\u001b[0m\u001b[1;33m(\u001b[0m\u001b[0mself\u001b[0m\u001b[1;33m,\u001b[0m \u001b[0mcursor\u001b[0m\u001b[1;33m,\u001b[0m \u001b[0mstatement\u001b[0m\u001b[1;33m,\u001b[0m \u001b[0mcontext\u001b[0m\u001b[1;33m=\u001b[0m\u001b[1;32mNone\u001b[0m\u001b[1;33m)\u001b[0m\u001b[1;33m:\u001b[0m\u001b[1;33m\u001b[0m\u001b[1;33m\u001b[0m\u001b[0m\n",
      "\u001b[1;31mInternalError\u001b[0m: (psycopg2.errors.InFailedSqlTransaction) current transaction is aborted, commands ignored until end of transaction block\n\n[SQL: SELECT venue.id AS venue_id, venue.name AS venue_name, venue.city AS venue_city, venue.state AS venue_state, venue.address AS venue_address, venue.phone AS venue_phone, venue.image_link AS venue_image_link, venue.facebook_link AS venue_facebook_link, venue.description AS venue_description, venue.seeking_talent AS venue_seeking_talent, venue.website AS venue_website, venue.genres AS venue_genres \nFROM venue]\n(Background on this error at: http://sqlalche.me/e/13/2j85)"
     ]
    }
   ],
   "source": [
    "Venue.query.all()"
   ]
  },
  {
   "cell_type": "code",
   "execution_count": 50,
   "id": "accomplished-familiar",
   "metadata": {},
   "outputs": [
    {
     "data": {
      "text/plain": [
       "MetaData(bind=None)"
      ]
     },
     "execution_count": 50,
     "metadata": {},
     "output_type": "execute_result"
    }
   ],
   "source": [
    "Venue.metadata"
   ]
  },
  {
   "cell_type": "code",
   "execution_count": 51,
   "id": "present-friday",
   "metadata": {},
   "outputs": [],
   "source": [
    "from sqlalchemy.inspection import inspect\n"
   ]
  },
  {
   "cell_type": "code",
   "execution_count": 54,
   "id": "hawaiian-conversion",
   "metadata": {},
   "outputs": [
    {
     "name": "stdout",
     "output_type": "stream",
     "text": [
      "id\n",
      "name\n",
      "city\n",
      "state\n",
      "address\n",
      "phone\n",
      "image_link\n",
      "facebook_link\n",
      "description\n",
      "seeking_talent\n",
      "website\n",
      "genres\n"
     ]
    }
   ],
   "source": [
    "table = inspect(Venue)\n",
    "for column in table.c:\n",
    "    print(column.name)"
   ]
  },
  {
   "cell_type": "code",
   "execution_count": 64,
   "id": "difficult-swift",
   "metadata": {},
   "outputs": [
    {
     "ename": "TypeError",
     "evalue": "'result' object is not callable",
     "output_type": "error",
     "traceback": [
      "\u001b[1;31m---------------------------------------------------------------------------\u001b[0m",
      "\u001b[1;31mTypeError\u001b[0m                                 Traceback (most recent call last)",
      "\u001b[1;32m<ipython-input-64-eea07e8da0fe>\u001b[0m in \u001b[0;36m<module>\u001b[1;34m\u001b[0m\n\u001b[1;32m----> 1\u001b[1;33m \u001b[0mareas\u001b[0m\u001b[1;33m[\u001b[0m\u001b[1;36m0\u001b[0m\u001b[1;33m]\u001b[0m\u001b[1;33m(\u001b[0m\u001b[0mcolumn\u001b[0m\u001b[1;33m.\u001b[0m\u001b[0mname\u001b[0m\u001b[1;33m)\u001b[0m\u001b[1;33m\u001b[0m\u001b[1;33m\u001b[0m\u001b[0m\n\u001b[0m",
      "\u001b[1;31mTypeError\u001b[0m: 'result' object is not callable"
     ]
    }
   ],
   "source": [
    "areas[0](column.name)"
   ]
  },
  {
   "cell_type": "code",
   "execution_count": 58,
   "id": "controlling-smoke",
   "metadata": {},
   "outputs": [
    {
     "data": {
      "text/plain": [
       "Column('name', String(), table=<venue>)"
      ]
     },
     "execution_count": 58,
     "metadata": {},
     "output_type": "execute_result"
    }
   ],
   "source": [
    "table.c.name"
   ]
  },
  {
   "cell_type": "code",
   "execution_count": 53,
   "id": "imposed-constitutional",
   "metadata": {},
   "outputs": [
    {
     "name": "stdout",
     "output_type": "stream",
     "text": [
      "id\n",
      "name\n",
      "city\n",
      "state\n",
      "phone\n",
      "genres\n",
      "image_link\n",
      "facebook_link\n",
      "seeking_venue\n",
      "seeking_description\n"
     ]
    }
   ],
   "source": [
    "table = inspect(Artist)\n",
    "for column in table.c:\n",
    "    print(column.name)"
   ]
  },
  {
   "cell_type": "code",
   "execution_count": 54,
   "id": "scenic-surgeon",
   "metadata": {},
   "outputs": [
    {
     "name": "stdout",
     "output_type": "stream",
     "text": [
      "id\n",
      "artist_id\n",
      "venue_id\n",
      "start_time\n"
     ]
    }
   ],
   "source": [
    "table = inspect(Show)\n",
    "for column in table.c:\n",
    "    print(column.name)"
   ]
  },
  {
   "cell_type": "code",
   "execution_count": 55,
   "id": "particular-trace",
   "metadata": {},
   "outputs": [
    {
     "data": {
      "text/plain": [
       "['id', 'artist_id', 'venue_id', 'start_time']"
      ]
     },
     "execution_count": 55,
     "metadata": {},
     "output_type": "execute_result"
    }
   ],
   "source": [
    "[column.name for column in inspect(Show).c] #attributes"
   ]
  },
  {
   "cell_type": "code",
   "execution_count": 56,
   "id": "adolescent-photograph",
   "metadata": {},
   "outputs": [],
   "source": [
    "import barnum"
   ]
  },
  {
   "cell_type": "code",
   "execution_count": 28,
   "id": "related-addition",
   "metadata": {},
   "outputs": [
    {
     "data": {
      "text/plain": [
       "('Carol', 'Appleton')"
      ]
     },
     "execution_count": 28,
     "metadata": {},
     "output_type": "execute_result"
    }
   ],
   "source": [
    "barnum.create_name()"
   ]
  },
  {
   "cell_type": "code",
   "execution_count": 29,
   "id": "registered-sound",
   "metadata": {},
   "outputs": [],
   "source": [
    "from faker import Faker"
   ]
  },
  {
   "cell_type": "code",
   "execution_count": 30,
   "id": "settled-marker",
   "metadata": {},
   "outputs": [
    {
     "name": "stdout",
     "output_type": "stream",
     "text": [
      "坂本 洋介\n",
      "福島県武蔵村山市秋葉原41丁目13番12号 コート東和町418\n",
      "Donald Cain\n",
      "01574 Tiffany Fields\n",
      "Harriston, WA 84944\n",
      "Jennifer Gonzalez\n",
      "Incrocio Mastroianni 652\n",
      "Borgo Susanna, 12044 Potenza (NA)\n",
      "Piermaria Lombroso\n",
      "Canale Alderano 9 Piano 2\n",
      "Sesto Martina salentino, 92870 Perugia (KR)\n",
      "藤井 さゆり\n",
      "USS Robertson\n",
      "FPO AP 92791\n",
      "Vickie Tucker\n",
      "6015 Fleming Land Suite 179\n",
      "Jeffreyport, WI 44920\n",
      "中島 健一\n",
      "岐阜県横浜市旭区大京町9丁目23番1号 ハイツ三筋758\n",
      "Maurizio Tartaglia\n",
      "56572 Knight Cove\n",
      "New Alyssabury, HI 30563\n",
      "遠藤 零\n",
      "336 Martin Drive\n",
      "East Jeremy, RI 04404\n",
      "Paloma Jilani-Argenti\n",
      "Borgo Fattori 399\n",
      "Graziella sardo, 71522 Medio Campidano (PA)\n",
      "Renzo Cibin\n",
      "広島県江東区東上野28丁目24番16号 クレスト花川戸921\n",
      "Kelly Best\n",
      "6092 Dennis Knolls\n",
      "Johnstonside, ID 73508\n",
      "佐々木 健一\n",
      "Contrada Sagese 939 Piano 5\n",
      "Mascagni terme, 05378 Verona (PA)\n",
      "Concetta Calbo\n",
      "岡山県利島村土呂部20丁目7番4号\n",
      "Katherine White\n",
      "山梨県多摩市白金台6丁目3番8号 パレス氏家新田334\n",
      "Roman Iacobucci\n",
      "愛媛県横浜市中区三筋29丁目19番5号 アーバン山中新田750\n"
     ]
    }
   ],
   "source": [
    "intl_fake = Faker(['it_IT', 'en_US', 'ja_JP'])\n",
    "\n",
    "fake = Faker()\n",
    "\n",
    "for _ in range(16):\n",
    "    print(intl_fake.name())\n",
    "    print(intl_fake.address())"
   ]
  },
  {
   "cell_type": "code",
   "execution_count": 31,
   "id": "color-tribune",
   "metadata": {},
   "outputs": [
    {
     "data": {
      "text/plain": [
       "'+1-205-299-1490x6391'"
      ]
     },
     "execution_count": 31,
     "metadata": {},
     "output_type": "execute_result"
    }
   ],
   "source": [
    "fake.phone_number()"
   ]
  },
  {
   "cell_type": "code",
   "execution_count": 32,
   "id": "silent-entry",
   "metadata": {},
   "outputs": [
    {
     "name": "stdout",
     "output_type": "stream",
     "text": [
      "https://encrypted-tbn0.gstatic.com/images?q=tbn:ANd9GcTDCc32yG56YqP038TAExNKKb2zVrxm0dohsD95tCuMFufFa5j6wxXcCMR7xgA&s\n"
     ]
    }
   ],
   "source": [
    "# generate band images\n",
    "\n",
    "from bs4 import BeautifulSoup\n",
    "import urllib.parse\n",
    "from urllib.request import urlopen,Request\n",
    "import random\n",
    "\n",
    "\n",
    "requester = {'User-Agent': 'Mozilla/5.0'}\n",
    "req=Request(\"https://www.google.com/search?q=music+band+concert&safe=strict&rlz=1C1CHBD_enSA864SA864&sxsrf=ALeKk02fYTqwhxXXdNi5qHt_8ydduk3U7g:1614361294720&source=lnms&tbm=isch&sa=X&ved=2ahUKEwjw6Yq8jIjvAhUC8hQKHVT3CWsQ_AUoAXoECCcQAw&biw=1920&bih=979&dpr=1\",headers=requester)\n",
    "u =urlopen(req)\n",
    "\n",
    "\n",
    "soup = BeautifulSoup(u.read(), features=\"lxml\")\n",
    "\n",
    "\n",
    "\n",
    "links = soup.find_all('a')\n",
    "\n",
    "images =[]\n",
    "for img in soup.findAll('img'):\n",
    "    images.append(img.get('src'))\n",
    "\n",
    "img=random.choice(images)    \n",
    "print(img)"
   ]
  },
  {
   "cell_type": "code",
   "execution_count": 33,
   "id": "comic-village",
   "metadata": {},
   "outputs": [
    {
     "data": {
      "text/plain": [
       "21"
      ]
     },
     "execution_count": 33,
     "metadata": {},
     "output_type": "execute_result"
    }
   ],
   "source": [
    "len(images)"
   ]
  },
  {
   "cell_type": "code",
   "execution_count": 50,
   "id": "whole-classic",
   "metadata": {},
   "outputs": [],
   "source": [
    "band_images = images[1:]"
   ]
  },
  {
   "cell_type": "code",
   "execution_count": 63,
   "id": "classified-spirit",
   "metadata": {},
   "outputs": [],
   "source": [
    "# generate venue images\n",
    "\n",
    "req=Request(\"https://www.google.com/search?q=music+venue&tbm=isch&ved=2ahUKEwjXvOuH2InvAhWZgM4BHUtiD2sQ2-cCegQIABAA&oq=music+venue&gs_lcp=CgNpbWcQAzICCAAyAggAMgIIADICCAAyAggAMgIIADICCAAyAggAMgIIADICCAA6BQgAELEDUPGIAViDkwFg_ZQBaABwAHgAgAHGAYgBowaSAQMwLjWYAQCgAQGqAQtnd3Mtd2l6LWltZ8ABAQ&sclient=img&ei=SQg6YJf0O5mBur4Py8S92AY&bih=979&biw=1903&rlz=1C1CHBD_enSA864SA864&safe=strict&hl=en\",headers=requester)\n",
    "u =urlopen(req)\n",
    "\n",
    "\n",
    "soup = BeautifulSoup(u.read(), features=\"lxml\")\n",
    "\n",
    "\n",
    "\n",
    "links = soup.find_all('a')\n",
    "\n",
    "images =[]\n",
    "for img in soup.findAll('img'):\n",
    "    images.append(img.get('src'))"
   ]
  },
  {
   "cell_type": "code",
   "execution_count": 66,
   "id": "major-schedule",
   "metadata": {},
   "outputs": [],
   "source": [
    "venue_images = images[1:]"
   ]
  },
  {
   "cell_type": "code",
   "execution_count": 49,
   "id": "integrated-system",
   "metadata": {},
   "outputs": [],
   "source": [
    "genres_list = ['Alternative', 'Blues', 'Classical', 'Country', 'Electronic', 'Folk', 'Funk', 'Hip-Hop', 'Heavy Metal', 'Instrumental', 'Jazz', 'Musical Theatre', 'Pop', 'Punk', 'R&B', 'Reggae', 'Rock n Roll', 'Soul', 'Other']"
   ]
  },
  {
   "cell_type": "code",
   "execution_count": 74,
   "id": "tracked-ranch",
   "metadata": {},
   "outputs": [
    {
     "data": {
      "text/plain": [
       "'Jonesville'"
      ]
     },
     "execution_count": 74,
     "metadata": {},
     "output_type": "execute_result"
    }
   ],
   "source": [
    "fake.city()"
   ]
  },
  {
   "cell_type": "code",
   "execution_count": 75,
   "id": "detailed-input",
   "metadata": {},
   "outputs": [
    {
     "data": {
      "text/plain": [
       "'Arizona'"
      ]
     },
     "execution_count": 75,
     "metadata": {},
     "output_type": "execute_result"
    }
   ],
   "source": [
    "fake.state()"
   ]
  },
  {
   "cell_type": "code",
   "execution_count": 62,
   "id": "critical-blackberry",
   "metadata": {},
   "outputs": [
    {
     "data": {
      "text/plain": [
       "'埼玉県横浜市南区東大和町41丁目12番9号'"
      ]
     },
     "execution_count": 62,
     "metadata": {},
     "output_type": "execute_result"
    }
   ],
   "source": [
    "fake.address()"
   ]
  },
  {
   "cell_type": "code",
   "execution_count": 40,
   "id": "compound-double",
   "metadata": {},
   "outputs": [],
   "source": [
    "# create a Session\n",
    "from sqlalchemy.orm import sessionmaker\n",
    "\n",
    "# create a configured \"Session\" class\n",
    "Session = sessionmaker(bind=engine)\n",
    "\n",
    "session = Session()"
   ]
  },
  {
   "cell_type": "code",
   "execution_count": 41,
   "id": "clean-policy",
   "metadata": {},
   "outputs": [],
   "source": [
    "session.rollback()"
   ]
  },
  {
   "cell_type": "code",
   "execution_count": 92,
   "id": "preliminary-conservation",
   "metadata": {},
   "outputs": [
    {
     "data": {
      "text/plain": [
       "[]"
      ]
     },
     "execution_count": 92,
     "metadata": {},
     "output_type": "execute_result"
    }
   ],
   "source": [
    "artist_query = session.query(Artist).all()\n",
    "artist_query"
   ]
  },
  {
   "cell_type": "code",
   "execution_count": 129,
   "id": "violent-exhibition",
   "metadata": {},
   "outputs": [],
   "source": [
    "for i in range(0, 20):\n",
    "    # add venue\n",
    "    name = fake.company()\n",
    "    city = fake.city()\n",
    "    state = fake.state()\n",
    "    address = fake.address()\n",
    "    phone = fake.phone_number()\n",
    "    genres = random.sample(genres_list, random.randint(1,len(genres_list)))\n",
    "    image_link = venue_images[i]\n",
    "    facebook_link = 'https://facebook.com/' + name.lower().replace(\" \", \"_\") + '/' + fake.uri_path()\n",
    "    website = 'https://www.' +  name.lower().replace(\" \", \"\") + random.choice(['.com', '.net', '.org', '.info', '.tv'])\n",
    "    seeking_talent = fake.boolean(chance_of_getting_true=50) # https://stackoverflow.com/questions/715417/converting-from-a-string-to-boolean-in-python\n",
    "    description = fake.catch_phrase() + '. ' + fake.sentence()\n",
    "    \n",
    "    venue = Venue(name=name, city=city, state=state, address=address, phone=phone, genres=genres, facebook_link=facebook_link, image_link=image_link, website=website, seeking_talent=seeking_talent, description=description)\n",
    "    session.add(venue)\n",
    "    session.commit()\n",
    "    "
   ]
  },
  {
   "cell_type": "code",
   "execution_count": 130,
   "id": "behind-harassment",
   "metadata": {},
   "outputs": [
    {
     "data": {
      "text/plain": [
       "100"
      ]
     },
     "execution_count": 130,
     "metadata": {},
     "output_type": "execute_result"
    }
   ],
   "source": [
    "len(Venue.query.all())"
   ]
  },
  {
   "cell_type": "code",
   "execution_count": 138,
   "id": "automotive-springfield",
   "metadata": {},
   "outputs": [],
   "source": [
    "for i in range(0, 20):\n",
    "    # add artist\n",
    "    name = intl_fake.name()\n",
    "    city = fake.city()\n",
    "    state = fake.state()\n",
    "    phone = fake.phone_number()\n",
    "    genres = random.choice(genres_list)\n",
    "    image_link = band_images[i]\n",
    "    facebook_link = 'https://facebook.com/' + name.lower().replace(\" \", \"_\") + '/' + fake.uri_path()\n",
    "    seeking_venue = fake.boolean(chance_of_getting_true=50) # https://stackoverflow.com/questions/715417/converting-from-a-string-to-boolean-in-python\n",
    "    seeking_description = fake.catch_phrase() + '. ' + fake.sentence()\n",
    "    \n",
    "    artist = Artist(name=name, city=city, state=state, phone=phone, genres=genres, facebook_link=facebook_link, image_link=image_link, seeking_venue=seeking_venue, seeking_description=seeking_description)\n",
    "    session.add(artist)\n",
    "    session.commit()\n",
    "    "
   ]
  },
  {
   "cell_type": "code",
   "execution_count": 139,
   "id": "regional-latvia",
   "metadata": {},
   "outputs": [
    {
     "data": {
      "text/plain": [
       "80"
      ]
     },
     "execution_count": 139,
     "metadata": {},
     "output_type": "execute_result"
    }
   ],
   "source": [
    "len(Artist.query.all())"
   ]
  },
  {
   "cell_type": "code",
   "execution_count": 195,
   "id": "divine-clerk",
   "metadata": {},
   "outputs": [],
   "source": [
    "art = Artist.query.all()"
   ]
  },
  {
   "cell_type": "code",
   "execution_count": 196,
   "id": "terminal-invention",
   "metadata": {},
   "outputs": [
    {
     "data": {
      "text/plain": [
       "list"
      ]
     },
     "execution_count": 196,
     "metadata": {},
     "output_type": "execute_result"
    }
   ],
   "source": [
    "type(art)"
   ]
  },
  {
   "cell_type": "code",
   "execution_count": 197,
   "id": "velvet-balloon",
   "metadata": {},
   "outputs": [
    {
     "data": {
      "text/plain": [
       "'Balanced motivating help-desk. Study girl quality economy.'"
      ]
     },
     "execution_count": 197,
     "metadata": {},
     "output_type": "execute_result"
    }
   ],
   "source": [
    "art[1].seeking_description"
   ]
  },
  {
   "cell_type": "code",
   "execution_count": 209,
   "id": "electronic-brave",
   "metadata": {},
   "outputs": [
    {
     "data": {
      "text/plain": [
       "'Allenfurt'"
      ]
     },
     "execution_count": 209,
     "metadata": {},
     "output_type": "execute_result"
    }
   ],
   "source": [
    "#  Artist.query.all()\n",
    "Venue.query.distinct(Venue.city, Venue.state).all()[0].city"
   ]
  },
  {
   "cell_type": "code",
   "execution_count": 45,
   "id": "disturbed-motorcycle",
   "metadata": {
    "collapsed": true,
    "jupyter": {
     "outputs_hidden": true
    }
   },
   "outputs": [
    {
     "ename": "InternalError",
     "evalue": "(psycopg2.errors.InFailedSqlTransaction) current transaction is aborted, commands ignored until end of transaction block\n\n[SQL: SELECT artist.id AS artist_id \nFROM artist]\n(Background on this error at: http://sqlalche.me/e/13/2j85)",
     "output_type": "error",
     "traceback": [
      "\u001b[1;31m---------------------------------------------------------------------------\u001b[0m",
      "\u001b[1;31mInFailedSqlTransaction\u001b[0m                    Traceback (most recent call last)",
      "\u001b[1;32m~\\Anaconda3\\lib\\site-packages\\sqlalchemy\\engine\\base.py\u001b[0m in \u001b[0;36m_execute_context\u001b[1;34m(self, dialect, constructor, statement, parameters, *args)\u001b[0m\n\u001b[0;32m   1275\u001b[0m                 \u001b[1;32mif\u001b[0m \u001b[1;32mnot\u001b[0m \u001b[0mevt_handled\u001b[0m\u001b[1;33m:\u001b[0m\u001b[1;33m\u001b[0m\u001b[1;33m\u001b[0m\u001b[0m\n\u001b[1;32m-> 1276\u001b[1;33m                     self.dialect.do_execute(\n\u001b[0m\u001b[0;32m   1277\u001b[0m                         \u001b[0mcursor\u001b[0m\u001b[1;33m,\u001b[0m \u001b[0mstatement\u001b[0m\u001b[1;33m,\u001b[0m \u001b[0mparameters\u001b[0m\u001b[1;33m,\u001b[0m \u001b[0mcontext\u001b[0m\u001b[1;33m\u001b[0m\u001b[1;33m\u001b[0m\u001b[0m\n",
      "\u001b[1;32m~\\Anaconda3\\lib\\site-packages\\sqlalchemy\\engine\\default.py\u001b[0m in \u001b[0;36mdo_execute\u001b[1;34m(self, cursor, statement, parameters, context)\u001b[0m\n\u001b[0;32m    607\u001b[0m     \u001b[1;32mdef\u001b[0m \u001b[0mdo_execute\u001b[0m\u001b[1;33m(\u001b[0m\u001b[0mself\u001b[0m\u001b[1;33m,\u001b[0m \u001b[0mcursor\u001b[0m\u001b[1;33m,\u001b[0m \u001b[0mstatement\u001b[0m\u001b[1;33m,\u001b[0m \u001b[0mparameters\u001b[0m\u001b[1;33m,\u001b[0m \u001b[0mcontext\u001b[0m\u001b[1;33m=\u001b[0m\u001b[1;32mNone\u001b[0m\u001b[1;33m)\u001b[0m\u001b[1;33m:\u001b[0m\u001b[1;33m\u001b[0m\u001b[1;33m\u001b[0m\u001b[0m\n\u001b[1;32m--> 608\u001b[1;33m         \u001b[0mcursor\u001b[0m\u001b[1;33m.\u001b[0m\u001b[0mexecute\u001b[0m\u001b[1;33m(\u001b[0m\u001b[0mstatement\u001b[0m\u001b[1;33m,\u001b[0m \u001b[0mparameters\u001b[0m\u001b[1;33m)\u001b[0m\u001b[1;33m\u001b[0m\u001b[1;33m\u001b[0m\u001b[0m\n\u001b[0m\u001b[0;32m    609\u001b[0m \u001b[1;33m\u001b[0m\u001b[0m\n",
      "\u001b[1;31mInFailedSqlTransaction\u001b[0m: current transaction is aborted, commands ignored until end of transaction block\n",
      "\nThe above exception was the direct cause of the following exception:\n",
      "\u001b[1;31mInternalError\u001b[0m                             Traceback (most recent call last)",
      "\u001b[1;32m<ipython-input-45-47b79be0f76e>\u001b[0m in \u001b[0;36m<module>\u001b[1;34m\u001b[0m\n\u001b[1;32m----> 1\u001b[1;33m \u001b[0mVenue\u001b[0m\u001b[1;33m.\u001b[0m\u001b[0mquery\u001b[0m\u001b[1;33m.\u001b[0m\u001b[0mwith_entities\u001b[0m\u001b[1;33m(\u001b[0m\u001b[0mArtist\u001b[0m\u001b[1;33m.\u001b[0m\u001b[0mid\u001b[0m\u001b[1;33m)\u001b[0m\u001b[1;33m.\u001b[0m\u001b[0mall\u001b[0m\u001b[1;33m(\u001b[0m\u001b[1;33m)\u001b[0m\u001b[1;33m[\u001b[0m\u001b[1;36m0\u001b[0m\u001b[1;33m]\u001b[0m\u001b[1;33m\u001b[0m\u001b[1;33m\u001b[0m\u001b[0m\n\u001b[0m",
      "\u001b[1;32m~\\Anaconda3\\lib\\site-packages\\sqlalchemy\\orm\\query.py\u001b[0m in \u001b[0;36mall\u001b[1;34m(self)\u001b[0m\n\u001b[0;32m   3371\u001b[0m                 \u001b[1;33m:\u001b[0m\u001b[0mref\u001b[0m\u001b[1;33m:\u001b[0m\u001b[0;31m`\u001b[0m\u001b[0mfaq_query_deduplicating\u001b[0m\u001b[0;31m`\u001b[0m\u001b[1;33m\u001b[0m\u001b[1;33m\u001b[0m\u001b[0m\n\u001b[0;32m   3372\u001b[0m         \"\"\"\n\u001b[1;32m-> 3373\u001b[1;33m         \u001b[1;32mreturn\u001b[0m \u001b[0mlist\u001b[0m\u001b[1;33m(\u001b[0m\u001b[0mself\u001b[0m\u001b[1;33m)\u001b[0m\u001b[1;33m\u001b[0m\u001b[1;33m\u001b[0m\u001b[0m\n\u001b[0m\u001b[0;32m   3374\u001b[0m \u001b[1;33m\u001b[0m\u001b[0m\n\u001b[0;32m   3375\u001b[0m     \u001b[1;33m@\u001b[0m\u001b[0m_generative\u001b[0m\u001b[1;33m(\u001b[0m\u001b[0m_no_clauseelement_condition\u001b[0m\u001b[1;33m)\u001b[0m\u001b[1;33m\u001b[0m\u001b[1;33m\u001b[0m\u001b[0m\n",
      "\u001b[1;32m~\\Anaconda3\\lib\\site-packages\\sqlalchemy\\orm\\query.py\u001b[0m in \u001b[0;36m__iter__\u001b[1;34m(self)\u001b[0m\n\u001b[0;32m   3533\u001b[0m         \u001b[1;32mif\u001b[0m \u001b[0mself\u001b[0m\u001b[1;33m.\u001b[0m\u001b[0m_autoflush\u001b[0m \u001b[1;32mand\u001b[0m \u001b[1;32mnot\u001b[0m \u001b[0mself\u001b[0m\u001b[1;33m.\u001b[0m\u001b[0m_populate_existing\u001b[0m\u001b[1;33m:\u001b[0m\u001b[1;33m\u001b[0m\u001b[1;33m\u001b[0m\u001b[0m\n\u001b[0;32m   3534\u001b[0m             \u001b[0mself\u001b[0m\u001b[1;33m.\u001b[0m\u001b[0msession\u001b[0m\u001b[1;33m.\u001b[0m\u001b[0m_autoflush\u001b[0m\u001b[1;33m(\u001b[0m\u001b[1;33m)\u001b[0m\u001b[1;33m\u001b[0m\u001b[1;33m\u001b[0m\u001b[0m\n\u001b[1;32m-> 3535\u001b[1;33m         \u001b[1;32mreturn\u001b[0m \u001b[0mself\u001b[0m\u001b[1;33m.\u001b[0m\u001b[0m_execute_and_instances\u001b[0m\u001b[1;33m(\u001b[0m\u001b[0mcontext\u001b[0m\u001b[1;33m)\u001b[0m\u001b[1;33m\u001b[0m\u001b[1;33m\u001b[0m\u001b[0m\n\u001b[0m\u001b[0;32m   3536\u001b[0m \u001b[1;33m\u001b[0m\u001b[0m\n\u001b[0;32m   3537\u001b[0m     \u001b[1;32mdef\u001b[0m \u001b[0m__str__\u001b[0m\u001b[1;33m(\u001b[0m\u001b[0mself\u001b[0m\u001b[1;33m)\u001b[0m\u001b[1;33m:\u001b[0m\u001b[1;33m\u001b[0m\u001b[1;33m\u001b[0m\u001b[0m\n",
      "\u001b[1;32m~\\Anaconda3\\lib\\site-packages\\sqlalchemy\\orm\\query.py\u001b[0m in \u001b[0;36m_execute_and_instances\u001b[1;34m(self, querycontext)\u001b[0m\n\u001b[0;32m   3558\u001b[0m         )\n\u001b[0;32m   3559\u001b[0m \u001b[1;33m\u001b[0m\u001b[0m\n\u001b[1;32m-> 3560\u001b[1;33m         \u001b[0mresult\u001b[0m \u001b[1;33m=\u001b[0m \u001b[0mconn\u001b[0m\u001b[1;33m.\u001b[0m\u001b[0mexecute\u001b[0m\u001b[1;33m(\u001b[0m\u001b[0mquerycontext\u001b[0m\u001b[1;33m.\u001b[0m\u001b[0mstatement\u001b[0m\u001b[1;33m,\u001b[0m \u001b[0mself\u001b[0m\u001b[1;33m.\u001b[0m\u001b[0m_params\u001b[0m\u001b[1;33m)\u001b[0m\u001b[1;33m\u001b[0m\u001b[1;33m\u001b[0m\u001b[0m\n\u001b[0m\u001b[0;32m   3561\u001b[0m         \u001b[1;32mreturn\u001b[0m \u001b[0mloading\u001b[0m\u001b[1;33m.\u001b[0m\u001b[0minstances\u001b[0m\u001b[1;33m(\u001b[0m\u001b[0mquerycontext\u001b[0m\u001b[1;33m.\u001b[0m\u001b[0mquery\u001b[0m\u001b[1;33m,\u001b[0m \u001b[0mresult\u001b[0m\u001b[1;33m,\u001b[0m \u001b[0mquerycontext\u001b[0m\u001b[1;33m)\u001b[0m\u001b[1;33m\u001b[0m\u001b[1;33m\u001b[0m\u001b[0m\n\u001b[0;32m   3562\u001b[0m \u001b[1;33m\u001b[0m\u001b[0m\n",
      "\u001b[1;32m~\\Anaconda3\\lib\\site-packages\\sqlalchemy\\engine\\base.py\u001b[0m in \u001b[0;36mexecute\u001b[1;34m(self, object_, *multiparams, **params)\u001b[0m\n\u001b[0;32m   1009\u001b[0m             )\n\u001b[0;32m   1010\u001b[0m         \u001b[1;32melse\u001b[0m\u001b[1;33m:\u001b[0m\u001b[1;33m\u001b[0m\u001b[1;33m\u001b[0m\u001b[0m\n\u001b[1;32m-> 1011\u001b[1;33m             \u001b[1;32mreturn\u001b[0m \u001b[0mmeth\u001b[0m\u001b[1;33m(\u001b[0m\u001b[0mself\u001b[0m\u001b[1;33m,\u001b[0m \u001b[0mmultiparams\u001b[0m\u001b[1;33m,\u001b[0m \u001b[0mparams\u001b[0m\u001b[1;33m)\u001b[0m\u001b[1;33m\u001b[0m\u001b[1;33m\u001b[0m\u001b[0m\n\u001b[0m\u001b[0;32m   1012\u001b[0m \u001b[1;33m\u001b[0m\u001b[0m\n\u001b[0;32m   1013\u001b[0m     \u001b[1;32mdef\u001b[0m \u001b[0m_execute_function\u001b[0m\u001b[1;33m(\u001b[0m\u001b[0mself\u001b[0m\u001b[1;33m,\u001b[0m \u001b[0mfunc\u001b[0m\u001b[1;33m,\u001b[0m \u001b[0mmultiparams\u001b[0m\u001b[1;33m,\u001b[0m \u001b[0mparams\u001b[0m\u001b[1;33m)\u001b[0m\u001b[1;33m:\u001b[0m\u001b[1;33m\u001b[0m\u001b[1;33m\u001b[0m\u001b[0m\n",
      "\u001b[1;32m~\\Anaconda3\\lib\\site-packages\\sqlalchemy\\sql\\elements.py\u001b[0m in \u001b[0;36m_execute_on_connection\u001b[1;34m(self, connection, multiparams, params)\u001b[0m\n\u001b[0;32m    296\u001b[0m     \u001b[1;32mdef\u001b[0m \u001b[0m_execute_on_connection\u001b[0m\u001b[1;33m(\u001b[0m\u001b[0mself\u001b[0m\u001b[1;33m,\u001b[0m \u001b[0mconnection\u001b[0m\u001b[1;33m,\u001b[0m \u001b[0mmultiparams\u001b[0m\u001b[1;33m,\u001b[0m \u001b[0mparams\u001b[0m\u001b[1;33m)\u001b[0m\u001b[1;33m:\u001b[0m\u001b[1;33m\u001b[0m\u001b[1;33m\u001b[0m\u001b[0m\n\u001b[0;32m    297\u001b[0m         \u001b[1;32mif\u001b[0m \u001b[0mself\u001b[0m\u001b[1;33m.\u001b[0m\u001b[0msupports_execution\u001b[0m\u001b[1;33m:\u001b[0m\u001b[1;33m\u001b[0m\u001b[1;33m\u001b[0m\u001b[0m\n\u001b[1;32m--> 298\u001b[1;33m             \u001b[1;32mreturn\u001b[0m \u001b[0mconnection\u001b[0m\u001b[1;33m.\u001b[0m\u001b[0m_execute_clauseelement\u001b[0m\u001b[1;33m(\u001b[0m\u001b[0mself\u001b[0m\u001b[1;33m,\u001b[0m \u001b[0mmultiparams\u001b[0m\u001b[1;33m,\u001b[0m \u001b[0mparams\u001b[0m\u001b[1;33m)\u001b[0m\u001b[1;33m\u001b[0m\u001b[1;33m\u001b[0m\u001b[0m\n\u001b[0m\u001b[0;32m    299\u001b[0m         \u001b[1;32melse\u001b[0m\u001b[1;33m:\u001b[0m\u001b[1;33m\u001b[0m\u001b[1;33m\u001b[0m\u001b[0m\n\u001b[0;32m    300\u001b[0m             \u001b[1;32mraise\u001b[0m \u001b[0mexc\u001b[0m\u001b[1;33m.\u001b[0m\u001b[0mObjectNotExecutableError\u001b[0m\u001b[1;33m(\u001b[0m\u001b[0mself\u001b[0m\u001b[1;33m)\u001b[0m\u001b[1;33m\u001b[0m\u001b[1;33m\u001b[0m\u001b[0m\n",
      "\u001b[1;32m~\\Anaconda3\\lib\\site-packages\\sqlalchemy\\engine\\base.py\u001b[0m in \u001b[0;36m_execute_clauseelement\u001b[1;34m(self, elem, multiparams, params)\u001b[0m\n\u001b[0;32m   1122\u001b[0m             )\n\u001b[0;32m   1123\u001b[0m \u001b[1;33m\u001b[0m\u001b[0m\n\u001b[1;32m-> 1124\u001b[1;33m         ret = self._execute_context(\n\u001b[0m\u001b[0;32m   1125\u001b[0m             \u001b[0mdialect\u001b[0m\u001b[1;33m,\u001b[0m\u001b[1;33m\u001b[0m\u001b[1;33m\u001b[0m\u001b[0m\n\u001b[0;32m   1126\u001b[0m             \u001b[0mdialect\u001b[0m\u001b[1;33m.\u001b[0m\u001b[0mexecution_ctx_cls\u001b[0m\u001b[1;33m.\u001b[0m\u001b[0m_init_compiled\u001b[0m\u001b[1;33m,\u001b[0m\u001b[1;33m\u001b[0m\u001b[1;33m\u001b[0m\u001b[0m\n",
      "\u001b[1;32m~\\Anaconda3\\lib\\site-packages\\sqlalchemy\\engine\\base.py\u001b[0m in \u001b[0;36m_execute_context\u001b[1;34m(self, dialect, constructor, statement, parameters, *args)\u001b[0m\n\u001b[0;32m   1314\u001b[0m \u001b[1;33m\u001b[0m\u001b[0m\n\u001b[0;32m   1315\u001b[0m         \u001b[1;32mexcept\u001b[0m \u001b[0mBaseException\u001b[0m \u001b[1;32mas\u001b[0m \u001b[0me\u001b[0m\u001b[1;33m:\u001b[0m\u001b[1;33m\u001b[0m\u001b[1;33m\u001b[0m\u001b[0m\n\u001b[1;32m-> 1316\u001b[1;33m             self._handle_dbapi_exception(\n\u001b[0m\u001b[0;32m   1317\u001b[0m                 \u001b[0me\u001b[0m\u001b[1;33m,\u001b[0m \u001b[0mstatement\u001b[0m\u001b[1;33m,\u001b[0m \u001b[0mparameters\u001b[0m\u001b[1;33m,\u001b[0m \u001b[0mcursor\u001b[0m\u001b[1;33m,\u001b[0m \u001b[0mcontext\u001b[0m\u001b[1;33m\u001b[0m\u001b[1;33m\u001b[0m\u001b[0m\n\u001b[0;32m   1318\u001b[0m             )\n",
      "\u001b[1;32m~\\Anaconda3\\lib\\site-packages\\sqlalchemy\\engine\\base.py\u001b[0m in \u001b[0;36m_handle_dbapi_exception\u001b[1;34m(self, e, statement, parameters, cursor, context)\u001b[0m\n\u001b[0;32m   1508\u001b[0m                 \u001b[0mutil\u001b[0m\u001b[1;33m.\u001b[0m\u001b[0mraise_\u001b[0m\u001b[1;33m(\u001b[0m\u001b[0mnewraise\u001b[0m\u001b[1;33m,\u001b[0m \u001b[0mwith_traceback\u001b[0m\u001b[1;33m=\u001b[0m\u001b[0mexc_info\u001b[0m\u001b[1;33m[\u001b[0m\u001b[1;36m2\u001b[0m\u001b[1;33m]\u001b[0m\u001b[1;33m,\u001b[0m \u001b[0mfrom_\u001b[0m\u001b[1;33m=\u001b[0m\u001b[0me\u001b[0m\u001b[1;33m)\u001b[0m\u001b[1;33m\u001b[0m\u001b[1;33m\u001b[0m\u001b[0m\n\u001b[0;32m   1509\u001b[0m             \u001b[1;32melif\u001b[0m \u001b[0mshould_wrap\u001b[0m\u001b[1;33m:\u001b[0m\u001b[1;33m\u001b[0m\u001b[1;33m\u001b[0m\u001b[0m\n\u001b[1;32m-> 1510\u001b[1;33m                 util.raise_(\n\u001b[0m\u001b[0;32m   1511\u001b[0m                     \u001b[0msqlalchemy_exception\u001b[0m\u001b[1;33m,\u001b[0m \u001b[0mwith_traceback\u001b[0m\u001b[1;33m=\u001b[0m\u001b[0mexc_info\u001b[0m\u001b[1;33m[\u001b[0m\u001b[1;36m2\u001b[0m\u001b[1;33m]\u001b[0m\u001b[1;33m,\u001b[0m \u001b[0mfrom_\u001b[0m\u001b[1;33m=\u001b[0m\u001b[0me\u001b[0m\u001b[1;33m\u001b[0m\u001b[1;33m\u001b[0m\u001b[0m\n\u001b[0;32m   1512\u001b[0m                 )\n",
      "\u001b[1;32m~\\Anaconda3\\lib\\site-packages\\sqlalchemy\\util\\compat.py\u001b[0m in \u001b[0;36mraise_\u001b[1;34m(***failed resolving arguments***)\u001b[0m\n\u001b[0;32m    180\u001b[0m \u001b[1;33m\u001b[0m\u001b[0m\n\u001b[0;32m    181\u001b[0m         \u001b[1;32mtry\u001b[0m\u001b[1;33m:\u001b[0m\u001b[1;33m\u001b[0m\u001b[1;33m\u001b[0m\u001b[0m\n\u001b[1;32m--> 182\u001b[1;33m             \u001b[1;32mraise\u001b[0m \u001b[0mexception\u001b[0m\u001b[1;33m\u001b[0m\u001b[1;33m\u001b[0m\u001b[0m\n\u001b[0m\u001b[0;32m    183\u001b[0m         \u001b[1;32mfinally\u001b[0m\u001b[1;33m:\u001b[0m\u001b[1;33m\u001b[0m\u001b[1;33m\u001b[0m\u001b[0m\n\u001b[0;32m    184\u001b[0m             \u001b[1;31m# credit to\u001b[0m\u001b[1;33m\u001b[0m\u001b[1;33m\u001b[0m\u001b[1;33m\u001b[0m\u001b[0m\n",
      "\u001b[1;32m~\\Anaconda3\\lib\\site-packages\\sqlalchemy\\engine\\base.py\u001b[0m in \u001b[0;36m_execute_context\u001b[1;34m(self, dialect, constructor, statement, parameters, *args)\u001b[0m\n\u001b[0;32m   1274\u001b[0m                             \u001b[1;32mbreak\u001b[0m\u001b[1;33m\u001b[0m\u001b[1;33m\u001b[0m\u001b[0m\n\u001b[0;32m   1275\u001b[0m                 \u001b[1;32mif\u001b[0m \u001b[1;32mnot\u001b[0m \u001b[0mevt_handled\u001b[0m\u001b[1;33m:\u001b[0m\u001b[1;33m\u001b[0m\u001b[1;33m\u001b[0m\u001b[0m\n\u001b[1;32m-> 1276\u001b[1;33m                     self.dialect.do_execute(\n\u001b[0m\u001b[0;32m   1277\u001b[0m                         \u001b[0mcursor\u001b[0m\u001b[1;33m,\u001b[0m \u001b[0mstatement\u001b[0m\u001b[1;33m,\u001b[0m \u001b[0mparameters\u001b[0m\u001b[1;33m,\u001b[0m \u001b[0mcontext\u001b[0m\u001b[1;33m\u001b[0m\u001b[1;33m\u001b[0m\u001b[0m\n\u001b[0;32m   1278\u001b[0m                     )\n",
      "\u001b[1;32m~\\Anaconda3\\lib\\site-packages\\sqlalchemy\\engine\\default.py\u001b[0m in \u001b[0;36mdo_execute\u001b[1;34m(self, cursor, statement, parameters, context)\u001b[0m\n\u001b[0;32m    606\u001b[0m \u001b[1;33m\u001b[0m\u001b[0m\n\u001b[0;32m    607\u001b[0m     \u001b[1;32mdef\u001b[0m \u001b[0mdo_execute\u001b[0m\u001b[1;33m(\u001b[0m\u001b[0mself\u001b[0m\u001b[1;33m,\u001b[0m \u001b[0mcursor\u001b[0m\u001b[1;33m,\u001b[0m \u001b[0mstatement\u001b[0m\u001b[1;33m,\u001b[0m \u001b[0mparameters\u001b[0m\u001b[1;33m,\u001b[0m \u001b[0mcontext\u001b[0m\u001b[1;33m=\u001b[0m\u001b[1;32mNone\u001b[0m\u001b[1;33m)\u001b[0m\u001b[1;33m:\u001b[0m\u001b[1;33m\u001b[0m\u001b[1;33m\u001b[0m\u001b[0m\n\u001b[1;32m--> 608\u001b[1;33m         \u001b[0mcursor\u001b[0m\u001b[1;33m.\u001b[0m\u001b[0mexecute\u001b[0m\u001b[1;33m(\u001b[0m\u001b[0mstatement\u001b[0m\u001b[1;33m,\u001b[0m \u001b[0mparameters\u001b[0m\u001b[1;33m)\u001b[0m\u001b[1;33m\u001b[0m\u001b[1;33m\u001b[0m\u001b[0m\n\u001b[0m\u001b[0;32m    609\u001b[0m \u001b[1;33m\u001b[0m\u001b[0m\n\u001b[0;32m    610\u001b[0m     \u001b[1;32mdef\u001b[0m \u001b[0mdo_execute_no_params\u001b[0m\u001b[1;33m(\u001b[0m\u001b[0mself\u001b[0m\u001b[1;33m,\u001b[0m \u001b[0mcursor\u001b[0m\u001b[1;33m,\u001b[0m \u001b[0mstatement\u001b[0m\u001b[1;33m,\u001b[0m \u001b[0mcontext\u001b[0m\u001b[1;33m=\u001b[0m\u001b[1;32mNone\u001b[0m\u001b[1;33m)\u001b[0m\u001b[1;33m:\u001b[0m\u001b[1;33m\u001b[0m\u001b[1;33m\u001b[0m\u001b[0m\n",
      "\u001b[1;31mInternalError\u001b[0m: (psycopg2.errors.InFailedSqlTransaction) current transaction is aborted, commands ignored until end of transaction block\n\n[SQL: SELECT artist.id AS artist_id \nFROM artist]\n(Background on this error at: http://sqlalche.me/e/13/2j85)"
     ]
    }
   ],
   "source": [
    "Venue.query.with_entities(Artist.id).all()[0]"
   ]
  },
  {
   "cell_type": "code",
   "execution_count": 162,
   "id": "later-meditation",
   "metadata": {},
   "outputs": [
    {
     "ename": "AttributeError",
     "evalue": "type object 'Venue' has no attribute 'options'",
     "output_type": "error",
     "traceback": [
      "\u001b[1;31m---------------------------------------------------------------------------\u001b[0m",
      "\u001b[1;31mAttributeError\u001b[0m                            Traceback (most recent call last)",
      "\u001b[1;32m<ipython-input-162-7875a5d86d5f>\u001b[0m in \u001b[0;36m<module>\u001b[1;34m\u001b[0m\n\u001b[1;32m----> 1\u001b[1;33m \u001b[0mVenue\u001b[0m\u001b[1;33m.\u001b[0m\u001b[0moptions\u001b[0m\u001b[1;33m(\u001b[0m\u001b[0mload_only\u001b[0m\u001b[1;33m(\u001b[0m \u001b[1;34m'id'\u001b[0m\u001b[1;33m)\u001b[0m\u001b[1;33m)\u001b[0m\u001b[1;33m.\u001b[0m\u001b[0mall\u001b[0m\u001b[1;33m(\u001b[0m\u001b[1;33m)\u001b[0m\u001b[1;33m\u001b[0m\u001b[1;33m\u001b[0m\u001b[0m\n\u001b[0m",
      "\u001b[1;31mAttributeError\u001b[0m: type object 'Venue' has no attribute 'options'"
     ]
    }
   ],
   "source": [
    "Venue.options(load_only( 'id')).all()"
   ]
  },
  {
   "cell_type": "code",
   "execution_count": 35,
   "id": "engaging-avenue",
   "metadata": {
    "collapsed": true,
    "jupyter": {
     "outputs_hidden": true
    }
   },
   "outputs": [
    {
     "ename": "InternalError",
     "evalue": "(psycopg2.errors.InFailedSqlTransaction) current transaction is aborted, commands ignored until end of transaction block\n\n[SQL: SELECT count(venue.id) AS count_1, venue.city AS venue_city, venue.state AS venue_state \nFROM venue GROUP BY venue.city, venue.state]\n(Background on this error at: http://sqlalche.me/e/13/2j85)",
     "output_type": "error",
     "traceback": [
      "\u001b[1;31m---------------------------------------------------------------------------\u001b[0m",
      "\u001b[1;31mInFailedSqlTransaction\u001b[0m                    Traceback (most recent call last)",
      "\u001b[1;32m~\\Anaconda3\\lib\\site-packages\\sqlalchemy\\engine\\base.py\u001b[0m in \u001b[0;36m_execute_context\u001b[1;34m(self, dialect, constructor, statement, parameters, *args)\u001b[0m\n\u001b[0;32m   1275\u001b[0m                 \u001b[1;32mif\u001b[0m \u001b[1;32mnot\u001b[0m \u001b[0mevt_handled\u001b[0m\u001b[1;33m:\u001b[0m\u001b[1;33m\u001b[0m\u001b[1;33m\u001b[0m\u001b[0m\n\u001b[1;32m-> 1276\u001b[1;33m                     self.dialect.do_execute(\n\u001b[0m\u001b[0;32m   1277\u001b[0m                         \u001b[0mcursor\u001b[0m\u001b[1;33m,\u001b[0m \u001b[0mstatement\u001b[0m\u001b[1;33m,\u001b[0m \u001b[0mparameters\u001b[0m\u001b[1;33m,\u001b[0m \u001b[0mcontext\u001b[0m\u001b[1;33m\u001b[0m\u001b[1;33m\u001b[0m\u001b[0m\n",
      "\u001b[1;32m~\\Anaconda3\\lib\\site-packages\\sqlalchemy\\engine\\default.py\u001b[0m in \u001b[0;36mdo_execute\u001b[1;34m(self, cursor, statement, parameters, context)\u001b[0m\n\u001b[0;32m    607\u001b[0m     \u001b[1;32mdef\u001b[0m \u001b[0mdo_execute\u001b[0m\u001b[1;33m(\u001b[0m\u001b[0mself\u001b[0m\u001b[1;33m,\u001b[0m \u001b[0mcursor\u001b[0m\u001b[1;33m,\u001b[0m \u001b[0mstatement\u001b[0m\u001b[1;33m,\u001b[0m \u001b[0mparameters\u001b[0m\u001b[1;33m,\u001b[0m \u001b[0mcontext\u001b[0m\u001b[1;33m=\u001b[0m\u001b[1;32mNone\u001b[0m\u001b[1;33m)\u001b[0m\u001b[1;33m:\u001b[0m\u001b[1;33m\u001b[0m\u001b[1;33m\u001b[0m\u001b[0m\n\u001b[1;32m--> 608\u001b[1;33m         \u001b[0mcursor\u001b[0m\u001b[1;33m.\u001b[0m\u001b[0mexecute\u001b[0m\u001b[1;33m(\u001b[0m\u001b[0mstatement\u001b[0m\u001b[1;33m,\u001b[0m \u001b[0mparameters\u001b[0m\u001b[1;33m)\u001b[0m\u001b[1;33m\u001b[0m\u001b[1;33m\u001b[0m\u001b[0m\n\u001b[0m\u001b[0;32m    609\u001b[0m \u001b[1;33m\u001b[0m\u001b[0m\n",
      "\u001b[1;31mInFailedSqlTransaction\u001b[0m: current transaction is aborted, commands ignored until end of transaction block\n",
      "\nThe above exception was the direct cause of the following exception:\n",
      "\u001b[1;31mInternalError\u001b[0m                             Traceback (most recent call last)",
      "\u001b[1;32m<ipython-input-35-8589eefa7887>\u001b[0m in \u001b[0;36m<module>\u001b[1;34m\u001b[0m\n\u001b[1;32m----> 1\u001b[1;33m \u001b[0mareas\u001b[0m \u001b[1;33m=\u001b[0m \u001b[0mVenue\u001b[0m\u001b[1;33m.\u001b[0m\u001b[0mquery\u001b[0m\u001b[1;33m.\u001b[0m\u001b[0mwith_entities\u001b[0m\u001b[1;33m(\u001b[0m\u001b[0mdb\u001b[0m\u001b[1;33m.\u001b[0m\u001b[0mfunc\u001b[0m\u001b[1;33m.\u001b[0m\u001b[0mcount\u001b[0m\u001b[1;33m(\u001b[0m\u001b[0mVenue\u001b[0m\u001b[1;33m.\u001b[0m\u001b[0mid\u001b[0m\u001b[1;33m)\u001b[0m\u001b[1;33m,\u001b[0m \u001b[0mVenue\u001b[0m\u001b[1;33m.\u001b[0m\u001b[0mcity\u001b[0m\u001b[1;33m,\u001b[0m \u001b[0mVenue\u001b[0m\u001b[1;33m.\u001b[0m\u001b[0mstate\u001b[0m\u001b[1;33m)\u001b[0m\u001b[1;33m.\u001b[0m\u001b[0mgroup_by\u001b[0m\u001b[1;33m(\u001b[0m\u001b[0mVenue\u001b[0m\u001b[1;33m.\u001b[0m\u001b[0mcity\u001b[0m\u001b[1;33m,\u001b[0m \u001b[0mVenue\u001b[0m\u001b[1;33m.\u001b[0m\u001b[0mstate\u001b[0m\u001b[1;33m)\u001b[0m\u001b[1;33m.\u001b[0m\u001b[0mall\u001b[0m\u001b[1;33m(\u001b[0m\u001b[1;33m)\u001b[0m\u001b[1;33m\u001b[0m\u001b[1;33m\u001b[0m\u001b[0m\n\u001b[0m",
      "\u001b[1;32m~\\Anaconda3\\lib\\site-packages\\sqlalchemy\\orm\\query.py\u001b[0m in \u001b[0;36mall\u001b[1;34m(self)\u001b[0m\n\u001b[0;32m   3371\u001b[0m                 \u001b[1;33m:\u001b[0m\u001b[0mref\u001b[0m\u001b[1;33m:\u001b[0m\u001b[0;31m`\u001b[0m\u001b[0mfaq_query_deduplicating\u001b[0m\u001b[0;31m`\u001b[0m\u001b[1;33m\u001b[0m\u001b[1;33m\u001b[0m\u001b[0m\n\u001b[0;32m   3372\u001b[0m         \"\"\"\n\u001b[1;32m-> 3373\u001b[1;33m         \u001b[1;32mreturn\u001b[0m \u001b[0mlist\u001b[0m\u001b[1;33m(\u001b[0m\u001b[0mself\u001b[0m\u001b[1;33m)\u001b[0m\u001b[1;33m\u001b[0m\u001b[1;33m\u001b[0m\u001b[0m\n\u001b[0m\u001b[0;32m   3374\u001b[0m \u001b[1;33m\u001b[0m\u001b[0m\n\u001b[0;32m   3375\u001b[0m     \u001b[1;33m@\u001b[0m\u001b[0m_generative\u001b[0m\u001b[1;33m(\u001b[0m\u001b[0m_no_clauseelement_condition\u001b[0m\u001b[1;33m)\u001b[0m\u001b[1;33m\u001b[0m\u001b[1;33m\u001b[0m\u001b[0m\n",
      "\u001b[1;32m~\\Anaconda3\\lib\\site-packages\\sqlalchemy\\orm\\query.py\u001b[0m in \u001b[0;36m__iter__\u001b[1;34m(self)\u001b[0m\n\u001b[0;32m   3533\u001b[0m         \u001b[1;32mif\u001b[0m \u001b[0mself\u001b[0m\u001b[1;33m.\u001b[0m\u001b[0m_autoflush\u001b[0m \u001b[1;32mand\u001b[0m \u001b[1;32mnot\u001b[0m \u001b[0mself\u001b[0m\u001b[1;33m.\u001b[0m\u001b[0m_populate_existing\u001b[0m\u001b[1;33m:\u001b[0m\u001b[1;33m\u001b[0m\u001b[1;33m\u001b[0m\u001b[0m\n\u001b[0;32m   3534\u001b[0m             \u001b[0mself\u001b[0m\u001b[1;33m.\u001b[0m\u001b[0msession\u001b[0m\u001b[1;33m.\u001b[0m\u001b[0m_autoflush\u001b[0m\u001b[1;33m(\u001b[0m\u001b[1;33m)\u001b[0m\u001b[1;33m\u001b[0m\u001b[1;33m\u001b[0m\u001b[0m\n\u001b[1;32m-> 3535\u001b[1;33m         \u001b[1;32mreturn\u001b[0m \u001b[0mself\u001b[0m\u001b[1;33m.\u001b[0m\u001b[0m_execute_and_instances\u001b[0m\u001b[1;33m(\u001b[0m\u001b[0mcontext\u001b[0m\u001b[1;33m)\u001b[0m\u001b[1;33m\u001b[0m\u001b[1;33m\u001b[0m\u001b[0m\n\u001b[0m\u001b[0;32m   3536\u001b[0m \u001b[1;33m\u001b[0m\u001b[0m\n\u001b[0;32m   3537\u001b[0m     \u001b[1;32mdef\u001b[0m \u001b[0m__str__\u001b[0m\u001b[1;33m(\u001b[0m\u001b[0mself\u001b[0m\u001b[1;33m)\u001b[0m\u001b[1;33m:\u001b[0m\u001b[1;33m\u001b[0m\u001b[1;33m\u001b[0m\u001b[0m\n",
      "\u001b[1;32m~\\Anaconda3\\lib\\site-packages\\sqlalchemy\\orm\\query.py\u001b[0m in \u001b[0;36m_execute_and_instances\u001b[1;34m(self, querycontext)\u001b[0m\n\u001b[0;32m   3558\u001b[0m         )\n\u001b[0;32m   3559\u001b[0m \u001b[1;33m\u001b[0m\u001b[0m\n\u001b[1;32m-> 3560\u001b[1;33m         \u001b[0mresult\u001b[0m \u001b[1;33m=\u001b[0m \u001b[0mconn\u001b[0m\u001b[1;33m.\u001b[0m\u001b[0mexecute\u001b[0m\u001b[1;33m(\u001b[0m\u001b[0mquerycontext\u001b[0m\u001b[1;33m.\u001b[0m\u001b[0mstatement\u001b[0m\u001b[1;33m,\u001b[0m \u001b[0mself\u001b[0m\u001b[1;33m.\u001b[0m\u001b[0m_params\u001b[0m\u001b[1;33m)\u001b[0m\u001b[1;33m\u001b[0m\u001b[1;33m\u001b[0m\u001b[0m\n\u001b[0m\u001b[0;32m   3561\u001b[0m         \u001b[1;32mreturn\u001b[0m \u001b[0mloading\u001b[0m\u001b[1;33m.\u001b[0m\u001b[0minstances\u001b[0m\u001b[1;33m(\u001b[0m\u001b[0mquerycontext\u001b[0m\u001b[1;33m.\u001b[0m\u001b[0mquery\u001b[0m\u001b[1;33m,\u001b[0m \u001b[0mresult\u001b[0m\u001b[1;33m,\u001b[0m \u001b[0mquerycontext\u001b[0m\u001b[1;33m)\u001b[0m\u001b[1;33m\u001b[0m\u001b[1;33m\u001b[0m\u001b[0m\n\u001b[0;32m   3562\u001b[0m \u001b[1;33m\u001b[0m\u001b[0m\n",
      "\u001b[1;32m~\\Anaconda3\\lib\\site-packages\\sqlalchemy\\engine\\base.py\u001b[0m in \u001b[0;36mexecute\u001b[1;34m(self, object_, *multiparams, **params)\u001b[0m\n\u001b[0;32m   1009\u001b[0m             )\n\u001b[0;32m   1010\u001b[0m         \u001b[1;32melse\u001b[0m\u001b[1;33m:\u001b[0m\u001b[1;33m\u001b[0m\u001b[1;33m\u001b[0m\u001b[0m\n\u001b[1;32m-> 1011\u001b[1;33m             \u001b[1;32mreturn\u001b[0m \u001b[0mmeth\u001b[0m\u001b[1;33m(\u001b[0m\u001b[0mself\u001b[0m\u001b[1;33m,\u001b[0m \u001b[0mmultiparams\u001b[0m\u001b[1;33m,\u001b[0m \u001b[0mparams\u001b[0m\u001b[1;33m)\u001b[0m\u001b[1;33m\u001b[0m\u001b[1;33m\u001b[0m\u001b[0m\n\u001b[0m\u001b[0;32m   1012\u001b[0m \u001b[1;33m\u001b[0m\u001b[0m\n\u001b[0;32m   1013\u001b[0m     \u001b[1;32mdef\u001b[0m \u001b[0m_execute_function\u001b[0m\u001b[1;33m(\u001b[0m\u001b[0mself\u001b[0m\u001b[1;33m,\u001b[0m \u001b[0mfunc\u001b[0m\u001b[1;33m,\u001b[0m \u001b[0mmultiparams\u001b[0m\u001b[1;33m,\u001b[0m \u001b[0mparams\u001b[0m\u001b[1;33m)\u001b[0m\u001b[1;33m:\u001b[0m\u001b[1;33m\u001b[0m\u001b[1;33m\u001b[0m\u001b[0m\n",
      "\u001b[1;32m~\\Anaconda3\\lib\\site-packages\\sqlalchemy\\sql\\elements.py\u001b[0m in \u001b[0;36m_execute_on_connection\u001b[1;34m(self, connection, multiparams, params)\u001b[0m\n\u001b[0;32m    296\u001b[0m     \u001b[1;32mdef\u001b[0m \u001b[0m_execute_on_connection\u001b[0m\u001b[1;33m(\u001b[0m\u001b[0mself\u001b[0m\u001b[1;33m,\u001b[0m \u001b[0mconnection\u001b[0m\u001b[1;33m,\u001b[0m \u001b[0mmultiparams\u001b[0m\u001b[1;33m,\u001b[0m \u001b[0mparams\u001b[0m\u001b[1;33m)\u001b[0m\u001b[1;33m:\u001b[0m\u001b[1;33m\u001b[0m\u001b[1;33m\u001b[0m\u001b[0m\n\u001b[0;32m    297\u001b[0m         \u001b[1;32mif\u001b[0m \u001b[0mself\u001b[0m\u001b[1;33m.\u001b[0m\u001b[0msupports_execution\u001b[0m\u001b[1;33m:\u001b[0m\u001b[1;33m\u001b[0m\u001b[1;33m\u001b[0m\u001b[0m\n\u001b[1;32m--> 298\u001b[1;33m             \u001b[1;32mreturn\u001b[0m \u001b[0mconnection\u001b[0m\u001b[1;33m.\u001b[0m\u001b[0m_execute_clauseelement\u001b[0m\u001b[1;33m(\u001b[0m\u001b[0mself\u001b[0m\u001b[1;33m,\u001b[0m \u001b[0mmultiparams\u001b[0m\u001b[1;33m,\u001b[0m \u001b[0mparams\u001b[0m\u001b[1;33m)\u001b[0m\u001b[1;33m\u001b[0m\u001b[1;33m\u001b[0m\u001b[0m\n\u001b[0m\u001b[0;32m    299\u001b[0m         \u001b[1;32melse\u001b[0m\u001b[1;33m:\u001b[0m\u001b[1;33m\u001b[0m\u001b[1;33m\u001b[0m\u001b[0m\n\u001b[0;32m    300\u001b[0m             \u001b[1;32mraise\u001b[0m \u001b[0mexc\u001b[0m\u001b[1;33m.\u001b[0m\u001b[0mObjectNotExecutableError\u001b[0m\u001b[1;33m(\u001b[0m\u001b[0mself\u001b[0m\u001b[1;33m)\u001b[0m\u001b[1;33m\u001b[0m\u001b[1;33m\u001b[0m\u001b[0m\n",
      "\u001b[1;32m~\\Anaconda3\\lib\\site-packages\\sqlalchemy\\engine\\base.py\u001b[0m in \u001b[0;36m_execute_clauseelement\u001b[1;34m(self, elem, multiparams, params)\u001b[0m\n\u001b[0;32m   1122\u001b[0m             )\n\u001b[0;32m   1123\u001b[0m \u001b[1;33m\u001b[0m\u001b[0m\n\u001b[1;32m-> 1124\u001b[1;33m         ret = self._execute_context(\n\u001b[0m\u001b[0;32m   1125\u001b[0m             \u001b[0mdialect\u001b[0m\u001b[1;33m,\u001b[0m\u001b[1;33m\u001b[0m\u001b[1;33m\u001b[0m\u001b[0m\n\u001b[0;32m   1126\u001b[0m             \u001b[0mdialect\u001b[0m\u001b[1;33m.\u001b[0m\u001b[0mexecution_ctx_cls\u001b[0m\u001b[1;33m.\u001b[0m\u001b[0m_init_compiled\u001b[0m\u001b[1;33m,\u001b[0m\u001b[1;33m\u001b[0m\u001b[1;33m\u001b[0m\u001b[0m\n",
      "\u001b[1;32m~\\Anaconda3\\lib\\site-packages\\sqlalchemy\\engine\\base.py\u001b[0m in \u001b[0;36m_execute_context\u001b[1;34m(self, dialect, constructor, statement, parameters, *args)\u001b[0m\n\u001b[0;32m   1314\u001b[0m \u001b[1;33m\u001b[0m\u001b[0m\n\u001b[0;32m   1315\u001b[0m         \u001b[1;32mexcept\u001b[0m \u001b[0mBaseException\u001b[0m \u001b[1;32mas\u001b[0m \u001b[0me\u001b[0m\u001b[1;33m:\u001b[0m\u001b[1;33m\u001b[0m\u001b[1;33m\u001b[0m\u001b[0m\n\u001b[1;32m-> 1316\u001b[1;33m             self._handle_dbapi_exception(\n\u001b[0m\u001b[0;32m   1317\u001b[0m                 \u001b[0me\u001b[0m\u001b[1;33m,\u001b[0m \u001b[0mstatement\u001b[0m\u001b[1;33m,\u001b[0m \u001b[0mparameters\u001b[0m\u001b[1;33m,\u001b[0m \u001b[0mcursor\u001b[0m\u001b[1;33m,\u001b[0m \u001b[0mcontext\u001b[0m\u001b[1;33m\u001b[0m\u001b[1;33m\u001b[0m\u001b[0m\n\u001b[0;32m   1318\u001b[0m             )\n",
      "\u001b[1;32m~\\Anaconda3\\lib\\site-packages\\sqlalchemy\\engine\\base.py\u001b[0m in \u001b[0;36m_handle_dbapi_exception\u001b[1;34m(self, e, statement, parameters, cursor, context)\u001b[0m\n\u001b[0;32m   1508\u001b[0m                 \u001b[0mutil\u001b[0m\u001b[1;33m.\u001b[0m\u001b[0mraise_\u001b[0m\u001b[1;33m(\u001b[0m\u001b[0mnewraise\u001b[0m\u001b[1;33m,\u001b[0m \u001b[0mwith_traceback\u001b[0m\u001b[1;33m=\u001b[0m\u001b[0mexc_info\u001b[0m\u001b[1;33m[\u001b[0m\u001b[1;36m2\u001b[0m\u001b[1;33m]\u001b[0m\u001b[1;33m,\u001b[0m \u001b[0mfrom_\u001b[0m\u001b[1;33m=\u001b[0m\u001b[0me\u001b[0m\u001b[1;33m)\u001b[0m\u001b[1;33m\u001b[0m\u001b[1;33m\u001b[0m\u001b[0m\n\u001b[0;32m   1509\u001b[0m             \u001b[1;32melif\u001b[0m \u001b[0mshould_wrap\u001b[0m\u001b[1;33m:\u001b[0m\u001b[1;33m\u001b[0m\u001b[1;33m\u001b[0m\u001b[0m\n\u001b[1;32m-> 1510\u001b[1;33m                 util.raise_(\n\u001b[0m\u001b[0;32m   1511\u001b[0m                     \u001b[0msqlalchemy_exception\u001b[0m\u001b[1;33m,\u001b[0m \u001b[0mwith_traceback\u001b[0m\u001b[1;33m=\u001b[0m\u001b[0mexc_info\u001b[0m\u001b[1;33m[\u001b[0m\u001b[1;36m2\u001b[0m\u001b[1;33m]\u001b[0m\u001b[1;33m,\u001b[0m \u001b[0mfrom_\u001b[0m\u001b[1;33m=\u001b[0m\u001b[0me\u001b[0m\u001b[1;33m\u001b[0m\u001b[1;33m\u001b[0m\u001b[0m\n\u001b[0;32m   1512\u001b[0m                 )\n",
      "\u001b[1;32m~\\Anaconda3\\lib\\site-packages\\sqlalchemy\\util\\compat.py\u001b[0m in \u001b[0;36mraise_\u001b[1;34m(***failed resolving arguments***)\u001b[0m\n\u001b[0;32m    180\u001b[0m \u001b[1;33m\u001b[0m\u001b[0m\n\u001b[0;32m    181\u001b[0m         \u001b[1;32mtry\u001b[0m\u001b[1;33m:\u001b[0m\u001b[1;33m\u001b[0m\u001b[1;33m\u001b[0m\u001b[0m\n\u001b[1;32m--> 182\u001b[1;33m             \u001b[1;32mraise\u001b[0m \u001b[0mexception\u001b[0m\u001b[1;33m\u001b[0m\u001b[1;33m\u001b[0m\u001b[0m\n\u001b[0m\u001b[0;32m    183\u001b[0m         \u001b[1;32mfinally\u001b[0m\u001b[1;33m:\u001b[0m\u001b[1;33m\u001b[0m\u001b[1;33m\u001b[0m\u001b[0m\n\u001b[0;32m    184\u001b[0m             \u001b[1;31m# credit to\u001b[0m\u001b[1;33m\u001b[0m\u001b[1;33m\u001b[0m\u001b[1;33m\u001b[0m\u001b[0m\n",
      "\u001b[1;32m~\\Anaconda3\\lib\\site-packages\\sqlalchemy\\engine\\base.py\u001b[0m in \u001b[0;36m_execute_context\u001b[1;34m(self, dialect, constructor, statement, parameters, *args)\u001b[0m\n\u001b[0;32m   1274\u001b[0m                             \u001b[1;32mbreak\u001b[0m\u001b[1;33m\u001b[0m\u001b[1;33m\u001b[0m\u001b[0m\n\u001b[0;32m   1275\u001b[0m                 \u001b[1;32mif\u001b[0m \u001b[1;32mnot\u001b[0m \u001b[0mevt_handled\u001b[0m\u001b[1;33m:\u001b[0m\u001b[1;33m\u001b[0m\u001b[1;33m\u001b[0m\u001b[0m\n\u001b[1;32m-> 1276\u001b[1;33m                     self.dialect.do_execute(\n\u001b[0m\u001b[0;32m   1277\u001b[0m                         \u001b[0mcursor\u001b[0m\u001b[1;33m,\u001b[0m \u001b[0mstatement\u001b[0m\u001b[1;33m,\u001b[0m \u001b[0mparameters\u001b[0m\u001b[1;33m,\u001b[0m \u001b[0mcontext\u001b[0m\u001b[1;33m\u001b[0m\u001b[1;33m\u001b[0m\u001b[0m\n\u001b[0;32m   1278\u001b[0m                     )\n",
      "\u001b[1;32m~\\Anaconda3\\lib\\site-packages\\sqlalchemy\\engine\\default.py\u001b[0m in \u001b[0;36mdo_execute\u001b[1;34m(self, cursor, statement, parameters, context)\u001b[0m\n\u001b[0;32m    606\u001b[0m \u001b[1;33m\u001b[0m\u001b[0m\n\u001b[0;32m    607\u001b[0m     \u001b[1;32mdef\u001b[0m \u001b[0mdo_execute\u001b[0m\u001b[1;33m(\u001b[0m\u001b[0mself\u001b[0m\u001b[1;33m,\u001b[0m \u001b[0mcursor\u001b[0m\u001b[1;33m,\u001b[0m \u001b[0mstatement\u001b[0m\u001b[1;33m,\u001b[0m \u001b[0mparameters\u001b[0m\u001b[1;33m,\u001b[0m \u001b[0mcontext\u001b[0m\u001b[1;33m=\u001b[0m\u001b[1;32mNone\u001b[0m\u001b[1;33m)\u001b[0m\u001b[1;33m:\u001b[0m\u001b[1;33m\u001b[0m\u001b[1;33m\u001b[0m\u001b[0m\n\u001b[1;32m--> 608\u001b[1;33m         \u001b[0mcursor\u001b[0m\u001b[1;33m.\u001b[0m\u001b[0mexecute\u001b[0m\u001b[1;33m(\u001b[0m\u001b[0mstatement\u001b[0m\u001b[1;33m,\u001b[0m \u001b[0mparameters\u001b[0m\u001b[1;33m)\u001b[0m\u001b[1;33m\u001b[0m\u001b[1;33m\u001b[0m\u001b[0m\n\u001b[0m\u001b[0;32m    609\u001b[0m \u001b[1;33m\u001b[0m\u001b[0m\n\u001b[0;32m    610\u001b[0m     \u001b[1;32mdef\u001b[0m \u001b[0mdo_execute_no_params\u001b[0m\u001b[1;33m(\u001b[0m\u001b[0mself\u001b[0m\u001b[1;33m,\u001b[0m \u001b[0mcursor\u001b[0m\u001b[1;33m,\u001b[0m \u001b[0mstatement\u001b[0m\u001b[1;33m,\u001b[0m \u001b[0mcontext\u001b[0m\u001b[1;33m=\u001b[0m\u001b[1;32mNone\u001b[0m\u001b[1;33m)\u001b[0m\u001b[1;33m:\u001b[0m\u001b[1;33m\u001b[0m\u001b[1;33m\u001b[0m\u001b[0m\n",
      "\u001b[1;31mInternalError\u001b[0m: (psycopg2.errors.InFailedSqlTransaction) current transaction is aborted, commands ignored until end of transaction block\n\n[SQL: SELECT count(venue.id) AS count_1, venue.city AS venue_city, venue.state AS venue_state \nFROM venue GROUP BY venue.city, venue.state]\n(Background on this error at: http://sqlalche.me/e/13/2j85)"
     ]
    }
   ],
   "source": [
    "areas = Venue.query.with_entities(db.func.count(Venue.id), Venue.city, Venue.state).group_by(Venue.city, Venue.state).all()"
   ]
  },
  {
   "cell_type": "code",
   "execution_count": 154,
   "id": "popular-transport",
   "metadata": {},
   "outputs": [
    {
     "ename": "AttributeError",
     "evalue": "'BaseQuery' object has no attribute 'select'",
     "output_type": "error",
     "traceback": [
      "\u001b[1;31m---------------------------------------------------------------------------\u001b[0m",
      "\u001b[1;31mAttributeError\u001b[0m                            Traceback (most recent call last)",
      "\u001b[1;32m<ipython-input-154-07a038285943>\u001b[0m in \u001b[0;36m<module>\u001b[1;34m\u001b[0m\n\u001b[1;32m----> 1\u001b[1;33m \u001b[0mVenue\u001b[0m\u001b[1;33m.\u001b[0m\u001b[0mquery\u001b[0m\u001b[1;33m.\u001b[0m\u001b[0mselect\u001b[0m\u001b[1;33m(\u001b[0m\u001b[1;33m)\u001b[0m\u001b[1;33m.\u001b[0m\u001b[0mall\u001b[0m\u001b[1;33m(\u001b[0m\u001b[1;33m)\u001b[0m\u001b[1;33m\u001b[0m\u001b[1;33m\u001b[0m\u001b[0m\n\u001b[0m",
      "\u001b[1;31mAttributeError\u001b[0m: 'BaseQuery' object has no attribute 'select'"
     ]
    }
   ],
   "source": [
    "Venue.query.select().all()"
   ]
  },
  {
   "cell_type": "code",
   "execution_count": 14,
   "id": "silver-moisture",
   "metadata": {},
   "outputs": [
    {
     "ename": "AttributeError",
     "evalue": "module 'sqlalchemy' has no attribute 'query'",
     "output_type": "error",
     "traceback": [
      "\u001b[1;31m---------------------------------------------------------------------------\u001b[0m",
      "\u001b[1;31mAttributeError\u001b[0m                            Traceback (most recent call last)",
      "\u001b[1;32m<ipython-input-14-ed1e60b06e6d>\u001b[0m in \u001b[0;36m<module>\u001b[1;34m\u001b[0m\n\u001b[1;32m----> 1\u001b[1;33m \u001b[0mdb\u001b[0m\u001b[1;33m.\u001b[0m\u001b[0mquery\u001b[0m\u001b[1;33m(\u001b[0m\u001b[0mVenue\u001b[0m\u001b[1;33m)\u001b[0m\u001b[1;33m.\u001b[0m\u001b[0mdistinct\u001b[0m\u001b[1;33m(\u001b[0m\u001b[0mVenue\u001b[0m\u001b[1;33m.\u001b[0m\u001b[0mcity\u001b[0m\u001b[1;33m,\u001b[0m \u001b[0mVenue\u001b[0m\u001b[1;33m.\u001b[0m\u001b[0mstate\u001b[0m\u001b[1;33m)\u001b[0m\u001b[1;33m.\u001b[0m\u001b[0mall\u001b[0m\u001b[1;33m(\u001b[0m\u001b[1;33m)\u001b[0m\u001b[1;33m\u001b[0m\u001b[1;33m\u001b[0m\u001b[0m\n\u001b[0m",
      "\u001b[1;31mAttributeError\u001b[0m: module 'sqlalchemy' has no attribute 'query'"
     ]
    }
   ],
   "source": [
    "db.query(Venue).distinct(Venue.city, Venue.state).all()"
   ]
  },
  {
   "cell_type": "code",
   "execution_count": 76,
   "id": "rational-thomas",
   "metadata": {},
   "outputs": [
    {
     "ename": "AttributeError",
     "evalue": "module 'sqlalchemy' has no attribute 'session'",
     "output_type": "error",
     "traceback": [
      "\u001b[1;31m---------------------------------------------------------------------------\u001b[0m",
      "\u001b[1;31mAttributeError\u001b[0m                            Traceback (most recent call last)",
      "\u001b[1;32m<ipython-input-76-d5321084757b>\u001b[0m in \u001b[0;36m<module>\u001b[1;34m\u001b[0m\n\u001b[1;32m----> 1\u001b[1;33m \u001b[0martist_query\u001b[0m \u001b[1;33m=\u001b[0m \u001b[0mdb\u001b[0m\u001b[1;33m.\u001b[0m\u001b[0msession\u001b[0m\u001b[1;33m.\u001b[0m\u001b[0mquery\u001b[0m\u001b[1;33m(\u001b[0m\u001b[0mArtist\u001b[0m\u001b[1;33m)\u001b[0m\u001b[1;33m.\u001b[0m\u001b[0mall\u001b[0m\u001b[1;33m(\u001b[0m\u001b[1;33m)\u001b[0m\u001b[1;33m\u001b[0m\u001b[1;33m\u001b[0m\u001b[0m\n\u001b[0m",
      "\u001b[1;31mAttributeError\u001b[0m: module 'sqlalchemy' has no attribute 'session'"
     ]
    }
   ],
   "source": [
    "artist_query = db.session.query(Artist).all()"
   ]
  },
  {
   "cell_type": "code",
   "execution_count": null,
   "id": "federal-sending",
   "metadata": {},
   "outputs": [],
   "source": []
  },
  {
   "cell_type": "code",
   "execution_count": null,
   "id": "freelance-leave",
   "metadata": {},
   "outputs": [],
   "source": []
  },
  {
   "cell_type": "code",
   "execution_count": 102,
   "id": "saving-conservation",
   "metadata": {},
   "outputs": [],
   "source": [
    "fake_name = intl_fake.name().lower().replace(\" \", \"_\")"
   ]
  },
  {
   "cell_type": "code",
   "execution_count": 103,
   "id": "legal-cache",
   "metadata": {},
   "outputs": [
    {
     "data": {
      "text/plain": [
       "'theresa_sullivan'"
      ]
     },
     "execution_count": 103,
     "metadata": {},
     "output_type": "execute_result"
    }
   ],
   "source": [
    "fake_name"
   ]
  },
  {
   "cell_type": "code",
   "execution_count": 109,
   "id": "comparative-blond",
   "metadata": {},
   "outputs": [
    {
     "data": {
      "text/plain": [
       "'Coleman Group'"
      ]
     },
     "execution_count": 109,
     "metadata": {},
     "output_type": "execute_result"
    }
   ],
   "source": [
    "fake.company()"
   ]
  },
  {
   "cell_type": "code",
   "execution_count": 104,
   "id": "planned-policy",
   "metadata": {},
   "outputs": [
    {
     "data": {
      "text/plain": [
       "'and Sons'"
      ]
     },
     "execution_count": 104,
     "metadata": {},
     "output_type": "execute_result"
    }
   ],
   "source": [
    "fake.company_suffix()"
   ]
  },
  {
   "cell_type": "code",
   "execution_count": 114,
   "id": "assured-mentor",
   "metadata": {},
   "outputs": [
    {
     "data": {
      "text/plain": [
       "'Re-contextualized national help-desk'"
      ]
     },
     "execution_count": 114,
     "metadata": {},
     "output_type": "execute_result"
    }
   ],
   "source": [
    "fake.catch_phrase()"
   ]
  },
  {
   "cell_type": "code",
   "execution_count": 113,
   "id": "usual-robin",
   "metadata": {},
   "outputs": [
    {
     "data": {
      "text/plain": [
       "'Whom employee their for attention if father third.'"
      ]
     },
     "execution_count": 113,
     "metadata": {},
     "output_type": "execute_result"
    }
   ],
   "source": [
    "fake.sentence()"
   ]
  },
  {
   "cell_type": "code",
   "execution_count": 116,
   "id": "southeast-installation",
   "metadata": {},
   "outputs": [
    {
     "data": {
      "text/plain": [
       "'Persistent mission-critical strategy. Suffer dream care lose.'"
      ]
     },
     "execution_count": 116,
     "metadata": {},
     "output_type": "execute_result"
    }
   ],
   "source": [
    "fake.catch_phrase() + '. ' + fake.sentence()"
   ]
  },
  {
   "cell_type": "code",
   "execution_count": 169,
   "id": "ambient-security",
   "metadata": {},
   "outputs": [
    {
     "ename": "AttributeError",
     "evalue": "'str' object has no attribute 'strftime'",
     "output_type": "error",
     "traceback": [
      "\u001b[1;31m---------------------------------------------------------------------------\u001b[0m",
      "\u001b[1;31mAttributeError\u001b[0m                            Traceback (most recent call last)",
      "\u001b[1;32m<ipython-input-169-d968d42085fa>\u001b[0m in \u001b[0;36m<module>\u001b[1;34m\u001b[0m\n\u001b[0;32m      1\u001b[0m \u001b[1;32mimport\u001b[0m \u001b[0mtime\u001b[0m\u001b[1;33m\u001b[0m\u001b[1;33m\u001b[0m\u001b[0m\n\u001b[0;32m      2\u001b[0m \u001b[1;32mfrom\u001b[0m \u001b[0mdatetime\u001b[0m \u001b[1;32mimport\u001b[0m \u001b[0mdate\u001b[0m\u001b[1;33m\u001b[0m\u001b[1;33m\u001b[0m\u001b[0m\n\u001b[1;32m----> 3\u001b[1;33m \u001b[0mfake\u001b[0m\u001b[1;33m.\u001b[0m\u001b[0mdate\u001b[0m\u001b[1;33m(\u001b[0m\u001b[1;33m)\u001b[0m\u001b[1;33m.\u001b[0m\u001b[0mstrftime\u001b[0m\u001b[1;33m(\u001b[0m\u001b[1;34m'%Y-%m-%d %H:%S:%M'\u001b[0m\u001b[1;33m)\u001b[0m\u001b[1;33m\u001b[0m\u001b[1;33m\u001b[0m\u001b[0m\n\u001b[0m",
      "\u001b[1;31mAttributeError\u001b[0m: 'str' object has no attribute 'strftime'"
     ]
    }
   ],
   "source": [
    "import time\n",
    "from datetime import date\n",
    "fake.date().strftime('%Y-%m-%d %H:%S:%M')"
   ]
  },
  {
   "cell_type": "code",
   "execution_count": 98,
   "id": "funded-questionnaire",
   "metadata": {},
   "outputs": [],
   "source": [
    "from datetime import datetime\n",
    "\n",
    "date = datetime.now()"
   ]
  },
  {
   "cell_type": "code",
   "execution_count": 182,
   "id": "frozen-universe",
   "metadata": {},
   "outputs": [
    {
     "data": {
      "text/plain": [
       "(datetime.datetime(2021, 2, 27, 14, 4, 31, 299063), datetime.datetime)"
      ]
     },
     "execution_count": 182,
     "metadata": {},
     "output_type": "execute_result"
    }
   ],
   "source": [
    "date, type(date)"
   ]
  },
  {
   "cell_type": "code",
   "execution_count": 183,
   "id": "respiratory-phoenix",
   "metadata": {},
   "outputs": [
    {
     "data": {
      "text/plain": [
       "('2021-02-27 14:31:04', str)"
      ]
     },
     "execution_count": 183,
     "metadata": {},
     "output_type": "execute_result"
    }
   ],
   "source": [
    "date.strftime('%Y-%m-%d %H:%S:%M'), type(date.strftime('%Y-%m-%d %H:%S:%M'))"
   ]
  },
  {
   "cell_type": "code",
   "execution_count": 210,
   "id": "southeast-auckland",
   "metadata": {},
   "outputs": [],
   "source": [
    "arre = [x for x in range(0,14)]"
   ]
  },
  {
   "cell_type": "code",
   "execution_count": 211,
   "id": "under-uncle",
   "metadata": {},
   "outputs": [
    {
     "data": {
      "text/plain": [
       "[0, 1, 2, 3, 4, 5, 6, 7, 8, 9, 10, 11, 12, 13]"
      ]
     },
     "execution_count": 211,
     "metadata": {},
     "output_type": "execute_result"
    }
   ],
   "source": [
    "arre"
   ]
  },
  {
   "cell_type": "code",
   "execution_count": 212,
   "id": "spanish-defendant",
   "metadata": {},
   "outputs": [],
   "source": [
    "areas = Venue.query.distinct(Venue.city, Venue.state).all()\n"
   ]
  },
  {
   "cell_type": "code",
   "execution_count": 225,
   "id": "unlike-creator",
   "metadata": {},
   "outputs": [
    {
     "ename": "AttributeError",
     "evalue": "'BaseQuery' object has no attribute 'columns'",
     "output_type": "error",
     "traceback": [
      "\u001b[1;31m---------------------------------------------------------------------------\u001b[0m",
      "\u001b[1;31mAttributeError\u001b[0m                            Traceback (most recent call last)",
      "\u001b[1;32m<ipython-input-225-ae2c05df0145>\u001b[0m in \u001b[0;36m<module>\u001b[1;34m\u001b[0m\n\u001b[1;32m----> 1\u001b[1;33m \u001b[0mVenue\u001b[0m\u001b[1;33m.\u001b[0m\u001b[0mquery\u001b[0m\u001b[1;33m.\u001b[0m\u001b[0mdistinct\u001b[0m\u001b[1;33m(\u001b[0m\u001b[0mVenue\u001b[0m\u001b[1;33m.\u001b[0m\u001b[0mcity\u001b[0m\u001b[1;33m,\u001b[0m \u001b[0mVenue\u001b[0m\u001b[1;33m.\u001b[0m\u001b[0mstate\u001b[0m\u001b[1;33m)\u001b[0m\u001b[1;33m.\u001b[0m\u001b[0mcolumns\u001b[0m\u001b[1;33m(\u001b[0m\u001b[0mVenue\u001b[0m\u001b[1;33m.\u001b[0m\u001b[0mcity\u001b[0m\u001b[1;33m,\u001b[0m \u001b[0mVenue\u001b[0m\u001b[1;33m.\u001b[0m\u001b[0mstate\u001b[0m\u001b[1;33m)\u001b[0m\u001b[1;33m.\u001b[0m\u001b[0mall\u001b[0m\u001b[1;33m(\u001b[0m\u001b[1;33m)\u001b[0m\u001b[1;33m\u001b[0m\u001b[1;33m\u001b[0m\u001b[0m\n\u001b[0m",
      "\u001b[1;31mAttributeError\u001b[0m: 'BaseQuery' object has no attribute 'columns'"
     ]
    }
   ],
   "source": [
    "Venue.query.distinct(Venue.city, Venue.state).columns(Venue.city, Venue.state).all()"
   ]
  },
  {
   "cell_type": "code",
   "execution_count": 230,
   "id": "close-royalty",
   "metadata": {},
   "outputs": [
    {
     "data": {
      "text/plain": [
       "100"
      ]
     },
     "execution_count": 230,
     "metadata": {},
     "output_type": "execute_result"
    }
   ],
   "source": [
    "len(areas)"
   ]
  },
  {
   "cell_type": "code",
   "execution_count": 249,
   "id": "complete-brooks",
   "metadata": {},
   "outputs": [],
   "source": [
    "areas = Venue.query.distinct(Venue.city, Venue.state).with_entities(Venue.city, Venue.state).all()\n",
    "data = []\n",
    "current_time = datetime.now()\n",
    "for area in areas:\n",
    "    area_data = dict()\n",
    "    area_data['city'], area_data['state'] = area    \n",
    "    venues = Venue.query.filter_by(city=area_data['city']).filter_by(state=area_data['state']).all()\n",
    "    area_data['venues'] = [{\n",
    "            \"id\": venue.id,\n",
    "            \"name\": venue.name,\n",
    "            \"num_upcoming_shows\": session.query(db.func.count(Show.id)).filter(Show.venue_id==venue.id, Show.start_time>current_time).all()[0][0]\n",
    "              } for venue in venues]\n",
    "    data.append(area_data)"
   ]
  },
  {
   "cell_type": "code",
   "execution_count": 257,
   "id": "sophisticated-aspect",
   "metadata": {},
   "outputs": [
    {
     "data": {
      "text/plain": [
       "0"
      ]
     },
     "execution_count": 257,
     "metadata": {},
     "output_type": "execute_result"
    }
   ],
   "source": [
    "\n",
    "session.query(db.func.count(Show.id)).filter(Show.venue_id==venue.id, Show.start_time>current_time).all()[0][0]"
   ]
  },
  {
   "cell_type": "code",
   "execution_count": 250,
   "id": "manufactured-aluminum",
   "metadata": {
    "collapsed": true,
    "jupyter": {
     "outputs_hidden": true
    }
   },
   "outputs": [
    {
     "data": {
      "text/plain": [
       "[{'city': 'Allenfurt',\n",
       "  'state': 'Utah',\n",
       "  'venues': [{'id': 85,\n",
       "    'name': 'Jackson Group',\n",
       "    'num_upcoming_shows': '(0,)'}]},\n",
       " {'city': 'Andrewchester',\n",
       "  'state': 'Vermont',\n",
       "  'venues': [{'id': 7,\n",
       "    'name': 'Whitaker Group',\n",
       "    'num_upcoming_shows': '(0,)'}]},\n",
       " {'city': 'Bishopshire',\n",
       "  'state': 'Pennsylvania',\n",
       "  'venues': [{'id': 37,\n",
       "    'name': 'Barker and Sons',\n",
       "    'num_upcoming_shows': '(0,)'}]},\n",
       " {'city': 'Brittanyview',\n",
       "  'state': 'Michigan',\n",
       "  'venues': [{'id': 88,\n",
       "    'name': 'Fuentes, Nelson and Chavez',\n",
       "    'num_upcoming_shows': '(0,)'}]},\n",
       " {'city': 'Cameronfort',\n",
       "  'state': 'New Jersey',\n",
       "  'venues': [{'id': 66,\n",
       "    'name': 'Wilkins-Hill',\n",
       "    'num_upcoming_shows': '(0,)'}]},\n",
       " {'city': 'Carolynmouth',\n",
       "  'state': 'Wisconsin',\n",
       "  'venues': [{'id': 4,\n",
       "    'name': 'Martin, York and Buchanan',\n",
       "    'num_upcoming_shows': '(0,)'}]},\n",
       " {'city': 'Catherineberg',\n",
       "  'state': 'Minnesota',\n",
       "  'venues': [{'id': 63,\n",
       "    'name': 'Patrick-Rollins',\n",
       "    'num_upcoming_shows': '(0,)'}]},\n",
       " {'city': 'Charleschester',\n",
       "  'state': 'Colorado',\n",
       "  'venues': [{'id': 79,\n",
       "    'name': 'Mcpherson PLC',\n",
       "    'num_upcoming_shows': '(0,)'}]},\n",
       " {'city': 'Cindyberg',\n",
       "  'state': 'Delaware',\n",
       "  'venues': [{'id': 46,\n",
       "    'name': 'Romero-Cervantes',\n",
       "    'num_upcoming_shows': '(0,)'}]},\n",
       " {'city': 'Coltonview',\n",
       "  'state': 'Alaska',\n",
       "  'venues': [{'id': 21, 'name': 'Brown-Banks', 'num_upcoming_shows': '(0,)'}]},\n",
       " {'city': 'Cooperbury',\n",
       "  'state': 'Washington',\n",
       "  'venues': [{'id': 6,\n",
       "    'name': 'Baker, Cooper and Chang',\n",
       "    'num_upcoming_shows': '(0,)'}]},\n",
       " {'city': 'Curryview',\n",
       "  'state': 'Nevada',\n",
       "  'venues': [{'id': 90, 'name': 'Diaz-Brown', 'num_upcoming_shows': '(0,)'}]},\n",
       " {'city': 'Darrenfurt',\n",
       "  'state': 'New Hampshire',\n",
       "  'venues': [{'id': 61, 'name': 'Jimenez Inc', 'num_upcoming_shows': '(0,)'}]},\n",
       " {'city': 'Davidtown',\n",
       "  'state': 'Oklahoma',\n",
       "  'venues': [{'id': 30, 'name': 'Cortez-Yang', 'num_upcoming_shows': '(0,)'}]},\n",
       " {'city': 'Dominguezfurt',\n",
       "  'state': 'Mississippi',\n",
       "  'venues': [{'id': 80,\n",
       "    'name': 'Villegas, Burns and Cunningham',\n",
       "    'num_upcoming_shows': '(0,)'}]},\n",
       " {'city': 'East Bethany',\n",
       "  'state': 'Wyoming',\n",
       "  'venues': [{'id': 52,\n",
       "    'name': 'Ingram, Vasquez and Davis',\n",
       "    'num_upcoming_shows': '(0,)'}]},\n",
       " {'city': 'East Jennifer',\n",
       "  'state': 'Kentucky',\n",
       "  'venues': [{'id': 36,\n",
       "    'name': 'Sanchez, Cortez and Wall',\n",
       "    'num_upcoming_shows': '(0,)'}]},\n",
       " {'city': 'East Kathryn',\n",
       "  'state': 'Alaska',\n",
       "  'venues': [{'id': 44,\n",
       "    'name': 'Kelly, Taylor and Cook',\n",
       "    'num_upcoming_shows': '(0,)'}]},\n",
       " {'city': 'East Kathy',\n",
       "  'state': 'South Carolina',\n",
       "  'venues': [{'id': 47,\n",
       "    'name': 'Guzman-Sanchez',\n",
       "    'num_upcoming_shows': '(0,)'}]},\n",
       " {'city': 'East Sarahville',\n",
       "  'state': 'Alabama',\n",
       "  'venues': [{'id': 55,\n",
       "    'name': 'Miller, Hull and Schmidt',\n",
       "    'num_upcoming_shows': '(0,)'}]},\n",
       " {'city': 'Elliottmouth',\n",
       "  'state': 'Utah',\n",
       "  'venues': [{'id': 8,\n",
       "    'name': 'Leon, Henry and Carlson',\n",
       "    'num_upcoming_shows': '(0,)'}]},\n",
       " {'city': 'Emmaport',\n",
       "  'state': 'Nebraska',\n",
       "  'venues': [{'id': 77,\n",
       "    'name': 'Mcintosh-Mcclain',\n",
       "    'num_upcoming_shows': '(0,)'}]},\n",
       " {'city': 'Garrisonville',\n",
       "  'state': 'South Carolina',\n",
       "  'venues': [{'id': 28,\n",
       "    'name': 'Jackson-Reid',\n",
       "    'num_upcoming_shows': '(0,)'}]},\n",
       " {'city': 'Hayesburgh',\n",
       "  'state': 'North Dakota',\n",
       "  'venues': [{'id': 75, 'name': 'Li Inc', 'num_upcoming_shows': '(0,)'}]},\n",
       " {'city': 'Heatherview',\n",
       "  'state': 'Montana',\n",
       "  'venues': [{'id': 71,\n",
       "    'name': 'Richardson-Green',\n",
       "    'num_upcoming_shows': '(0,)'}]},\n",
       " {'city': 'Heiditon',\n",
       "  'state': 'Georgia',\n",
       "  'venues': [{'id': 99, 'name': 'Mathis LLC', 'num_upcoming_shows': '(0,)'}]},\n",
       " {'city': 'Hubbardtown',\n",
       "  'state': 'Texas',\n",
       "  'venues': [{'id': 1,\n",
       "    'name': 'Garza, Miller and Lopez',\n",
       "    'num_upcoming_shows': '(0,)'}]},\n",
       " {'city': 'Huynhfort',\n",
       "  'state': 'Missouri',\n",
       "  'venues': [{'id': 26,\n",
       "    'name': 'Turner-Anderson',\n",
       "    'num_upcoming_shows': '(0,)'}]},\n",
       " {'city': 'Jacobsontown',\n",
       "  'state': 'Idaho',\n",
       "  'venues': [{'id': 25,\n",
       "    'name': 'Johnston-Miller',\n",
       "    'num_upcoming_shows': '(0,)'}]},\n",
       " {'city': 'Jamesfort',\n",
       "  'state': 'Utah',\n",
       "  'venues': [{'id': 3,\n",
       "    'name': 'Velasquez-Thomas',\n",
       "    'num_upcoming_shows': '(0,)'}]},\n",
       " {'city': 'Jamesmouth',\n",
       "  'state': 'Rhode Island',\n",
       "  'venues': [{'id': 12,\n",
       "    'name': 'Williams-Barr',\n",
       "    'num_upcoming_shows': '(0,)'}]},\n",
       " {'city': 'Jamesside',\n",
       "  'state': 'West Virginia',\n",
       "  'venues': [{'id': 14, 'name': 'Baxter-Cox', 'num_upcoming_shows': '(0,)'}]},\n",
       " {'city': 'Johnnymouth',\n",
       "  'state': 'Mississippi',\n",
       "  'venues': [{'id': 64, 'name': 'Chavez Inc', 'num_upcoming_shows': '(0,)'}]},\n",
       " {'city': 'Johnsonberg',\n",
       "  'state': 'Kansas',\n",
       "  'venues': [{'id': 96,\n",
       "    'name': 'Bright and Sons',\n",
       "    'num_upcoming_shows': '(0,)'}]},\n",
       " {'city': 'Johnsonbury',\n",
       "  'state': 'New Jersey',\n",
       "  'venues': [{'id': 67,\n",
       "    'name': 'Lopez, Santos and Howell',\n",
       "    'num_upcoming_shows': '(0,)'}]},\n",
       " {'city': 'Josephhaven',\n",
       "  'state': 'Kansas',\n",
       "  'venues': [{'id': 50,\n",
       "    'name': 'Anderson LLC',\n",
       "    'num_upcoming_shows': '(0,)'}]},\n",
       " {'city': 'Kennethmouth',\n",
       "  'state': 'Kentucky',\n",
       "  'venues': [{'id': 87, 'name': 'Rose Group', 'num_upcoming_shows': '(0,)'}]},\n",
       " {'city': 'Lake Brianton',\n",
       "  'state': 'Virginia',\n",
       "  'venues': [{'id': 76, 'name': 'Weaver LLC', 'num_upcoming_shows': '(0,)'}]},\n",
       " {'city': 'Lake Carlamouth',\n",
       "  'state': 'Massachusetts',\n",
       "  'venues': [{'id': 68, 'name': 'Freeman PLC', 'num_upcoming_shows': '(0,)'}]},\n",
       " {'city': 'Lake Codymouth',\n",
       "  'state': 'New Hampshire',\n",
       "  'venues': [{'id': 43,\n",
       "    'name': 'Hughes-Gould',\n",
       "    'num_upcoming_shows': '(0,)'}]},\n",
       " {'city': 'Lake Elizabeth',\n",
       "  'state': 'New York',\n",
       "  'venues': [{'id': 20, 'name': 'Tran PLC', 'num_upcoming_shows': '(0,)'}]},\n",
       " {'city': 'Lake Emmaburgh',\n",
       "  'state': 'Maryland',\n",
       "  'venues': [{'id': 15, 'name': 'Wheeler PLC', 'num_upcoming_shows': '(0,)'}]},\n",
       " {'city': 'Lake Jenniferside',\n",
       "  'state': 'North Dakota',\n",
       "  'venues': [{'id': 98,\n",
       "    'name': 'Nelson, Knight and Randall',\n",
       "    'num_upcoming_shows': '(0,)'}]},\n",
       " {'city': 'Lake Jonathan',\n",
       "  'state': 'Virginia',\n",
       "  'venues': [{'id': 31,\n",
       "    'name': 'Alexander Ltd',\n",
       "    'num_upcoming_shows': '(0,)'}]},\n",
       " {'city': 'Lake Judy',\n",
       "  'state': 'Idaho',\n",
       "  'venues': [{'id': 40,\n",
       "    'name': 'Austin-Davis',\n",
       "    'num_upcoming_shows': '(0,)'}]},\n",
       " {'city': 'Lake Kathyton',\n",
       "  'state': 'Massachusetts',\n",
       "  'venues': [{'id': 19, 'name': 'Young Inc', 'num_upcoming_shows': '(0,)'}]},\n",
       " {'city': 'Lake Lauramouth',\n",
       "  'state': 'Florida',\n",
       "  'venues': [{'id': 11,\n",
       "    'name': 'Hurst, Thompson and Anderson',\n",
       "    'num_upcoming_shows': '(0,)'}]},\n",
       " {'city': 'Lake Mary',\n",
       "  'state': 'Minnesota',\n",
       "  'venues': [{'id': 83,\n",
       "    'name': 'Gardner-Warren',\n",
       "    'num_upcoming_shows': '(0,)'}]},\n",
       " {'city': 'Lake Shane',\n",
       "  'state': 'Minnesota',\n",
       "  'venues': [{'id': 17,\n",
       "    'name': 'Johnson, Morgan and Blake',\n",
       "    'num_upcoming_shows': '(0,)'}]},\n",
       " {'city': 'Leeburgh',\n",
       "  'state': 'Minnesota',\n",
       "  'venues': [{'id': 82,\n",
       "    'name': 'Santos, Moore and Gibson',\n",
       "    'num_upcoming_shows': '(0,)'}]},\n",
       " {'city': 'Leviview',\n",
       "  'state': 'Florida',\n",
       "  'venues': [{'id': 35,\n",
       "    'name': 'Coffey-Willis',\n",
       "    'num_upcoming_shows': '(0,)'}]},\n",
       " {'city': 'Masseyburgh',\n",
       "  'state': 'Texas',\n",
       "  'venues': [{'id': 54,\n",
       "    'name': 'Gonzalez Group',\n",
       "    'num_upcoming_shows': '(0,)'}]},\n",
       " {'city': 'Michelleburgh',\n",
       "  'state': 'Louisiana',\n",
       "  'venues': [{'id': 92,\n",
       "    'name': 'Mason, Melton and Oneal',\n",
       "    'num_upcoming_shows': '(0,)'}]},\n",
       " {'city': 'Millermouth',\n",
       "  'state': 'Nevada',\n",
       "  'venues': [{'id': 23,\n",
       "    'name': 'Martinez Inc',\n",
       "    'num_upcoming_shows': '(0,)'}]},\n",
       " {'city': 'Millerside',\n",
       "  'state': 'Louisiana',\n",
       "  'venues': [{'id': 86, 'name': 'Thomas Ltd', 'num_upcoming_shows': '(0,)'}]},\n",
       " {'city': 'Moralesmouth',\n",
       "  'state': 'North Dakota',\n",
       "  'venues': [{'id': 45,\n",
       "    'name': 'Mcdonald Group',\n",
       "    'num_upcoming_shows': '(0,)'}]},\n",
       " {'city': 'New Emma',\n",
       "  'state': 'New York',\n",
       "  'venues': [{'id': 93, 'name': 'Howard-Wall', 'num_upcoming_shows': '(0,)'}]},\n",
       " {'city': 'New Jacob',\n",
       "  'state': 'Oregon',\n",
       "  'venues': [{'id': 81,\n",
       "    'name': 'Schaefer-Rice',\n",
       "    'num_upcoming_shows': '(0,)'}]},\n",
       " {'city': 'New Jennifer',\n",
       "  'state': 'Michigan',\n",
       "  'venues': [{'id': 56, 'name': 'Jones PLC', 'num_upcoming_shows': '(0,)'}]},\n",
       " {'city': 'New Joelhaven',\n",
       "  'state': 'Iowa',\n",
       "  'venues': [{'id': 60,\n",
       "    'name': 'Warren-Martinez',\n",
       "    'num_upcoming_shows': '(0,)'}]},\n",
       " {'city': 'New Lawrencechester',\n",
       "  'state': 'Nebraska',\n",
       "  'venues': [{'id': 18,\n",
       "    'name': 'Stevens, Ferguson and Meyers',\n",
       "    'num_upcoming_shows': '(0,)'}]},\n",
       " {'city': 'New Rebeccaland',\n",
       "  'state': 'California',\n",
       "  'venues': [{'id': 10,\n",
       "    'name': 'Oneal-Walker',\n",
       "    'num_upcoming_shows': '(0,)'}]},\n",
       " {'city': 'North Allisonmouth',\n",
       "  'state': 'Ohio',\n",
       "  'venues': [{'id': 22,\n",
       "    'name': 'Hancock-Roth',\n",
       "    'num_upcoming_shows': '(0,)'}]},\n",
       " {'city': 'North Jennifer',\n",
       "  'state': 'Louisiana',\n",
       "  'venues': [{'id': 59, 'name': 'Bauer LLC', 'num_upcoming_shows': '(0,)'}]},\n",
       " {'city': 'North John',\n",
       "  'state': 'Virginia',\n",
       "  'venues': [{'id': 91, 'name': 'Gray-Murphy', 'num_upcoming_shows': '(0,)'}]},\n",
       " {'city': 'North Johnmouth',\n",
       "  'state': 'North Dakota',\n",
       "  'venues': [{'id': 16,\n",
       "    'name': 'Davidson Group',\n",
       "    'num_upcoming_shows': '(0,)'}]},\n",
       " {'city': 'North Joseland',\n",
       "  'state': 'North Carolina',\n",
       "  'venues': [{'id': 34,\n",
       "    'name': 'Huffman and Sons',\n",
       "    'num_upcoming_shows': '(0,)'}]},\n",
       " {'city': 'North Sandra',\n",
       "  'state': 'Nebraska',\n",
       "  'venues': [{'id': 74,\n",
       "    'name': 'Howard, Hunter and Johnson',\n",
       "    'num_upcoming_shows': '(0,)'}]},\n",
       " {'city': 'North Willieview',\n",
       "  'state': 'New Hampshire',\n",
       "  'venues': [{'id': 39,\n",
       "    'name': 'Hendricks Group',\n",
       "    'num_upcoming_shows': '(0,)'}]},\n",
       " {'city': 'Pageland',\n",
       "  'state': 'Rhode Island',\n",
       "  'venues': [{'id': 29,\n",
       "    'name': 'Lopez-Williams',\n",
       "    'num_upcoming_shows': '(0,)'}]},\n",
       " {'city': 'Port Ann',\n",
       "  'state': 'Massachusetts',\n",
       "  'venues': [{'id': 2, 'name': 'Waters Ltd', 'num_upcoming_shows': '(0,)'}]},\n",
       " {'city': 'Port Brandon',\n",
       "  'state': 'Delaware',\n",
       "  'venues': [{'id': 33, 'name': 'Walker Ltd', 'num_upcoming_shows': '(0,)'}]},\n",
       " {'city': 'Port Charles',\n",
       "  'state': 'California',\n",
       "  'venues': [{'id': 78, 'name': 'Carroll Ltd', 'num_upcoming_shows': '(0,)'}]},\n",
       " {'city': 'Port Danny',\n",
       "  'state': 'Iowa',\n",
       "  'venues': [{'id': 72,\n",
       "    'name': 'Johnson, Cole and Turner',\n",
       "    'num_upcoming_shows': '(0,)'}]},\n",
       " {'city': 'Port Gina',\n",
       "  'state': 'Oklahoma',\n",
       "  'venues': [{'id': 13,\n",
       "    'name': 'Serrano, Williams and Riley',\n",
       "    'num_upcoming_shows': '(0,)'}]},\n",
       " {'city': 'Port James',\n",
       "  'state': 'New York',\n",
       "  'venues': [{'id': 95,\n",
       "    'name': 'May, Weber and Burke',\n",
       "    'num_upcoming_shows': '(0,)'}]},\n",
       " {'city': 'Port Kyleland',\n",
       "  'state': 'New Mexico',\n",
       "  'venues': [{'id': 9,\n",
       "    'name': 'Johnson, Blair and Washington',\n",
       "    'num_upcoming_shows': '(0,)'}]},\n",
       " {'city': 'Port Michaelfurt',\n",
       "  'state': 'Louisiana',\n",
       "  'venues': [{'id': 100, 'name': 'Kidd Inc', 'num_upcoming_shows': '(0,)'}]},\n",
       " {'city': 'Port Sherihaven',\n",
       "  'state': 'Georgia',\n",
       "  'venues': [{'id': 97,\n",
       "    'name': 'Gonzales, Johnson and Hughes',\n",
       "    'num_upcoming_shows': '(0,)'}]},\n",
       " {'city': 'Powersberg',\n",
       "  'state': 'Kentucky',\n",
       "  'venues': [{'id': 69,\n",
       "    'name': 'Wilson Group',\n",
       "    'num_upcoming_shows': '(0,)'}]},\n",
       " {'city': 'Rubenmouth',\n",
       "  'state': 'Virginia',\n",
       "  'venues': [{'id': 48,\n",
       "    'name': 'Johnson-Carroll',\n",
       "    'num_upcoming_shows': '(0,)'}]},\n",
       " {'city': 'Schwartzton',\n",
       "  'state': 'Arizona',\n",
       "  'venues': [{'id': 73, 'name': 'Ayala Inc', 'num_upcoming_shows': '(0,)'}]},\n",
       " {'city': 'Scottside',\n",
       "  'state': 'Wisconsin',\n",
       "  'venues': [{'id': 49,\n",
       "    'name': 'Johnson-Ball',\n",
       "    'num_upcoming_shows': '(0,)'}]},\n",
       " {'city': 'Smithstad',\n",
       "  'state': 'Wisconsin',\n",
       "  'venues': [{'id': 58,\n",
       "    'name': 'Watkins-Melton',\n",
       "    'num_upcoming_shows': '(0,)'}]},\n",
       " {'city': 'South Carly',\n",
       "  'state': 'Louisiana',\n",
       "  'venues': [{'id': 42, 'name': 'Perez-Duke', 'num_upcoming_shows': '(0,)'}]},\n",
       " {'city': 'South Davidland',\n",
       "  'state': 'Florida',\n",
       "  'venues': [{'id': 84,\n",
       "    'name': 'Sanchez, Gutierrez and Schwartz',\n",
       "    'num_upcoming_shows': '(0,)'}]},\n",
       " {'city': 'South Debraview',\n",
       "  'state': 'Arizona',\n",
       "  'venues': [{'id': 51, 'name': 'Dixon Group', 'num_upcoming_shows': '(0,)'}]},\n",
       " {'city': 'South Josephfurt',\n",
       "  'state': 'Arizona',\n",
       "  'venues': [{'id': 57,\n",
       "    'name': 'Wilson-Thompson',\n",
       "    'num_upcoming_shows': '(0,)'}]},\n",
       " {'city': 'South Pamela',\n",
       "  'state': 'Kansas',\n",
       "  'venues': [{'id': 94,\n",
       "    'name': 'Crawford-Wilson',\n",
       "    'num_upcoming_shows': '(0,)'}]},\n",
       " {'city': 'South Yvonne',\n",
       "  'state': 'South Dakota',\n",
       "  'venues': [{'id': 24, 'name': 'Kim-Nguyen', 'num_upcoming_shows': '(0,)'}]},\n",
       " {'city': 'Tracychester',\n",
       "  'state': 'New Mexico',\n",
       "  'venues': [{'id': 38,\n",
       "    'name': 'Reyes-Miller',\n",
       "    'num_upcoming_shows': '(0,)'}]},\n",
       " {'city': 'West James',\n",
       "  'state': 'Wyoming',\n",
       "  'venues': [{'id': 53,\n",
       "    'name': 'Roberts-Robertson',\n",
       "    'num_upcoming_shows': '(0,)'}]},\n",
       " {'city': 'West Jeffrey',\n",
       "  'state': 'Delaware',\n",
       "  'venues': [{'id': 27, 'name': 'Reid LLC', 'num_upcoming_shows': '(0,)'}]},\n",
       " {'city': 'West Jenniferville',\n",
       "  'state': 'New Hampshire',\n",
       "  'venues': [{'id': 70,\n",
       "    'name': 'Duffy, Hopkins and Day',\n",
       "    'num_upcoming_shows': '(0,)'}]},\n",
       " {'city': 'West Jessica',\n",
       "  'state': 'New Hampshire',\n",
       "  'venues': [{'id': 62,\n",
       "    'name': 'Sullivan, Edwards and Cole',\n",
       "    'num_upcoming_shows': '(0,)'}]},\n",
       " {'city': 'West Matthewland',\n",
       "  'state': 'Delaware',\n",
       "  'venues': [{'id': 89,\n",
       "    'name': 'Hayes-Melton',\n",
       "    'num_upcoming_shows': '(0,)'}]},\n",
       " {'city': 'West Michael',\n",
       "  'state': 'Washington',\n",
       "  'venues': [{'id': 41,\n",
       "    'name': 'Johnson, Lee and Lee',\n",
       "    'num_upcoming_shows': '(0,)'}]},\n",
       " {'city': 'West Sheena',\n",
       "  'state': 'Mississippi',\n",
       "  'venues': [{'id': 5, 'name': 'Snyder Group', 'num_upcoming_shows': '(0,)'}]},\n",
       " {'city': 'West Vanessa',\n",
       "  'state': 'Texas',\n",
       "  'venues': [{'id': 32, 'name': 'Price Inc', 'num_upcoming_shows': '(0,)'}]},\n",
       " {'city': 'Williamsport',\n",
       "  'state': 'Nebraska',\n",
       "  'venues': [{'id': 65, 'name': 'Jackson Inc', 'num_upcoming_shows': '(0,)'}]}]"
      ]
     },
     "execution_count": 250,
     "metadata": {},
     "output_type": "execute_result"
    }
   ],
   "source": [
    "data"
   ]
  },
  {
   "cell_type": "code",
   "execution_count": 232,
   "id": "paperback-oxide",
   "metadata": {
    "collapsed": true,
    "jupyter": {
     "outputs_hidden": true
    }
   },
   "outputs": [
    {
     "data": {
      "text/plain": [
       "[('Allenfurt', 'Utah'),\n",
       " ('Andrewchester', 'Vermont'),\n",
       " ('Bishopshire', 'Pennsylvania'),\n",
       " ('Brittanyview', 'Michigan'),\n",
       " ('Cameronfort', 'New Jersey'),\n",
       " ('Carolynmouth', 'Wisconsin'),\n",
       " ('Catherineberg', 'Minnesota'),\n",
       " ('Charleschester', 'Colorado'),\n",
       " ('Cindyberg', 'Delaware'),\n",
       " ('Coltonview', 'Alaska'),\n",
       " ('Cooperbury', 'Washington'),\n",
       " ('Curryview', 'Nevada'),\n",
       " ('Darrenfurt', 'New Hampshire'),\n",
       " ('Davidtown', 'Oklahoma'),\n",
       " ('Dominguezfurt', 'Mississippi'),\n",
       " ('East Bethany', 'Wyoming'),\n",
       " ('East Jennifer', 'Kentucky'),\n",
       " ('East Kathryn', 'Alaska'),\n",
       " ('East Kathy', 'South Carolina'),\n",
       " ('East Sarahville', 'Alabama'),\n",
       " ('Elliottmouth', 'Utah'),\n",
       " ('Emmaport', 'Nebraska'),\n",
       " ('Garrisonville', 'South Carolina'),\n",
       " ('Hayesburgh', 'North Dakota'),\n",
       " ('Heatherview', 'Montana'),\n",
       " ('Heiditon', 'Georgia'),\n",
       " ('Hubbardtown', 'Texas'),\n",
       " ('Huynhfort', 'Missouri'),\n",
       " ('Jacobsontown', 'Idaho'),\n",
       " ('Jamesfort', 'Utah'),\n",
       " ('Jamesmouth', 'Rhode Island'),\n",
       " ('Jamesside', 'West Virginia'),\n",
       " ('Johnnymouth', 'Mississippi'),\n",
       " ('Johnsonberg', 'Kansas'),\n",
       " ('Johnsonbury', 'New Jersey'),\n",
       " ('Josephhaven', 'Kansas'),\n",
       " ('Kennethmouth', 'Kentucky'),\n",
       " ('Lake Brianton', 'Virginia'),\n",
       " ('Lake Carlamouth', 'Massachusetts'),\n",
       " ('Lake Codymouth', 'New Hampshire'),\n",
       " ('Lake Elizabeth', 'New York'),\n",
       " ('Lake Emmaburgh', 'Maryland'),\n",
       " ('Lake Jenniferside', 'North Dakota'),\n",
       " ('Lake Jonathan', 'Virginia'),\n",
       " ('Lake Judy', 'Idaho'),\n",
       " ('Lake Kathyton', 'Massachusetts'),\n",
       " ('Lake Lauramouth', 'Florida'),\n",
       " ('Lake Mary', 'Minnesota'),\n",
       " ('Lake Shane', 'Minnesota'),\n",
       " ('Leeburgh', 'Minnesota'),\n",
       " ('Leviview', 'Florida'),\n",
       " ('Masseyburgh', 'Texas'),\n",
       " ('Michelleburgh', 'Louisiana'),\n",
       " ('Millermouth', 'Nevada'),\n",
       " ('Millerside', 'Louisiana'),\n",
       " ('Moralesmouth', 'North Dakota'),\n",
       " ('New Emma', 'New York'),\n",
       " ('New Jacob', 'Oregon'),\n",
       " ('New Jennifer', 'Michigan'),\n",
       " ('New Joelhaven', 'Iowa'),\n",
       " ('New Lawrencechester', 'Nebraska'),\n",
       " ('New Rebeccaland', 'California'),\n",
       " ('North Allisonmouth', 'Ohio'),\n",
       " ('North Jennifer', 'Louisiana'),\n",
       " ('North John', 'Virginia'),\n",
       " ('North Johnmouth', 'North Dakota'),\n",
       " ('North Joseland', 'North Carolina'),\n",
       " ('North Sandra', 'Nebraska'),\n",
       " ('North Willieview', 'New Hampshire'),\n",
       " ('Pageland', 'Rhode Island'),\n",
       " ('Port Ann', 'Massachusetts'),\n",
       " ('Port Brandon', 'Delaware'),\n",
       " ('Port Charles', 'California'),\n",
       " ('Port Danny', 'Iowa'),\n",
       " ('Port Gina', 'Oklahoma'),\n",
       " ('Port James', 'New York'),\n",
       " ('Port Kyleland', 'New Mexico'),\n",
       " ('Port Michaelfurt', 'Louisiana'),\n",
       " ('Port Sherihaven', 'Georgia'),\n",
       " ('Powersberg', 'Kentucky'),\n",
       " ('Rubenmouth', 'Virginia'),\n",
       " ('Schwartzton', 'Arizona'),\n",
       " ('Scottside', 'Wisconsin'),\n",
       " ('Smithstad', 'Wisconsin'),\n",
       " ('South Carly', 'Louisiana'),\n",
       " ('South Davidland', 'Florida'),\n",
       " ('South Debraview', 'Arizona'),\n",
       " ('South Josephfurt', 'Arizona'),\n",
       " ('South Pamela', 'Kansas'),\n",
       " ('South Yvonne', 'South Dakota'),\n",
       " ('Tracychester', 'New Mexico'),\n",
       " ('West James', 'Wyoming'),\n",
       " ('West Jeffrey', 'Delaware'),\n",
       " ('West Jenniferville', 'New Hampshire'),\n",
       " ('West Jessica', 'New Hampshire'),\n",
       " ('West Matthewland', 'Delaware'),\n",
       " ('West Michael', 'Washington'),\n",
       " ('West Sheena', 'Mississippi'),\n",
       " ('West Vanessa', 'Texas'),\n",
       " ('Williamsport', 'Nebraska')]"
      ]
     },
     "execution_count": 232,
     "metadata": {},
     "output_type": "execute_result"
    }
   ],
   "source": [
    "Venue.query.with_entities(Venue.city, Venue.state).distinct(Venue.city, Venue.state).all()"
   ]
  },
  {
   "cell_type": "code",
   "execution_count": 234,
   "id": "great-karen",
   "metadata": {},
   "outputs": [],
   "source": [
    "areas = Venue.query.distinct(Venue.city, Venue.state).with_entities(Venue.city, Venue.state).all()"
   ]
  },
  {
   "cell_type": "code",
   "execution_count": 236,
   "id": "entertaining-treaty",
   "metadata": {},
   "outputs": [
    {
     "data": {
      "text/plain": [
       "'Vermont'"
      ]
     },
     "execution_count": 236,
     "metadata": {},
     "output_type": "execute_result"
    }
   ],
   "source": [
    "areas[1][1]"
   ]
  },
  {
   "cell_type": "code",
   "execution_count": 266,
   "id": "pursuant-exception",
   "metadata": {
    "collapsed": true,
    "jupyter": {
     "outputs_hidden": true
    }
   },
   "outputs": [
    {
     "data": {
      "text/plain": [
       "[<Venue ID: 1, name: Garza, Miller and Lopez, city: Garza, Miller and Lopez,\n",
       "         state: Texas, image: https://encrypted-tbn0.gstatic.com/images?q=tbn:ANd9GcTwHNYRKMZ8hT_npuDAJJhyDiWerO7-f_-Q0OqrlvazXUOQNvqe03IcY_4z6oo&s, address: 922 Alan Ridge Apt. 093\n",
       " Kaisertown, AR 00914,\n",
       "         phone: (314)932-6484x27942, facebook: https://facebook.com/garza,_miller_and_lopez/wp-content/app/main,\n",
       "         description: Public-key local algorithm. Save white matter attention., seeking_talent: False,\n",
       "         website: https://www.garza,millerandlopez.com, genres: {\"Musical Theatre\",Other,Funk,Pop,Soul,Instrumental},\n",
       " <Venue ID: 2, name: Waters Ltd, city: Waters Ltd,\n",
       "         state: Massachusetts, image: https://encrypted-tbn0.gstatic.com/images?q=tbn:ANd9GcTscPaM34VOHJOfjCNAIN-hiYEdo_dt9Kr5a1TsMIkl_UPXHH69SzpTiigfgps&s, address: 5543 Omar Center Suite 051\n",
       " Lake Patrick, MI 68173,\n",
       "         phone: +1-359-758-8573, facebook: https://facebook.com/waters_ltd/wp-content,\n",
       "         description: Integrated 6thgeneration monitoring. Their want away manage treatment., seeking_talent: True,\n",
       "         website: https://www.watersltd.net, genres: {Other,Blues,Folk,Funk,Hip-Hop,Punk,Jazz,Reggae,\"Musical Theatre\",Electronic,Country,\"Heavy Metal\",R&B,Pop,Classical,Soul,Instrumental},\n",
       " <Venue ID: 3, name: Velasquez-Thomas, city: Velasquez-Thomas,\n",
       "         state: Utah, image: https://encrypted-tbn0.gstatic.com/images?q=tbn:ANd9GcTGE2YyBZ5ofcXQXpo5wd85qupPWQ296WOgZSUITWPHwmrbSPEIi4wdMN19MzY&s, address: 917 Leslie Tunnel\n",
       " New Rachelberg, MI 76702,\n",
       "         phone: 119.090.6972, facebook: https://facebook.com/velasquez-thomas/categories/main/tags,\n",
       "         description: Profit-focused intangible knowledge user. Theory new attention fact., seeking_talent: False,\n",
       "         website: https://www.velasquez-thomas.org, genres: {Alternative,Soul,Classical,Punk,Pop,\"Rock n Roll\"},\n",
       " <Venue ID: 4, name: Martin, York and Buchanan, city: Martin, York and Buchanan,\n",
       "         state: Wisconsin, image: https://encrypted-tbn0.gstatic.com/images?q=tbn:ANd9GcSOB2pjnCi0Ghyq5gm05_KeKDab7gZQnBVHhwQqTXVa4G7UNbgTwyazg9-wcQ&s, address: 35654 Clark Prairie Apt. 066\n",
       " East Christopher, TN 61821,\n",
       "         phone: (800)622-6118, facebook: https://facebook.com/martin,_york_and_buchanan/app,\n",
       "         description: Re-contextualized full-range installation. Weight Republican body., seeking_talent: True,\n",
       "         website: https://www.martin,yorkandbuchanan.tv, genres: {\"Heavy Metal\",Hip-Hop,Reggae,Jazz,Punk,Electronic,Folk,Other,Country,Pop,\"Rock n Roll\",Funk,Blues,R&B,Alternative,\"Musical Theatre\"},\n",
       " <Venue ID: 6, name: Baker, Cooper and Chang, city: Baker, Cooper and Chang,\n",
       "         state: Washington, image: https://encrypted-tbn0.gstatic.com/images?q=tbn:ANd9GcS5r-5L7zfc0_aUVDS5SEw7r_DaGtWi6jOFpUyrGVWdDny7hLaKRitKIEqqUA&s, address: Unit 3443 Box 2705\n",
       " DPO AE 59135,\n",
       "         phone: +1-436-679-2854, facebook: https://facebook.com/baker,_cooper_and_chang/list,\n",
       "         description: Ameliorated contextually-based database. Tax quite wrong law., seeking_talent: True,\n",
       "         website: https://www.baker,cooperandchang.com, genres: {Punk,Hip-Hop,Electronic,Instrumental,Folk,Reggae,Other,\"Rock n Roll\",Classical,R&B,\"Musical Theatre\",Funk,Blues,Soul,Country,Alternative},\n",
       " <Venue ID: 7, name: Whitaker Group, city: Whitaker Group,\n",
       "         state: Vermont, image: https://encrypted-tbn0.gstatic.com/images?q=tbn:ANd9GcSaarg539xJbRwfvjZmkMoP1icbN4lIgDOaRUOxAte8An7OtQ8Renx615P4Lw&s, address: 6434 Lewis Crossing\n",
       " Donnabury, VT 97844,\n",
       "         phone: (768)531-0576x41859, facebook: https://facebook.com/whitaker_group/blog/wp-content,\n",
       "         description: Function-based bandwidth-monitored framework. Either beautiful science spring reach action up step., seeking_talent: True,\n",
       "         website: https://www.whitakergroup.org, genres: {Alternative,Classical,Pop,Jazz,Country,Punk,\"Rock n Roll\",Reggae,Funk,\"Musical Theatre\",Instrumental,Folk,Hip-Hop,Other,\"Heavy Metal\",Electronic},\n",
       " <Venue ID: 8, name: Leon, Henry and Carlson, city: Leon, Henry and Carlson,\n",
       "         state: Utah, image: https://encrypted-tbn0.gstatic.com/images?q=tbn:ANd9GcSsnHaJmHVdiTeHvd8GQWrY8F-FKf2h-egZSx50UdjwwUG41lgCPc5pcCbXdGc&s, address: 6192 Chavez Creek\n",
       " East Jennifer, AK 83025,\n",
       "         phone: 563.857.4066x5863, facebook: https://facebook.com/leon,_henry_and_carlson/blog/app/explore,\n",
       "         description: Reactive dynamic standardization. Them nor color trial boy impact approach ready., seeking_talent: False,\n",
       "         website: https://www.leon,henryandcarlson.info, genres: {Pop,Folk,Reggae,Instrumental,Other,\"Rock n Roll\",Funk,Blues},\n",
       " <Venue ID: 9, name: Johnson, Blair and Washington, city: Johnson, Blair and Washington,\n",
       "         state: New Mexico, image: https://encrypted-tbn0.gstatic.com/images?q=tbn:ANd9GcQ3iUJWF_43JxicE617DebshQ8k-GdVs5xlAOd_EN6-Ls7MAhntvELx1BCHeA&s, address: 493 Robin Mountains Suite 584\n",
       " Sydneyshire, IA 98413,\n",
       "         phone: 001-632-708-2302x2826, facebook: https://facebook.com/johnson,_blair_and_washington/category/explore,\n",
       "         description: Ergonomic directional functionalities. Voice score write short either., seeking_talent: True,\n",
       "         website: https://www.johnson,blairandwashington.net, genres: {Reggae,Folk,Instrumental,\"Musical Theatre\",Blues,Pop,R&B,Punk,\"Rock n Roll\",Jazz,Funk,\"Heavy Metal\"},\n",
       " <Venue ID: 10, name: Oneal-Walker, city: Oneal-Walker,\n",
       "         state: California, image: https://encrypted-tbn0.gstatic.com/images?q=tbn:ANd9GcSGs8YEt_xSvFAecF1OcTQHtU0xUbu4x7f9Q_ebmm2kVL2TP-tWfoWey1gvtrg&s, address: 056 Christopher Junctions Apt. 961\n",
       " Natashaland, HI 18893,\n",
       "         phone: (600)998-3095x5509, facebook: https://facebook.com/oneal-walker/posts/wp-content,\n",
       "         description: Customer-focused solution-oriented structure. Article face build no along Congress., seeking_talent: False,\n",
       "         website: https://www.oneal-walker.info, genres: {Electronic,Reggae,Other,Instrumental,Punk,R&B,\"Heavy Metal\",\"Musical Theatre\",Blues,\"Rock n Roll\",Hip-Hop,Jazz,Alternative,Funk,Folk,Classical},\n",
       " <Venue ID: 11, name: Hurst, Thompson and Anderson, city: Hurst, Thompson and Anderson,\n",
       "         state: Florida, image: https://encrypted-tbn0.gstatic.com/images?q=tbn:ANd9GcSNkEb6_1DdSBPGPf-ArkdCrVHJu2zsNozYRQ-BkdKjbXt104yqIGBFTHBNHg&s, address: 13417 David Ville\n",
       " Port Lisa, AR 26645,\n",
       "         phone: 085-820-8353, facebook: https://facebook.com/hurst,_thompson_and_anderson/search/posts,\n",
       "         description: Integrated next generation definition. Bring level throughout., seeking_talent: True,\n",
       "         website: https://www.hurst,thompsonandanderson.org, genres: {Folk,Country,\"Rock n Roll\",Instrumental,Hip-Hop,Jazz,Pop,Other,Blues,R&B,Punk,\"Heavy Metal\",Alternative,Electronic,Soul,\"Musical Theatre\",Reggae},\n",
       " <Venue ID: 12, name: Williams-Barr, city: Williams-Barr,\n",
       "         state: Rhode Island, image: https://encrypted-tbn0.gstatic.com/images?q=tbn:ANd9GcSr4krJSobI0UX_dRn7YDc9WSFIUjWlaZ16EgYve_5L2Mt8iI_CH6IL75z-hj8&s, address: Unit 9591 Box 9176\n",
       " DPO AA 64714,\n",
       "         phone: 694-314-6789x26573, facebook: https://facebook.com/williams-barr/list,\n",
       "         description: Innovative responsive pricing structure. Animal say whole talk., seeking_talent: False,\n",
       "         website: https://www.williams-barr.org, genres: {Other,R&B,Blues,\"Rock n Roll\",Folk,Jazz,Instrumental,\"Heavy Metal\",Hip-Hop,Pop},\n",
       " <Venue ID: 13, name: Serrano, Williams and Riley, city: Serrano, Williams and Riley,\n",
       "         state: Oklahoma, image: https://encrypted-tbn0.gstatic.com/images?q=tbn:ANd9GcQNUyJNpH3ysj2D1dKve3_z3yBqSIorrU7ySQ-A06T1wOZ8z7wCW18xyEbkfQ&s, address: 7348 Susan Oval Suite 954\n",
       " Lake Stephenfurt, AK 17516,\n",
       "         phone: 288.943.5479x66783, facebook: https://facebook.com/serrano,_williams_and_riley/list/list,\n",
       "         description: Team-oriented intangible definition. Government per turn break act sister., seeking_talent: False,\n",
       "         website: https://www.serrano,williamsandriley.org, genres: {Classical,Folk,Alternative,Pop},\n",
       " <Venue ID: 14, name: Baxter-Cox, city: Baxter-Cox,\n",
       "         state: West Virginia, image: https://encrypted-tbn0.gstatic.com/images?q=tbn:ANd9GcStXu7t-KIgwdRf-_70NsGYKZbxpY--w8KQDWGo_xiib4k6w32uPp6eZW3tsQ&s, address: USNV Rodriguez\n",
       " FPO AP 44953,\n",
       "         phone: +1-114-329-5735x265, facebook: https://facebook.com/baxter-cox/tags/main/search,\n",
       "         description: Business-focused intangible Internet solution. Try now understand head summer me., seeking_talent: False,\n",
       "         website: https://www.baxter-cox.org, genres: {Jazz,\"Heavy Metal\",Alternative,Country,Instrumental,Blues,\"Rock n Roll\",Funk,Punk,Soul},\n",
       " <Venue ID: 16, name: Davidson Group, city: Davidson Group,\n",
       "         state: North Dakota, image: https://encrypted-tbn0.gstatic.com/images?q=tbn:ANd9GcTCglptg6tNatR6pSjn2m5yIByx1L6znL0PBrQUIIYJa2IGbSReCZX5sdnn4g&s, address: 472 Ricky Garden Suite 242\n",
       " Christophershire, IL 59265,\n",
       "         phone: (947)253-4016x299, facebook: https://facebook.com/davidson_group/posts,\n",
       "         description: Organic empowering frame. See amount voice surface., seeking_talent: False,\n",
       "         website: https://www.davidsongroup.com, genres: {Instrumental,R&B,Alternative,Punk,Classical,Reggae,\"Rock n Roll\"},\n",
       " <Venue ID: 17, name: Johnson, Morgan and Blake, city: Johnson, Morgan and Blake,\n",
       "         state: Minnesota, image: https://encrypted-tbn0.gstatic.com/images?q=tbn:ANd9GcRFjyQnO6swWebYjc9VvIKVXtWtd8Ft2V8Cr9_iSTOUVkRVZOu2I33-2JpncTU&s, address: PSC 3331, Box 4680\n",
       " APO AP 06376,\n",
       "         phone: 424.516.4750, facebook: https://facebook.com/johnson,_morgan_and_blake/category,\n",
       "         description: Synergized leadingedge application. Our for whom personal box staff teacher player., seeking_talent: True,\n",
       "         website: https://www.johnson,morganandblake.org, genres: {Folk,\"Rock n Roll\",Electronic,Reggae,Blues,R&B,\"Heavy Metal\",Other,Punk,Soul,Hip-Hop,Funk,Instrumental,Pop,Classical},\n",
       " <Venue ID: 18, name: Stevens, Ferguson and Meyers, city: Stevens, Ferguson and Meyers,\n",
       "         state: Nebraska, image: https://encrypted-tbn0.gstatic.com/images?q=tbn:ANd9GcSUs-BYts0gQof6z7KeqZmee8TDz1w0PsRbFBMSRIUDsdLT1wuK8sT9LO5bC34&s, address: 018 Julie Prairie\n",
       " Lake Tinastad, DE 13275,\n",
       "         phone: 044-709-5445, facebook: https://facebook.com/stevens,_ferguson_and_meyers/search/category,\n",
       "         description: Monitored grid-enabled Graphical User Interface. Trade receive remain her compare field., seeking_talent: False,\n",
       "         website: https://www.stevens,fergusonandmeyers.info, genres: {Electronic,Classical,\"Heavy Metal\",R&B},\n",
       " <Venue ID: 20, name: Tran PLC, city: Tran PLC,\n",
       "         state: New York, image: https://encrypted-tbn0.gstatic.com/images?q=tbn:ANd9GcQm018lgyU6oFAI4ZN7-9_Vqe2oSz3qP8cwUu0_vDd3r7ut_nnjmcOBb5gjag&s, address: 06387 Friedman Loaf Apt. 049\n",
       " Allenchester, TX 04381,\n",
       "         phone: (261)619-9934, facebook: https://facebook.com/tran_plc/search,\n",
       "         description: Visionary executive software. Its poor our picture low seem., seeking_talent: True,\n",
       "         website: https://www.tranplc.org, genres: {\"Rock n Roll\",Electronic},\n",
       " <Venue ID: 21, name: Brown-Banks, city: Brown-Banks,\n",
       "         state: Alaska, image: https://encrypted-tbn0.gstatic.com/images?q=tbn:ANd9GcTwHNYRKMZ8hT_npuDAJJhyDiWerO7-f_-Q0OqrlvazXUOQNvqe03IcY_4z6oo&s, address: 1545 Natasha Pass Apt. 380\n",
       " North Corey, UT 28509,\n",
       "         phone: 001-832-427-8973x58508, facebook: https://facebook.com/brown-banks/categories,\n",
       "         description: Switchable radical encoding. Beautiful alone laugh top cultural old., seeking_talent: False,\n",
       "         website: https://www.brown-banks.net, genres: {Funk,\"Musical Theatre\",\"Rock n Roll\",Jazz,Pop,Electronic,Soul,Alternative,Hip-Hop,Other,Reggae,Blues,Country,Classical},\n",
       " <Venue ID: 22, name: Hancock-Roth, city: Hancock-Roth,\n",
       "         state: Ohio, image: https://encrypted-tbn0.gstatic.com/images?q=tbn:ANd9GcTscPaM34VOHJOfjCNAIN-hiYEdo_dt9Kr5a1TsMIkl_UPXHH69SzpTiigfgps&s, address: 425 Patterson Village\n",
       " West Christine, TN 52865,\n",
       "         phone: (410)379-4588x647, facebook: https://facebook.com/hancock-roth/app/category,\n",
       "         description: Automated eco-centric circuit. Here in member share bad positive heart., seeking_talent: False,\n",
       "         website: https://www.hancock-roth.net, genres: {Pop,Soul,\"Heavy Metal\",Blues,Jazz,Reggae,Country,\"Rock n Roll\",Punk,Folk,Alternative,\"Musical Theatre\",Instrumental,Other},\n",
       " <Venue ID: 23, name: Martinez Inc, city: Martinez Inc,\n",
       "         state: Nevada, image: https://encrypted-tbn0.gstatic.com/images?q=tbn:ANd9GcTGE2YyBZ5ofcXQXpo5wd85qupPWQ296WOgZSUITWPHwmrbSPEIi4wdMN19MzY&s, address: 494 Paul Village Suite 738\n",
       " West Brad, DE 44226,\n",
       "         phone: 394.622.6162, facebook: https://facebook.com/martinez_inc/tags,\n",
       "         description: Proactive exuding application. Green side moment simply them true., seeking_talent: True,\n",
       "         website: https://www.martinezinc.com, genres: {Funk,Pop,Classical,Electronic,Other},\n",
       " <Venue ID: 28, name: Jackson-Reid, city: Jackson-Reid,\n",
       "         state: South Carolina, image: https://encrypted-tbn0.gstatic.com/images?q=tbn:ANd9GcSsnHaJmHVdiTeHvd8GQWrY8F-FKf2h-egZSx50UdjwwUG41lgCPc5pcCbXdGc&s, address: 69113 Ball Prairie Suite 634\n",
       " South Rodneymouth, TN 45175,\n",
       "         phone: +1-526-362-3477x74747, facebook: https://facebook.com/jackson-reid/tags/search,\n",
       "         description: Robust 3rdgeneration structure. Least may PM write reveal while., seeking_talent: True,\n",
       "         website: https://www.jackson-reid.tv, genres: {Alternative,\"Musical Theatre\",Other,Hip-Hop,Blues,R&B,Funk,Soul,Electronic,Folk,Classical,Jazz},\n",
       " <Venue ID: 29, name: Lopez-Williams, city: Lopez-Williams,\n",
       "         state: Rhode Island, image: https://encrypted-tbn0.gstatic.com/images?q=tbn:ANd9GcQ3iUJWF_43JxicE617DebshQ8k-GdVs5xlAOd_EN6-Ls7MAhntvELx1BCHeA&s, address: 12964 Robin Unions Apt. 332\n",
       " New Lauraton, PA 13088,\n",
       "         phone: (807)113-5120, facebook: https://facebook.com/lopez-williams/app,\n",
       "         description: Diverse composite archive. Art quickly serious cover., seeking_talent: True,\n",
       "         website: https://www.lopez-williams.net, genres: {Jazz,Pop,\"Rock n Roll\",R&B,Other},\n",
       " <Venue ID: 30, name: Cortez-Yang, city: Cortez-Yang,\n",
       "         state: Oklahoma, image: https://encrypted-tbn0.gstatic.com/images?q=tbn:ANd9GcSGs8YEt_xSvFAecF1OcTQHtU0xUbu4x7f9Q_ebmm2kVL2TP-tWfoWey1gvtrg&s, address: 80794 Mcintyre Tunnel Apt. 607\n",
       " Mendozaburgh, DC 69360,\n",
       "         phone: (432)050-9484x8731, facebook: https://facebook.com/cortez-yang/category/explore,\n",
       "         description: Networked zero-defect architecture. Industry civil although vote answer exactly finish., seeking_talent: True,\n",
       "         website: https://www.cortez-yang.info, genres: {Alternative,Punk},\n",
       " <Venue ID: 31, name: Alexander Ltd, city: Alexander Ltd,\n",
       "         state: Virginia, image: https://encrypted-tbn0.gstatic.com/images?q=tbn:ANd9GcSNkEb6_1DdSBPGPf-ArkdCrVHJu2zsNozYRQ-BkdKjbXt104yqIGBFTHBNHg&s, address: 568 Taylor Crossing\n",
       " Jamesland, IN 26478,\n",
       "         phone: 412.615.9191, facebook: https://facebook.com/alexander_ltd/explore/explore,\n",
       "         description: Cross-platform asynchronous throughput. Before force whatever operation most method manage., seeking_talent: False,\n",
       "         website: https://www.alexanderltd.info, genres: {Folk,Electronic,R&B,Country},\n",
       " <Venue ID: 33, name: Walker Ltd, city: Walker Ltd,\n",
       "         state: Delaware, image: https://encrypted-tbn0.gstatic.com/images?q=tbn:ANd9GcQNUyJNpH3ysj2D1dKve3_z3yBqSIorrU7ySQ-A06T1wOZ8z7wCW18xyEbkfQ&s, address: 71119 Austin Roads Suite 303\n",
       " Port Jenniferfort, WI 75103,\n",
       "         phone: (145)904-5478x524, facebook: https://facebook.com/walker_ltd/main/wp-content/categories,\n",
       "         description: Proactive intangible core. Low message art., seeking_talent: True,\n",
       "         website: https://www.walkerltd.net, genres: {Folk,\"Heavy Metal\",Country,Hip-Hop,Other,Funk,Jazz,Blues,Alternative,Classical,Pop,Soul,Reggae,Instrumental,\"Musical Theatre\",R&B,\"Rock n Roll\",Punk,Electronic},\n",
       " <Venue ID: 34, name: Huffman and Sons, city: Huffman and Sons,\n",
       "         state: North Carolina, image: https://encrypted-tbn0.gstatic.com/images?q=tbn:ANd9GcStXu7t-KIgwdRf-_70NsGYKZbxpY--w8KQDWGo_xiib4k6w32uPp6eZW3tsQ&s, address: 124 Castro Row Suite 978\n",
       " Lake Erica, OK 94845,\n",
       "         phone: 001-432-334-4252x056, facebook: https://facebook.com/huffman_and_sons/explore/app/categories,\n",
       "         description: De-engineered encompassing projection. Take next long surface always., seeking_talent: False,\n",
       "         website: https://www.huffmanandsons.tv, genres: {Country,Classical,Reggae,\"Rock n Roll\",Folk,R&B,Pop},\n",
       " <Venue ID: 36, name: Sanchez, Cortez and Wall, city: Sanchez, Cortez and Wall,\n",
       "         state: Kentucky, image: https://encrypted-tbn0.gstatic.com/images?q=tbn:ANd9GcTCglptg6tNatR6pSjn2m5yIByx1L6znL0PBrQUIIYJa2IGbSReCZX5sdnn4g&s, address: 69132 Howell Parkway\n",
       " Sandraport, RI 70473,\n",
       "         phone: 1229854043, facebook: https://facebook.com/sanchez,_cortez_and_wall/blog/list/categories,\n",
       "         description: Multi-layered motivating open architecture. Bad question statement decide something., seeking_talent: False,\n",
       "         website: https://www.sanchez,cortezandwall.com, genres: {\"Rock n Roll\",Other,Country,Hip-Hop},\n",
       " <Venue ID: 37, name: Barker and Sons, city: Barker and Sons,\n",
       "         state: Pennsylvania, image: https://encrypted-tbn0.gstatic.com/images?q=tbn:ANd9GcRFjyQnO6swWebYjc9VvIKVXtWtd8Ft2V8Cr9_iSTOUVkRVZOu2I33-2JpncTU&s, address: 52263 Love Viaduct\n",
       " Guerreroville, ND 88927,\n",
       "         phone: (108)860-1361x101, facebook: https://facebook.com/barker_and_sons/tags/explore,\n",
       "         description: Total intangible Graphic Interface. Politics hand despite sister throw audience sense., seeking_talent: True,\n",
       "         website: https://www.barkerandsons.tv, genres: {Hip-Hop,\"Rock n Roll\",Soul,Country,Other,R&B,Alternative,Jazz,Punk,Blues},\n",
       " <Venue ID: 40, name: Austin-Davis, city: Austin-Davis,\n",
       "         state: Idaho, image: https://encrypted-tbn0.gstatic.com/images?q=tbn:ANd9GcQm018lgyU6oFAI4ZN7-9_Vqe2oSz3qP8cwUu0_vDd3r7ut_nnjmcOBb5gjag&s, address: 39707 Conley Keys\n",
       " Anthonyberg, AR 39218,\n",
       "         phone: 827.524.3465x688, facebook: https://facebook.com/austin-davis/tags/categories/tag,\n",
       "         description: Function-based optimizing conglomeration. Eye next ever fact policy product., seeking_talent: False,\n",
       "         website: https://www.austin-davis.net, genres: {\"Rock n Roll\",Pop,Funk,Hip-Hop,Other,Country,Folk,Blues,Punk,Alternative},\n",
       " <Venue ID: 41, name: Johnson, Lee and Lee, city: Johnson, Lee and Lee,\n",
       "         state: Washington, image: https://encrypted-tbn0.gstatic.com/images?q=tbn:ANd9GcTwHNYRKMZ8hT_npuDAJJhyDiWerO7-f_-Q0OqrlvazXUOQNvqe03IcY_4z6oo&s, address: 0856 Alyssa Flat\n",
       " New Isabel, MD 19625,\n",
       "         phone: 368-621-4303, facebook: https://facebook.com/johnson,_lee_and_lee/posts,\n",
       "         description: Ergonomic real-time product. To yourself spring., seeking_talent: False,\n",
       "         website: https://www.johnson,leeandlee.net, genres: {Folk,\"Heavy Metal\",Jazz,Instrumental,Hip-Hop,R&B},\n",
       " <Venue ID: 44, name: Kelly, Taylor and Cook, city: Kelly, Taylor and Cook,\n",
       "         state: Alaska, image: https://encrypted-tbn0.gstatic.com/images?q=tbn:ANd9GcSOB2pjnCi0Ghyq5gm05_KeKDab7gZQnBVHhwQqTXVa4G7UNbgTwyazg9-wcQ&s, address: 3296 Ronald Islands Suite 928\n",
       " Armstrongmouth, SC 38889,\n",
       "         phone: 016.513.7585x30794, facebook: https://facebook.com/kelly,_taylor_and_cook/tag/list/posts,\n",
       "         description: Open-source 3rdgeneration forecast. Interesting ready open husband wish., seeking_talent: True,\n",
       "         website: https://www.kelly,taylorandcook.net, genres: {Blues,Pop,Instrumental,\"Musical Theatre\",Folk,Reggae,Funk,Punk,Other,Jazz,Alternative,Country,Classical,\"Rock n Roll\"},\n",
       " <Venue ID: 45, name: Mcdonald Group, city: Mcdonald Group,\n",
       "         state: North Dakota, image: https://encrypted-tbn0.gstatic.com/images?q=tbn:ANd9GcSBPKTOUW_NzpgvKCDZhKiyL7mV9mWdDy3vcpLbfuC8sW8di1z_Utnmkc9cHBY&s, address: 137 Nancy Park Suite 377\n",
       " South Laura, TX 74883,\n",
       "         phone: +1-147-180-1594, facebook: https://facebook.com/mcdonald_group/tags/tags,\n",
       "         description: Automated zero administration knowledgebase. Himself study section place until great example., seeking_talent: True,\n",
       "         website: https://www.mcdonaldgroup.tv, genres: {Hip-Hop,Other,Electronic,Jazz,Alternative,Classical,\"Heavy Metal\",Soul,Funk,Blues},\n",
       " <Venue ID: 46, name: Romero-Cervantes, city: Romero-Cervantes,\n",
       "         state: Delaware, image: https://encrypted-tbn0.gstatic.com/images?q=tbn:ANd9GcS5r-5L7zfc0_aUVDS5SEw7r_DaGtWi6jOFpUyrGVWdDny7hLaKRitKIEqqUA&s, address: 73850 Torres Manors\n",
       " Williamstown, NV 29783,\n",
       "         phone: 691.597.9142, facebook: https://facebook.com/romero-cervantes/category,\n",
       "         description: Diverse human-resource analyzer. Walk section write everyone media., seeking_talent: True,\n",
       "         website: https://www.romero-cervantes.tv, genres: {Classical,Funk,Instrumental},\n",
       " <Venue ID: 47, name: Guzman-Sanchez, city: Guzman-Sanchez,\n",
       "         state: South Carolina, image: https://encrypted-tbn0.gstatic.com/images?q=tbn:ANd9GcSaarg539xJbRwfvjZmkMoP1icbN4lIgDOaRUOxAte8An7OtQ8Renx615P4Lw&s, address: 9098 Keith Brooks\n",
       " Randyburgh, GA 04802,\n",
       "         phone: 704.752.9894, facebook: https://facebook.com/guzman-sanchez/tags,\n",
       "         description: Programmable multimedia protocol. This art couple plan first., seeking_talent: False,\n",
       "         website: https://www.guzman-sanchez.tv, genres: {Alternative,Instrumental},\n",
       " <Venue ID: 48, name: Johnson-Carroll, city: Johnson-Carroll,\n",
       "         state: Virginia, image: https://encrypted-tbn0.gstatic.com/images?q=tbn:ANd9GcSsnHaJmHVdiTeHvd8GQWrY8F-FKf2h-egZSx50UdjwwUG41lgCPc5pcCbXdGc&s, address: 513 Johnson Loaf\n",
       " Mayerborough, NC 32916,\n",
       "         phone: +1-564-018-5338x2657, facebook: https://facebook.com/johnson-carroll/list,\n",
       "         description: Persistent tangible emulation. Wrong us whatever., seeking_talent: True,\n",
       "         website: https://www.johnson-carroll.info, genres: {Reggae,Country,\"Heavy Metal\",Other,Classical,R&B},\n",
       " <Venue ID: 49, name: Johnson-Ball, city: Johnson-Ball,\n",
       "         state: Wisconsin, image: https://encrypted-tbn0.gstatic.com/images?q=tbn:ANd9GcQ3iUJWF_43JxicE617DebshQ8k-GdVs5xlAOd_EN6-Ls7MAhntvELx1BCHeA&s, address: 065 Schneider Ranch\n",
       " Jonesmouth, NH 58581,\n",
       "         phone: (861)320-0988x928, facebook: https://facebook.com/johnson-ball/tag,\n",
       "         description: Balanced heuristic frame. Writer can morning share write., seeking_talent: True,\n",
       "         website: https://www.johnson-ball.net, genres: {Country,Folk,Pop,\"Heavy Metal\",Jazz,Funk,Electronic,Classical,Reggae,Soul,R&B,Alternative,Hip-Hop,Blues,Other,\"Rock n Roll\",\"Musical Theatre\",Instrumental},\n",
       " <Venue ID: 52, name: Ingram, Vasquez and Davis, city: Ingram, Vasquez and Davis,\n",
       "         state: Wyoming, image: https://encrypted-tbn0.gstatic.com/images?q=tbn:ANd9GcSr4krJSobI0UX_dRn7YDc9WSFIUjWlaZ16EgYve_5L2Mt8iI_CH6IL75z-hj8&s, address: 6724 Scott Spur Suite 556\n",
       " Destinyland, TN 33187,\n",
       "         phone: 001-550-186-1685, facebook: https://facebook.com/ingram,_vasquez_and_davis/main/category,\n",
       "         description: Visionary explicit monitoring. Game lead four floor man., seeking_talent: False,\n",
       "         website: https://www.ingram,vasquezanddavis.tv, genres: {\"Rock n Roll\",Other,Electronic,Instrumental,Alternative,Classical,Country},\n",
       " <Venue ID: 54, name: Gonzalez Group, city: Gonzalez Group,\n",
       "         state: Texas, image: https://encrypted-tbn0.gstatic.com/images?q=tbn:ANd9GcStXu7t-KIgwdRf-_70NsGYKZbxpY--w8KQDWGo_xiib4k6w32uPp6eZW3tsQ&s, address: 0309 Lisa Bypass Suite 575\n",
       " Lake John, MA 54857,\n",
       "         phone: 001-044-929-8442, facebook: https://facebook.com/gonzalez_group/search/main,\n",
       "         description: Operative coherent adapter. Despite visit light popular assume edge., seeking_talent: True,\n",
       "         website: https://www.gonzalezgroup.info, genres: {Hip-Hop,Instrumental,Reggae,Jazz,\"Heavy Metal\",Alternative,Funk,Soul,Folk,Blues,R&B,\"Musical Theatre\",Electronic,Classical,Pop,Punk,Country,\"Rock n Roll\"},\n",
       " <Venue ID: 55, name: Miller, Hull and Schmidt, city: Miller, Hull and Schmidt,\n",
       "         state: Alabama, image: https://encrypted-tbn0.gstatic.com/images?q=tbn:ANd9GcRM1hMEvk5IOF6obu-MJwAvdDVbbNKiDTSIOUk-l2MI7bLET2HgS3tITW3ZOg&s, address: 523 Maynard Crossing Suite 204\n",
       " Allenmouth, KY 20766,\n",
       "         phone: 001-323-762-9866, facebook: https://facebook.com/miller,_hull_and_schmidt/explore/app/blog,\n",
       "         description: Down-sized bi-directional conglomeration. Pull direction my best school pay member majority., seeking_talent: False,\n",
       "         website: https://www.miller,hullandschmidt.net, genres: {Other},\n",
       " <Venue ID: 58, name: Watkins-Melton, city: Watkins-Melton,\n",
       "         state: Wisconsin, image: https://encrypted-tbn0.gstatic.com/images?q=tbn:ANd9GcSUs-BYts0gQof6z7KeqZmee8TDz1w0PsRbFBMSRIUDsdLT1wuK8sT9LO5bC34&s, address: 622 Travis Common Apt. 506\n",
       " New Doris, GA 55901,\n",
       "         phone: 174-849-7114x2537, facebook: https://facebook.com/watkins-melton/tag/posts,\n",
       "         description: Compatible 24/7 encoding. Quality protect fire body ability assume social local., seeking_talent: True,\n",
       "         website: https://www.watkins-melton.tv, genres: {Hip-Hop,\"Rock n Roll\",Soul,Alternative,Country,Pop,\"Heavy Metal\",Instrumental,Electronic,Punk,Jazz,R&B},\n",
       " <Venue ID: 59, name: Bauer LLC, city: Bauer LLC,\n",
       "         state: Louisiana, image: https://encrypted-tbn0.gstatic.com/images?q=tbn:ANd9GcTHKCWkDAkqHyN3Yaaq5zG-0_pNlMYd2fU2CNH1gxFTuhnIOw7a-8VlpLlk9Q&s, address: 038 Anne Greens\n",
       " West Sean, AL 34336,\n",
       "         phone: 001-257-199-1059x3662, facebook: https://facebook.com/bauer_llc/tag/search/tag,\n",
       "         description: User-centric multi-tasking encryption. Collection plan last spring fund., seeking_talent: False,\n",
       "         website: https://www.bauerllc.net, genres: {Funk,Folk,Jazz,Instrumental,\"Heavy Metal\",Hip-Hop,Classical,\"Musical Theatre\",Country,Pop},\n",
       " <Venue ID: 60, name: Warren-Martinez, city: Warren-Martinez,\n",
       "         state: Iowa, image: https://encrypted-tbn0.gstatic.com/images?q=tbn:ANd9GcQm018lgyU6oFAI4ZN7-9_Vqe2oSz3qP8cwUu0_vDd3r7ut_nnjmcOBb5gjag&s, address: 263 Velez Spurs Apt. 902\n",
       " Christopherside, MD 45783,\n",
       "         phone: 001-277-108-1377x380, facebook: https://facebook.com/warren-martinez/categories,\n",
       "         description: Face-to-face context-sensitive archive. Test company describe., seeking_talent: True,\n",
       "         website: https://www.warren-martinez.info, genres: {Alternative,Pop},\n",
       " <Venue ID: 62, name: Sullivan, Edwards and Cole, city: Sullivan, Edwards and Cole,\n",
       "         state: New Hampshire, image: https://encrypted-tbn0.gstatic.com/images?q=tbn:ANd9GcTscPaM34VOHJOfjCNAIN-hiYEdo_dt9Kr5a1TsMIkl_UPXHH69SzpTiigfgps&s, address: 50475 Buckley Knoll Apt. 172\n",
       " West Pamela, GA 25395,\n",
       "         phone: (307)370-8496, facebook: https://facebook.com/sullivan,_edwards_and_cole/tags,\n",
       "         description: Upgradable multi-state concept. Because sing north sure., seeking_talent: True,\n",
       "         website: https://www.sullivan,edwardsandcole.net, genres: {Other,Funk,Punk,Instrumental,\"Musical Theatre\",Electronic,Blues},\n",
       " <Venue ID: 63, name: Patrick-Rollins, city: Patrick-Rollins,\n",
       "         state: Minnesota, image: https://encrypted-tbn0.gstatic.com/images?q=tbn:ANd9GcTGE2YyBZ5ofcXQXpo5wd85qupPWQ296WOgZSUITWPHwmrbSPEIi4wdMN19MzY&s, address: 858 Donald Shoal\n",
       " New Sandrashire, WV 32881,\n",
       "         phone: +1-665-183-0866x58004, facebook: https://facebook.com/patrick-rollins/posts,\n",
       "         description: Progressive methodical support. Resource yet she girl by., seeking_talent: False,\n",
       "         website: https://www.patrick-rollins.tv, genres: {\"Musical Theatre\",Alternative,Blues,Funk,Electronic,Punk,Reggae,Other,R&B,\"Heavy Metal\",Folk,Classical},\n",
       " <Venue ID: 64, name: Chavez Inc, city: Chavez Inc,\n",
       "         state: Mississippi, image: https://encrypted-tbn0.gstatic.com/images?q=tbn:ANd9GcSOB2pjnCi0Ghyq5gm05_KeKDab7gZQnBVHhwQqTXVa4G7UNbgTwyazg9-wcQ&s, address: 6401 Samantha Creek Apt. 554\n",
       " West Jason, OH 16516,\n",
       "         phone: 7212832030, facebook: https://facebook.com/chavez_inc/main,\n",
       "         description: Operative bifurcated Graphic Interface. Field across treatment watch six collection rest., seeking_talent: True,\n",
       "         website: https://www.chavezinc.com, genres: {Punk,Electronic,R&B,Reggae,Funk,Country,\"Rock n Roll\",Hip-Hop,Blues,Soul},\n",
       " <Venue ID: 65, name: Jackson Inc, city: Jackson Inc,\n",
       "         state: Nebraska, image: https://encrypted-tbn0.gstatic.com/images?q=tbn:ANd9GcSBPKTOUW_NzpgvKCDZhKiyL7mV9mWdDy3vcpLbfuC8sW8di1z_Utnmkc9cHBY&s, address: 32249 Gordon Islands\n",
       " Katherinechester, ND 09958,\n",
       "         phone: +1-612-051-7800, facebook: https://facebook.com/jackson_inc/search/posts/wp-content,\n",
       "         description: Centralized impactful intranet. Manage western culture candidate a., seeking_talent: True,\n",
       "         website: https://www.jacksoninc.tv, genres: {Folk,Funk,Country,\"Musical Theatre\",Classical,Punk,Hip-Hop,Alternative,Pop},\n",
       " <Venue ID: 67, name: Lopez, Santos and Howell, city: Lopez, Santos and Howell,\n",
       "         state: New Jersey, image: https://encrypted-tbn0.gstatic.com/images?q=tbn:ANd9GcSaarg539xJbRwfvjZmkMoP1icbN4lIgDOaRUOxAte8An7OtQ8Renx615P4Lw&s, address: 270 Erin Shoals\n",
       " Ericshire, RI 57709,\n",
       "         phone: (057)176-1415x88252, facebook: https://facebook.com/lopez,_santos_and_howell/categories/list,\n",
       "         description: Reduced tertiary instruction set. Feeling toward season common myself big kid., seeking_talent: True,\n",
       "         website: https://www.lopez,santosandhowell.org, genres: {Funk,Blues,Alternative,Other,Pop,Punk,Electronic,Hip-Hop,\"Musical Theatre\",Classical,Instrumental,Folk,R&B,\"Heavy Metal\",\"Rock n Roll\",Country},\n",
       " <Venue ID: 68, name: Freeman PLC, city: Freeman PLC,\n",
       "         state: Massachusetts, image: https://encrypted-tbn0.gstatic.com/images?q=tbn:ANd9GcSsnHaJmHVdiTeHvd8GQWrY8F-FKf2h-egZSx50UdjwwUG41lgCPc5pcCbXdGc&s, address: 2228 Long Lodge Suite 457\n",
       " Pottsland, TN 08633,\n",
       "         phone: 405.068.2266, facebook: https://facebook.com/freeman_plc/tags/search,\n",
       "         description: Realigned zero-defect adapter. History peace include resource check national., seeking_talent: True,\n",
       "         website: https://www.freemanplc.tv, genres: {Blues,\"Musical Theatre\"},\n",
       " <Venue ID: 70, name: Duffy, Hopkins and Day, city: Duffy, Hopkins and Day,\n",
       "         state: New Hampshire, image: https://encrypted-tbn0.gstatic.com/images?q=tbn:ANd9GcSGs8YEt_xSvFAecF1OcTQHtU0xUbu4x7f9Q_ebmm2kVL2TP-tWfoWey1gvtrg&s, address: 47417 Cox Squares\n",
       " Thomasbury, FL 05226,\n",
       "         phone: 039-194-8636, facebook: https://facebook.com/duffy,_hopkins_and_day/categories/main/categories,\n",
       "         description: Digitized motivating parallelism. Each wonder factor produce task different., seeking_talent: False,\n",
       "         website: https://www.duffy,hopkinsandday.info, genres: {Alternative,\"Musical Theatre\",Soul,Classical,R&B,Folk,Punk,Other,Instrumental,Jazz,Hip-Hop,Country,Pop,\"Rock n Roll\",Reggae},\n",
       " <Venue ID: 71, name: Richardson-Green, city: Richardson-Green,\n",
       "         state: Montana, image: https://encrypted-tbn0.gstatic.com/images?q=tbn:ANd9GcSNkEb6_1DdSBPGPf-ArkdCrVHJu2zsNozYRQ-BkdKjbXt104yqIGBFTHBNHg&s, address: 399 Peggy Landing\n",
       " South Jesse, DE 19028,\n",
       "         phone: 001-383-756-8515x79998, facebook: https://facebook.com/richardson-green/categories/category,\n",
       "         description: Progressive non-volatile Graphical User Interface. Else place energy me memory., seeking_talent: True,\n",
       "         website: https://www.richardson-green.info, genres: {Punk,Reggae,Alternative,Blues,Hip-Hop,Instrumental,Electronic,Pop,Folk,Classical,Soul,Other,Funk},\n",
       " <Venue ID: 72, name: Johnson, Cole and Turner, city: Johnson, Cole and Turner,\n",
       "         state: Iowa, image: https://encrypted-tbn0.gstatic.com/images?q=tbn:ANd9GcSr4krJSobI0UX_dRn7YDc9WSFIUjWlaZ16EgYve_5L2Mt8iI_CH6IL75z-hj8&s, address: 668 David Garden Suite 596\n",
       " Perkinsbury, NY 32637,\n",
       "         phone: +1-029-942-6865x68343, facebook: https://facebook.com/johnson,_cole_and_turner/list,\n",
       "         description: Optimized empowering firmware. Order moment gas term production adult question., seeking_talent: False,\n",
       "         website: https://www.johnson,coleandturner.net, genres: {Jazz,Country,\"Rock n Roll\",R&B,Punk},\n",
       " <Venue ID: 73, name: Ayala Inc, city: Ayala Inc,\n",
       "         state: Arizona, image: https://encrypted-tbn0.gstatic.com/images?q=tbn:ANd9GcQNUyJNpH3ysj2D1dKve3_z3yBqSIorrU7ySQ-A06T1wOZ8z7wCW18xyEbkfQ&s, address: 85871 Debra Port\n",
       " South April, KS 27362,\n",
       "         phone: 476-531-3271x2408, facebook: https://facebook.com/ayala_inc/category/main/search,\n",
       "         description: Networked modular policy. Skin security catch worker we., seeking_talent: False,\n",
       "         website: https://www.ayalainc.info, genres: {Alternative,Hip-Hop,Other,Blues,\"Rock n Roll\",Punk},\n",
       " <Venue ID: 74, name: Howard, Hunter and Johnson, city: Howard, Hunter and Johnson,\n",
       "         state: Nebraska, image: https://encrypted-tbn0.gstatic.com/images?q=tbn:ANd9GcStXu7t-KIgwdRf-_70NsGYKZbxpY--w8KQDWGo_xiib4k6w32uPp6eZW3tsQ&s, address: 170 Anderson Bypass\n",
       " North Eddie, MA 43943,\n",
       "         phone: 2154268262, facebook: https://facebook.com/howard,_hunter_and_johnson/app/search/tags,\n",
       "         description: Self-enabling motivating monitoring. Make computer like although., seeking_talent: True,\n",
       "         website: https://www.howard,hunterandjohnson.com, genres: {\"Musical Theatre\",Alternative,\"Heavy Metal\",\"Rock n Roll\",Blues},\n",
       " <Venue ID: 76, name: Weaver LLC, city: Weaver LLC,\n",
       "         state: Virginia, image: https://encrypted-tbn0.gstatic.com/images?q=tbn:ANd9GcTCglptg6tNatR6pSjn2m5yIByx1L6znL0PBrQUIIYJa2IGbSReCZX5sdnn4g&s, address: 9944 Adam Throughway\n",
       " New Randall, AR 76355,\n",
       "         phone: 880.839.6345, facebook: https://facebook.com/weaver_llc/search/category/tags,\n",
       "         description: Reactive leadingedge definition. Price position politics Republican media join this., seeking_talent: False,\n",
       "         website: https://www.weaverllc.org, genres: {Alternative,Funk,Classical,Soul,Pop,Instrumental,Punk,\"Heavy Metal\",Jazz,R&B,Hip-Hop,Reggae,Folk,\"Rock n Roll\",Blues,Electronic,Other,Country},\n",
       " <Venue ID: 77, name: Mcintosh-Mcclain, city: Mcintosh-Mcclain,\n",
       "         state: Nebraska, image: https://encrypted-tbn0.gstatic.com/images?q=tbn:ANd9GcRFjyQnO6swWebYjc9VvIKVXtWtd8Ft2V8Cr9_iSTOUVkRVZOu2I33-2JpncTU&s, address: 93075 Joseph Street Suite 785\n",
       " Williamfort, KS 66351,\n",
       "         phone: 352-841-4851x389, facebook: https://facebook.com/mcintosh-mcclain/categories,\n",
       "         description: Public-key national core. Such newspaper result his best difficult it., seeking_talent: False,\n",
       "         website: https://www.mcintosh-mcclain.com, genres: {\"Musical Theatre\",Instrumental,\"Heavy Metal\"},\n",
       " <Venue ID: 78, name: Carroll Ltd, city: Carroll Ltd,\n",
       "         state: California, image: https://encrypted-tbn0.gstatic.com/images?q=tbn:ANd9GcSUs-BYts0gQof6z7KeqZmee8TDz1w0PsRbFBMSRIUDsdLT1wuK8sT9LO5bC34&s, address: 9711 Ryan Wells Suite 878\n",
       " West Angelaville, MT 77045,\n",
       "         phone: 001-269-675-7638, facebook: https://facebook.com/carroll_ltd/app/list,\n",
       "         description: Optimized methodical product. Reflect range various theory interest line., seeking_talent: True,\n",
       "         website: https://www.carrollltd.tv, genres: {Instrumental,Funk},\n",
       " <Venue ID: 80, name: Villegas, Burns and Cunningham, city: Villegas, Burns and Cunningham,\n",
       "         state: Mississippi, image: https://encrypted-tbn0.gstatic.com/images?q=tbn:ANd9GcQm018lgyU6oFAI4ZN7-9_Vqe2oSz3qP8cwUu0_vDd3r7ut_nnjmcOBb5gjag&s, address: 20441 Jimmy Burgs\n",
       " East Jason, IL 91951,\n",
       "         phone: 761.319.3018, facebook: https://facebook.com/villegas,_burns_and_cunningham/category,\n",
       "         description: Switchable local standardization. Baby reflect ok response attack work., seeking_talent: False,\n",
       "         website: https://www.villegas,burnsandcunningham.net, genres: {Hip-Hop,R&B,Jazz,\"Musical Theatre\",Instrumental,Pop,Electronic},\n",
       " <Venue ID: 81, name: Schaefer-Rice, city: Schaefer-Rice,\n",
       "         state: Oregon, image: https://encrypted-tbn0.gstatic.com/images?q=tbn:ANd9GcTwHNYRKMZ8hT_npuDAJJhyDiWerO7-f_-Q0OqrlvazXUOQNvqe03IcY_4z6oo&s, address: 60376 James Streets\n",
       " Hillhaven, NY 15188,\n",
       "         phone: +1-878-712-4548x3312, facebook: https://facebook.com/schaefer-rice/posts,\n",
       "         description: Cross-platform regional concept. Community war movie play factor., seeking_talent: False,\n",
       "         website: https://www.schaefer-rice.tv, genres: {Alternative,Electronic,\"Heavy Metal\",Folk,Soul,Other,Classical,R&B,Jazz,Pop,Punk,Instrumental,\"Musical Theatre\",Blues,Funk,Reggae,Hip-Hop,\"Rock n Roll\"},\n",
       " <Venue ID: 82, name: Santos, Moore and Gibson, city: Santos, Moore and Gibson,\n",
       "         state: Minnesota, image: https://encrypted-tbn0.gstatic.com/images?q=tbn:ANd9GcTscPaM34VOHJOfjCNAIN-hiYEdo_dt9Kr5a1TsMIkl_UPXHH69SzpTiigfgps&s, address: 37136 Fleming Mill Suite 206\n",
       " New Zachary, MD 57682,\n",
       "         phone: +1-481-548-9461x07156, facebook: https://facebook.com/santos,_moore_and_gibson/blog,\n",
       "         description: Inverse encompassing throughput. Although out three final old development sometimes suddenly., seeking_talent: True,\n",
       "         website: https://www.santos,mooreandgibson.tv, genres: {Hip-Hop,Reggae,R&B},\n",
       " <Venue ID: 83, name: Gardner-Warren, city: Gardner-Warren,\n",
       "         state: Minnesota, image: https://encrypted-tbn0.gstatic.com/images?q=tbn:ANd9GcTGE2YyBZ5ofcXQXpo5wd85qupPWQ296WOgZSUITWPHwmrbSPEIi4wdMN19MzY&s, address: 87618 Morrison Extensions\n",
       " New Bobby, WA 69529,\n",
       "         phone: 700.251.5263, facebook: https://facebook.com/gardner-warren/tags,\n",
       "         description: Adaptive bi-directional contingency. Mission daughter receive matter financial hospital fight., seeking_talent: True,\n",
       "         website: https://www.gardner-warren.org, genres: {Country,Punk,\"Rock n Roll\"},\n",
       " <Venue ID: 84, name: Sanchez, Gutierrez and Schwartz, city: Sanchez, Gutierrez and Schwartz,\n",
       "         state: Florida, image: https://encrypted-tbn0.gstatic.com/images?q=tbn:ANd9GcSOB2pjnCi0Ghyq5gm05_KeKDab7gZQnBVHhwQqTXVa4G7UNbgTwyazg9-wcQ&s, address: 72428 Turner Lodge\n",
       " Karenland, MA 56563,\n",
       "         phone: +1-227-287-2993, facebook: https://facebook.com/sanchez,_gutierrez_and_schwartz/app/main,\n",
       "         description: Multi-tiered national policy. Wall heart main relate long., seeking_talent: True,\n",
       "         website: https://www.sanchez,gutierrezandschwartz.tv, genres: {\"Musical Theatre\",Funk,Country},\n",
       " <Venue ID: 85, name: Jackson Group, city: Jackson Group,\n",
       "         state: Utah, image: https://encrypted-tbn0.gstatic.com/images?q=tbn:ANd9GcSBPKTOUW_NzpgvKCDZhKiyL7mV9mWdDy3vcpLbfuC8sW8di1z_Utnmkc9cHBY&s, address: USS Heath\n",
       " FPO AE 39893,\n",
       "         phone: 001-771-544-6062x7265, facebook: https://facebook.com/jackson_group/search,\n",
       "         description: Multi-lateral explicit throughput. Others able hot surface Mrs., seeking_talent: True,\n",
       "         website: https://www.jacksongroup.com, genres: {Electronic,Country,\"Musical Theatre\",Other,Jazz,Punk,Soul,Hip-Hop,Blues,Reggae,R&B,Funk,\"Rock n Roll\",Classical,Folk,Alternative,Instrumental,\"Heavy Metal\",Pop},\n",
       " <Venue ID: 86, name: Thomas Ltd, city: Thomas Ltd,\n",
       "         state: Louisiana, image: https://encrypted-tbn0.gstatic.com/images?q=tbn:ANd9GcS5r-5L7zfc0_aUVDS5SEw7r_DaGtWi6jOFpUyrGVWdDny7hLaKRitKIEqqUA&s, address: 08552 Smith Streets Apt. 477\n",
       " East Davidberg, WA 68572,\n",
       "         phone: +1-074-788-1483x928, facebook: https://facebook.com/thomas_ltd/explore/blog/app,\n",
       "         description: Phased logistical definition. Southern guess easy poor., seeking_talent: False,\n",
       "         website: https://www.thomasltd.tv, genres: {Funk,\"Heavy Metal\",Pop},\n",
       " <Venue ID: 88, name: Fuentes, Nelson and Chavez, city: Fuentes, Nelson and Chavez,\n",
       "         state: Michigan, image: https://encrypted-tbn0.gstatic.com/images?q=tbn:ANd9GcSsnHaJmHVdiTeHvd8GQWrY8F-FKf2h-egZSx50UdjwwUG41lgCPc5pcCbXdGc&s, address: 0217 Jimenez Lodge Suite 836\n",
       " West Thomas, TX 81073,\n",
       "         phone: (276)803-7489, facebook: https://facebook.com/fuentes,_nelson_and_chavez/explore,\n",
       "         description: Down-sized foreground open architecture. Store open whether beautiful., seeking_talent: False,\n",
       "         website: https://www.fuentes,nelsonandchavez.com, genres: {Country},\n",
       " <Venue ID: 89, name: Hayes-Melton, city: Hayes-Melton,\n",
       "         state: Delaware, image: https://encrypted-tbn0.gstatic.com/images?q=tbn:ANd9GcQ3iUJWF_43JxicE617DebshQ8k-GdVs5xlAOd_EN6-Ls7MAhntvELx1BCHeA&s, address: 88648 Cardenas Pines Suite 450\n",
       " South Xavier, VT 41297,\n",
       "         phone: (897)715-4958x99618, facebook: https://facebook.com/hayes-melton/category/list,\n",
       "         description: Universal 6thgeneration customer loyalty. Create threat face worry from., seeking_talent: True,\n",
       "         website: https://www.hayes-melton.tv, genres: {Folk,Country,Reggae,R&B,Hip-Hop,Soul,Classical,Pop,\"Rock n Roll\",Instrumental,Electronic,\"Musical Theatre\",Blues,\"Heavy Metal\",Funk,Other,Punk},\n",
       " <Venue ID: 90, name: Diaz-Brown, city: Diaz-Brown,\n",
       "         state: Nevada, image: https://encrypted-tbn0.gstatic.com/images?q=tbn:ANd9GcSGs8YEt_xSvFAecF1OcTQHtU0xUbu4x7f9Q_ebmm2kVL2TP-tWfoWey1gvtrg&s, address: 0668 Burns Squares\n",
       " Petermouth, ME 12663,\n",
       "         phone: 4105987505, facebook: https://facebook.com/diaz-brown/search,\n",
       "         description: Universal context-sensitive hardware. In manager democratic movie., seeking_talent: True,\n",
       "         website: https://www.diaz-brown.tv, genres: {Punk,Jazz,Alternative},\n",
       " <Venue ID: 91, name: Gray-Murphy, city: Gray-Murphy,\n",
       "         state: Virginia, image: https://encrypted-tbn0.gstatic.com/images?q=tbn:ANd9GcSNkEb6_1DdSBPGPf-ArkdCrVHJu2zsNozYRQ-BkdKjbXt104yqIGBFTHBNHg&s, address: 493 Cheryl Landing Apt. 001\n",
       " New Lindsey, IL 27421,\n",
       "         phone: 667-402-6913x9475, facebook: https://facebook.com/gray-murphy/posts,\n",
       "         description: Function-based client-driven website. War force least no good., seeking_talent: False,\n",
       "         website: https://www.gray-murphy.com, genres: {\"Rock n Roll\",Classical,Blues,\"Musical Theatre\",Other,Folk},\n",
       " <Venue ID: 92, name: Mason, Melton and Oneal, city: Mason, Melton and Oneal,\n",
       "         state: Louisiana, image: https://encrypted-tbn0.gstatic.com/images?q=tbn:ANd9GcSr4krJSobI0UX_dRn7YDc9WSFIUjWlaZ16EgYve_5L2Mt8iI_CH6IL75z-hj8&s, address: 1576 Dominguez Common\n",
       " Lindseystad, NV 68625,\n",
       "         phone: 001-215-318-9771x03553, facebook: https://facebook.com/mason,_melton_and_oneal/tag/explore,\n",
       "         description: Polarized content-based process improvement. Image happy carry model reduce meet conference., seeking_talent: True,\n",
       "         website: https://www.mason,meltonandoneal.tv, genres: {Other,\"Heavy Metal\",Hip-Hop,Folk,R&B,Alternative},\n",
       " <Venue ID: 93, name: Howard-Wall, city: Howard-Wall,\n",
       "         state: New York, image: https://encrypted-tbn0.gstatic.com/images?q=tbn:ANd9GcQNUyJNpH3ysj2D1dKve3_z3yBqSIorrU7ySQ-A06T1wOZ8z7wCW18xyEbkfQ&s, address: PSC 7469, Box 2655\n",
       " APO AP 44337,\n",
       "         phone: 032.345.0507, facebook: https://facebook.com/howard-wall/main/tag/app,\n",
       "         description: Focused bandwidth-monitored time-frame. Leader throw space culture manage place many., seeking_talent: False,\n",
       "         website: https://www.howard-wall.org, genres: {Hip-Hop,\"Heavy Metal\",Electronic,Blues,Other,\"Musical Theatre\",Instrumental,Folk,Classical,Alternative,Soul,\"Rock n Roll\",Funk,Punk,Pop},\n",
       " <Venue ID: 94, name: Crawford-Wilson, city: Crawford-Wilson,\n",
       "         state: Kansas, image: https://encrypted-tbn0.gstatic.com/images?q=tbn:ANd9GcStXu7t-KIgwdRf-_70NsGYKZbxpY--w8KQDWGo_xiib4k6w32uPp6eZW3tsQ&s, address: 5973 Carol Spring\n",
       " Whiteshire, NM 03994,\n",
       "         phone: 518-898-0839, facebook: https://facebook.com/crawford-wilson/blog/blog,\n",
       "         description: Advanced homogeneous matrix. Four follow evidence health yeah., seeking_talent: False,\n",
       "         website: https://www.crawford-wilson.info, genres: {\"Musical Theatre\"},\n",
       " <Venue ID: 95, name: May, Weber and Burke, city: May, Weber and Burke,\n",
       "         state: New York, image: https://encrypted-tbn0.gstatic.com/images?q=tbn:ANd9GcRM1hMEvk5IOF6obu-MJwAvdDVbbNKiDTSIOUk-l2MI7bLET2HgS3tITW3ZOg&s, address: 354 Michele Prairie\n",
       " East Daniel, IL 22261,\n",
       "         phone: 505-424-1674, facebook: https://facebook.com/may,_weber_and_burke/posts,\n",
       "         description: Multi-layered local forecast. Language store own name catch on loss., seeking_talent: True,\n",
       "         website: https://www.may,weberandburke.info, genres: {Pop,\"Musical Theatre\",Other,Hip-Hop,Country,Instrumental,Reggae,Jazz,R&B,Electronic,Classical,Funk,\"Heavy Metal\",Blues},\n",
       " <Venue ID: 96, name: Bright and Sons, city: Bright and Sons,\n",
       "         state: Kansas, image: https://encrypted-tbn0.gstatic.com/images?q=tbn:ANd9GcTCglptg6tNatR6pSjn2m5yIByx1L6znL0PBrQUIIYJa2IGbSReCZX5sdnn4g&s, address: 083 West Ford Suite 428\n",
       " Coreyside, CT 85691,\n",
       "         phone: 001-938-206-4909x582, facebook: https://facebook.com/bright_and_sons/explore,\n",
       "         description: Profit-focused logistical frame. Leader share check., seeking_talent: True,\n",
       "         website: https://www.brightandsons.tv, genres: {Funk,Instrumental,Blues,Hip-Hop,Electronic,R&B,\"Musical Theatre\",Punk,Alternative,\"Rock n Roll\",Classical,Folk,\"Heavy Metal\",Other,Country,Reggae,Soul,Pop,Jazz},\n",
       " <Venue ID: 97, name: Gonzales, Johnson and Hughes, city: Gonzales, Johnson and Hughes,\n",
       "         state: Georgia, image: https://encrypted-tbn0.gstatic.com/images?q=tbn:ANd9GcRFjyQnO6swWebYjc9VvIKVXtWtd8Ft2V8Cr9_iSTOUVkRVZOu2I33-2JpncTU&s, address: 46453 Jessica Fords\n",
       " Nicolefurt, NJ 04203,\n",
       "         phone: 178.449.9113, facebook: https://facebook.com/gonzales,_johnson_and_hughes/app/search/blog,\n",
       "         description: Mandatory stable attitude. Believe model who., seeking_talent: False,\n",
       "         website: https://www.gonzales,johnsonandhughes.info, genres: {\"Musical Theatre\",Electronic,Punk,Hip-Hop,R&B,Pop,Funk,Blues,Other,Country,Reggae},\n",
       " <Venue ID: 98, name: Nelson, Knight and Randall, city: Nelson, Knight and Randall,\n",
       "         state: North Dakota, image: https://encrypted-tbn0.gstatic.com/images?q=tbn:ANd9GcSUs-BYts0gQof6z7KeqZmee8TDz1w0PsRbFBMSRIUDsdLT1wuK8sT9LO5bC34&s, address: 997 Joseph Junctions Suite 793\n",
       " Smithshire, DE 02813,\n",
       "         phone: 471-292-2024x0813, facebook: https://facebook.com/nelson,_knight_and_randall/tags,\n",
       "         description: Focused attitude-oriented synergy. Any machine if partner person voice., seeking_talent: True,\n",
       "         website: https://www.nelson,knightandrandall.com, genres: {Funk,Folk,Other,Country,Soul},\n",
       " <Venue ID: 99, name: Mathis LLC, city: Mathis LLC,\n",
       "         state: Georgia, image: https://encrypted-tbn0.gstatic.com/images?q=tbn:ANd9GcTHKCWkDAkqHyN3Yaaq5zG-0_pNlMYd2fU2CNH1gxFTuhnIOw7a-8VlpLlk9Q&s, address: 3374 Scott Drive Apt. 801\n",
       " North David, DC 37933,\n",
       "         phone: (519)774-0937x7861, facebook: https://facebook.com/mathis_llc/tag/main,\n",
       "         description: Right-sized web-enabled leverage. Necessary ability American however staff., seeking_talent: True,\n",
       "         website: https://www.mathisllc.com, genres: {\"Musical Theatre\",Pop,Funk,Alternative,Other,Classical,Blues,Soul,\"Rock n Roll\",Reggae,Instrumental,Electronic,Hip-Hop,Country,Jazz,R&B}]"
      ]
     },
     "execution_count": 266,
     "metadata": {},
     "output_type": "execute_result"
    }
   ],
   "source": [
    "session.query(Venue).filter(Venue.name.like('%'+'a'+'%')).all()"
   ]
  },
  {
   "cell_type": "code",
   "execution_count": null,
   "id": "hawaiian-contemporary",
   "metadata": {},
   "outputs": [],
   "source": [
    "db.session.query(Venue).filter(Venue.name.ilike(f'%{search_term}%')).all()"
   ]
  },
  {
   "cell_type": "code",
   "execution_count": 48,
   "id": "sacred-marble",
   "metadata": {},
   "outputs": [],
   "source": [
    "a = [0, 1, 2, 3, 4, 5, 6, 7, 8, 9]"
   ]
  },
  {
   "cell_type": "code",
   "execution_count": 49,
   "id": "australian-savannah",
   "metadata": {},
   "outputs": [],
   "source": [
    "msk = [ True, False, False,  True,  True,  True,  True, False, False, False]\n"
   ]
  },
  {
   "cell_type": "code",
   "execution_count": 51,
   "id": "dynamic-annex",
   "metadata": {},
   "outputs": [
    {
     "ename": "NameError",
     "evalue": "name 'lst' is not defined",
     "output_type": "error",
     "traceback": [
      "\u001b[1;31m---------------------------------------------------------------------------\u001b[0m",
      "\u001b[1;31mNameError\u001b[0m                                 Traceback (most recent call last)",
      "\u001b[1;32m<ipython-input-51-8dcba31c4cef>\u001b[0m in \u001b[0;36m<module>\u001b[1;34m\u001b[0m\n\u001b[1;32m----> 1\u001b[1;33m \u001b[0ma\u001b[0m\u001b[1;33m(\u001b[0m\u001b[0mlst\u001b[0m\u001b[1;33m)\u001b[0m\u001b[1;33m[\u001b[0m\u001b[0mmsk\u001b[0m\u001b[1;33m]\u001b[0m\u001b[1;33m\u001b[0m\u001b[1;33m\u001b[0m\u001b[0m\n\u001b[0m",
      "\u001b[1;31mNameError\u001b[0m: name 'lst' is not defined"
     ]
    }
   ],
   "source": [
    "a(lst)[msk]"
   ]
  },
  {
   "cell_type": "code",
   "execution_count": 68,
   "id": "binary-practice",
   "metadata": {},
   "outputs": [],
   "source": [
    "# create a Session\n",
    "from sqlalchemy.orm import sessionmaker\n",
    "\n",
    "# create a configured \"Session\" class\n",
    "Session = sessionmaker(bind=engine)\n",
    "\n",
    "session = Session()"
   ]
  },
  {
   "cell_type": "code",
   "execution_count": 106,
   "id": "inner-singing",
   "metadata": {},
   "outputs": [],
   "source": [
    "venue_id = 1"
   ]
  },
  {
   "cell_type": "code",
   "execution_count": 107,
   "id": "labeled-appreciation",
   "metadata": {},
   "outputs": [],
   "source": [
    "shows = session.query(Show).join(Artist).with_entities(Show.artist_id, Artist.name, Artist.image_link, Show.start_time).filter(Show.venue_id == venue_id).all()"
   ]
  },
  {
   "cell_type": "code",
   "execution_count": 108,
   "id": "labeled-adolescent",
   "metadata": {},
   "outputs": [
    {
     "data": {
      "text/plain": [
       "[(1,\n",
       "  '山田 拓真',\n",
       "  'https://encrypted-tbn0.gstatic.com/images?q=tbn:ANd9GcRxQuXMoBwnSFZIvYcSfCmcx_dc3KZ-SjRcERCT4qzL4uZU06Z3il7SaSr0gA&s',\n",
       "  datetime.datetime(2021, 3, 1, 18, 30, 8)),\n",
       " (2,\n",
       "  'Diana Detti-Molesini',\n",
       "  'https://encrypted-tbn0.gstatic.com/images?q=tbn:ANd9GcQK20xSW86-SyOv2q-6vOvZBsegZzxrx8ez3Yi2IVNJopMoY-Fc9GFD6UN25A&s',\n",
       "  datetime.datetime(2021, 3, 1, 18, 24, 8)),\n",
       " (3,\n",
       "  'Pierangelo Papafava',\n",
       "  'https://encrypted-tbn0.gstatic.com/images?q=tbn:ANd9GcRM1hMEvk5IOF6obu-MJwAvdDVbbNKiDTSIOUk-l2MI7bLET2HgS3tITW3ZOg&s',\n",
       "  datetime.datetime(2021, 3, 1, 18, 35, 8))]"
      ]
     },
     "execution_count": 108,
     "metadata": {},
     "output_type": "execute_result"
    }
   ],
   "source": [
    "shows"
   ]
  },
  {
   "cell_type": "code",
   "execution_count": 110,
   "id": "talented-neighbor",
   "metadata": {},
   "outputs": [
    {
     "data": {
      "text/plain": [
       "{'artist_id': 1,\n",
       " 'name': '山田 拓真',\n",
       " 'image_link': 'https://encrypted-tbn0.gstatic.com/images?q=tbn:ANd9GcRxQuXMoBwnSFZIvYcSfCmcx_dc3KZ-SjRcERCT4qzL4uZU06Z3il7SaSr0gA&s',\n",
       " 'start_time': datetime.datetime(2021, 3, 1, 18, 30, 8)}"
      ]
     },
     "execution_count": 110,
     "metadata": {},
     "output_type": "execute_result"
    }
   ],
   "source": [
    "shows[0]._asdict()"
   ]
  },
  {
   "cell_type": "code",
   "execution_count": 128,
   "id": "swedish-render",
   "metadata": {},
   "outputs": [
    {
     "name": "stdout",
     "output_type": "stream",
     "text": [
      "id\n",
      "artist_id\n",
      "venue_id\n",
      "start_time\n"
     ]
    }
   ],
   "source": [
    "show_table_attributes = inspect(Show)\n",
    "for column in show_table_attributes.c:\n",
    "    print(column.name)"
   ]
  },
  {
   "cell_type": "code",
   "execution_count": 116,
   "id": "critical-jenny",
   "metadata": {},
   "outputs": [],
   "source": [
    "dd = dict()\n",
    "for column in shows[0]._asdict().keys():\n",
    "    dd [column] = shows[0]._asdict()[column]"
   ]
  },
  {
   "cell_type": "code",
   "execution_count": 121,
   "id": "confirmed-survival",
   "metadata": {},
   "outputs": [
    {
     "data": {
      "text/plain": [
       "True"
      ]
     },
     "execution_count": 121,
     "metadata": {},
     "output_type": "execute_result"
    }
   ],
   "source": [
    "dd == shows[0]._asdict()"
   ]
  },
  {
   "cell_type": "code",
   "execution_count": 125,
   "id": "infinite-outline",
   "metadata": {},
   "outputs": [],
   "source": [
    "shows_data = dict()\n",
    "shows_query_attributes = shows[0]._asdict().keys()\n",
    "for attribute in shows_query_attributes:\n",
    "           if attribute in ['name', 'image_link']:\n",
    "               shows_data['artist_' + attribute] = shows[0]._asdict()[attribute]\n",
    "           else:\n",
    "               shows_data[attribute] = shows[0]._asdict()[attribute]"
   ]
  },
  {
   "cell_type": "code",
   "execution_count": 127,
   "id": "conscious-median",
   "metadata": {},
   "outputs": [
    {
     "data": {
      "text/plain": [
       "{'artist_id': 1,\n",
       " 'artist_name': '山田 拓真',\n",
       " 'artist_image_link': 'https://encrypted-tbn0.gstatic.com/images?q=tbn:ANd9GcRxQuXMoBwnSFZIvYcSfCmcx_dc3KZ-SjRcERCT4qzL4uZU06Z3il7SaSr0gA&s',\n",
       " 'start_time': datetime.datetime(2021, 3, 1, 18, 30, 8)}"
      ]
     },
     "execution_count": 127,
     "metadata": {},
     "output_type": "execute_result"
    }
   ],
   "source": [
    "shows_data"
   ]
  },
  {
   "cell_type": "code",
   "execution_count": 120,
   "id": "operating-navigation",
   "metadata": {},
   "outputs": [
    {
     "data": {
      "text/plain": [
       "(1,\n",
       " '山田 拓真',\n",
       " 'https://encrypted-tbn0.gstatic.com/images?q=tbn:ANd9GcRxQuXMoBwnSFZIvYcSfCmcx_dc3KZ-SjRcERCT4qzL4uZU06Z3il7SaSr0gA&s',\n",
       " datetime.datetime(2021, 3, 1, 18, 30, 8))"
      ]
     },
     "execution_count": 120,
     "metadata": {},
     "output_type": "execute_result"
    }
   ],
   "source": [
    "shows[0]"
   ]
  },
  {
   "cell_type": "code",
   "execution_count": null,
   "id": "portable-place",
   "metadata": {},
   "outputs": [],
   "source": [
    "shows[0]._asdict()"
   ]
  },
  {
   "cell_type": "code",
   "execution_count": 102,
   "id": "northern-constraint",
   "metadata": {},
   "outputs": [],
   "source": [
    "shows = Show(artist_id = 1, venue_id = 1, start_time = datetime.now().strftime('%Y-%m-%d %H:%S:%M'))"
   ]
  },
  {
   "cell_type": "code",
   "execution_count": 100,
   "id": "latest-patch",
   "metadata": {},
   "outputs": [],
   "source": [
    "shows = Show(artist_id = 2, venue_id = 1, start_time = datetime.now().strftime('%Y-%m-%d %H:%S:%M'))"
   ]
  },
  {
   "cell_type": "code",
   "execution_count": 104,
   "id": "macro-drilling",
   "metadata": {},
   "outputs": [],
   "source": [
    "shows = Show(artist_id = 3, venue_id = 1, start_time = datetime.now().strftime('%Y-%m-%d %H:%S:%M'))"
   ]
  },
  {
   "cell_type": "code",
   "execution_count": 105,
   "id": "moving-gasoline",
   "metadata": {},
   "outputs": [],
   "source": [
    "session.add(shows)\n",
    "session.commit()"
   ]
  },
  {
   "cell_type": "code",
   "execution_count": 97,
   "id": "funny-batch",
   "metadata": {},
   "outputs": [
    {
     "name": "stderr",
     "output_type": "stream",
     "text": [
      "C:\\Users\\User\\Anaconda3\\lib\\site-packages\\sqlalchemy\\orm\\session.py:561: SAWarning: Session's state has been changed on a non-active transaction - this state will be discarded.\n",
      "  util.warn(\n"
     ]
    }
   ],
   "source": [
    "session.rollback()"
   ]
  },
  {
   "cell_type": "code",
   "execution_count": 157,
   "id": "electric-mileage",
   "metadata": {},
   "outputs": [],
   "source": [
    "vv = Venue.query.get(venue_id)"
   ]
  },
  {
   "cell_type": "code",
   "execution_count": 158,
   "id": "imported-constant",
   "metadata": {},
   "outputs": [
    {
     "data": {
      "text/plain": [
       "<Venue id: 1, name: Garza, Miller and Lopez, city: Hubbardtown, state: Texas, image_link: https://encrypted-tbn0.gstatic.com/images?q=tbn:ANd9GcTwHNYRKMZ8hT_npuDAJJhyDiWerO7-f_-Q0OqrlvazXUOQNvqe03IcY_4z6oo&s, address: 922 Alan Ridge Apt. 093\n",
       "Kaisertown, AR 00914, phone: (314)932-6484x27942, facebook_link: https://facebook.com/garza,_miller_and_lopez/wp-content/app/main, description: Public-key local algorithm. Save white matter attention., seeking_talent: False, website: https://www.garza,millerandlopez.com, genres: {\"Musical Theatre\",Other,Funk,Pop,Soul,Instrumental}>\n",
       "        "
      ]
     },
     "execution_count": 158,
     "metadata": {},
     "output_type": "execute_result"
    }
   ],
   "source": [
    "vv"
   ]
  },
  {
   "cell_type": "code",
   "execution_count": 136,
   "id": "seasonal-observer",
   "metadata": {},
   "outputs": [
    {
     "ename": "AttributeError",
     "evalue": "'Venue' object has no attribute '_asdict'",
     "output_type": "error",
     "traceback": [
      "\u001b[1;31m---------------------------------------------------------------------------\u001b[0m",
      "\u001b[1;31mAttributeError\u001b[0m                            Traceback (most recent call last)",
      "\u001b[1;32m<ipython-input-136-953ff5776995>\u001b[0m in \u001b[0;36m<module>\u001b[1;34m\u001b[0m\n\u001b[1;32m----> 1\u001b[1;33m \u001b[0mvv\u001b[0m\u001b[1;33m.\u001b[0m\u001b[0m_asdict\u001b[0m\u001b[1;33m(\u001b[0m\u001b[1;33m)\u001b[0m\u001b[1;33m\u001b[0m\u001b[1;33m\u001b[0m\u001b[0m\n\u001b[0m",
      "\u001b[1;31mAttributeError\u001b[0m: 'Venue' object has no attribute '_asdict'"
     ]
    }
   ],
   "source": [
    "vv._asdict()"
   ]
  },
  {
   "cell_type": "code",
   "execution_count": 161,
   "id": "sexual-shelf",
   "metadata": {},
   "outputs": [],
   "source": [
    "venue_table_attributes = inspect(Venue).c"
   ]
  },
  {
   "cell_type": "code",
   "execution_count": 145,
   "id": "common-matrix",
   "metadata": {},
   "outputs": [],
   "source": [
    "attr = [attribute.name for attribute in venue_table_attributes.c]"
   ]
  },
  {
   "cell_type": "code",
   "execution_count": 162,
   "id": "scenic-allah",
   "metadata": {},
   "outputs": [
    {
     "data": {
      "text/plain": [
       "<sqlalchemy.util._collections.OrderedProperties at 0x1f871654c70>"
      ]
     },
     "execution_count": 162,
     "metadata": {},
     "output_type": "execute_result"
    }
   ],
   "source": [
    "venue_table_attributes"
   ]
  },
  {
   "cell_type": "code",
   "execution_count": 153,
   "id": "split-enlargement",
   "metadata": {},
   "outputs": [
    {
     "ename": "AttributeError",
     "evalue": "'Venue' object has no attribute 'with_entities'",
     "output_type": "error",
     "traceback": [
      "\u001b[1;31m---------------------------------------------------------------------------\u001b[0m",
      "\u001b[1;31mAttributeError\u001b[0m                            Traceback (most recent call last)",
      "\u001b[1;32m<ipython-input-153-2d37866babbe>\u001b[0m in \u001b[0;36m<module>\u001b[1;34m\u001b[0m\n\u001b[1;32m----> 1\u001b[1;33m \u001b[0mVenue\u001b[0m\u001b[1;33m.\u001b[0m\u001b[0mquery\u001b[0m\u001b[1;33m.\u001b[0m\u001b[0mget\u001b[0m\u001b[1;33m(\u001b[0m\u001b[0mvenue_id\u001b[0m\u001b[1;33m)\u001b[0m\u001b[1;33m.\u001b[0m\u001b[0mwith_entities\u001b[0m\u001b[1;33m(\u001b[0m\u001b[1;33m*\u001b[0m\u001b[0mattr\u001b[0m\u001b[1;33m)\u001b[0m\u001b[1;33m\u001b[0m\u001b[1;33m\u001b[0m\u001b[0m\n\u001b[0m",
      "\u001b[1;31mAttributeError\u001b[0m: 'Venue' object has no attribute 'with_entities'"
     ]
    }
   ],
   "source": [
    " Venue.query.get(venue_id).with_entities(*attr)"
   ]
  },
  {
   "cell_type": "code",
   "execution_count": 218,
   "id": "welsh-treasurer",
   "metadata": {},
   "outputs": [
    {
     "ename": "AttributeError",
     "evalue": "'Venue' object has no attribute 'with_entities'",
     "output_type": "error",
     "traceback": [
      "\u001b[1;31m---------------------------------------------------------------------------\u001b[0m",
      "\u001b[1;31mAttributeError\u001b[0m                            Traceback (most recent call last)",
      "\u001b[1;32m<ipython-input-218-27f6d3534519>\u001b[0m in \u001b[0;36m<module>\u001b[1;34m\u001b[0m\n\u001b[1;32m----> 1\u001b[1;33m \u001b[0mVenue\u001b[0m\u001b[1;33m.\u001b[0m\u001b[0mquery\u001b[0m\u001b[1;33m.\u001b[0m\u001b[0mget\u001b[0m\u001b[1;33m(\u001b[0m\u001b[0mvenue_id\u001b[0m\u001b[1;33m)\u001b[0m\u001b[1;33m.\u001b[0m\u001b[0mwith_entities\u001b[0m\u001b[1;33m(\u001b[0m\u001b[0mVenue\u001b[0m\u001b[1;33m.\u001b[0m\u001b[0mid\u001b[0m\u001b[1;33m,\u001b[0m \u001b[0mVenue\u001b[0m\u001b[1;33m.\u001b[0m\u001b[0mname\u001b[0m\u001b[1;33m,\u001b[0m \u001b[0mVenue\u001b[0m\u001b[1;33m.\u001b[0m\u001b[0mcity\u001b[0m\u001b[1;33m,\u001b[0m \u001b[0mVenue\u001b[0m\u001b[1;33m.\u001b[0m\u001b[0mstate\u001b[0m\u001b[1;33m,\u001b[0m \u001b[0mVenue\u001b[0m\u001b[1;33m.\u001b[0m\u001b[0maddress\u001b[0m\u001b[1;33m,\u001b[0m \u001b[0mVenue\u001b[0m\u001b[1;33m.\u001b[0m\u001b[0mphone\u001b[0m\u001b[1;33m,\u001b[0m \u001b[0mVenue\u001b[0m\u001b[1;33m.\u001b[0m\u001b[0mimage_link\u001b[0m\u001b[1;33m,\u001b[0m \u001b[0mVenue\u001b[0m\u001b[1;33m.\u001b[0m\u001b[0mfacebook_link\u001b[0m\u001b[1;33m,\u001b[0m \u001b[0mVenue\u001b[0m\u001b[1;33m.\u001b[0m\u001b[0mdescription\u001b[0m\u001b[1;33m,\u001b[0m \u001b[0mVenue\u001b[0m\u001b[1;33m.\u001b[0m\u001b[0mseeking_talent\u001b[0m\u001b[1;33m,\u001b[0m \u001b[0mVenue\u001b[0m\u001b[1;33m.\u001b[0m\u001b[0mwebsite\u001b[0m\u001b[1;33m,\u001b[0m \u001b[0mVenue\u001b[0m\u001b[1;33m.\u001b[0m\u001b[0mgenres\u001b[0m\u001b[1;33m)\u001b[0m\u001b[1;33m\u001b[0m\u001b[1;33m\u001b[0m\u001b[0m\n\u001b[0m",
      "\u001b[1;31mAttributeError\u001b[0m: 'Venue' object has no attribute 'with_entities'"
     ]
    }
   ],
   "source": [
    "Venue.query.get(venue_id).with_entities(Venue.id, Venue.name, Venue.city, Venue.state, Venue.address, Venue.phone, Venue.image_link, Venue.facebook_link, Venue.description, Venue.seeking_talent, Venue.website, Venue.genres)"
   ]
  },
  {
   "cell_type": "code",
   "execution_count": 210,
   "id": "hindu-hardwood",
   "metadata": {},
   "outputs": [],
   "source": [
    "vv = Venue.query.get(venue_id)"
   ]
  },
  {
   "cell_type": "code",
   "execution_count": 224,
   "id": "painful-novel",
   "metadata": {},
   "outputs": [
    {
     "name": "stdout",
     "output_type": "stream",
     "text": [
      "id\n",
      "name\n",
      "city\n",
      "state\n",
      "address\n",
      "phone\n",
      "image_link\n",
      "facebook_link\n",
      "description\n",
      "seeking_talent\n",
      "website\n",
      "genres\n"
     ]
    }
   ],
   "source": [
    "venue_table_attributes = inspect(Venue).c\n",
    "for attribute in venue_table_attributes:\n",
    "        print(attribute.name)"
   ]
  },
  {
   "cell_type": "code",
   "execution_count": 219,
   "id": "honey-confidence",
   "metadata": {},
   "outputs": [
    {
     "ename": "AttributeError",
     "evalue": "type object 'Venue' has no attribute 'as_dictionary'",
     "output_type": "error",
     "traceback": [
      "\u001b[1;31m---------------------------------------------------------------------------\u001b[0m",
      "\u001b[1;31mAttributeError\u001b[0m                            Traceback (most recent call last)",
      "\u001b[1;32m<ipython-input-219-4bad15471c80>\u001b[0m in \u001b[0;36m<module>\u001b[1;34m\u001b[0m\n\u001b[1;32m----> 1\u001b[1;33m \u001b[0mVenue\u001b[0m\u001b[1;33m.\u001b[0m\u001b[0mas_dictionary\u001b[0m\u001b[1;33m(\u001b[0m\u001b[1;33m)\u001b[0m\u001b[1;33m\u001b[0m\u001b[1;33m\u001b[0m\u001b[0m\n\u001b[0m",
      "\u001b[1;31mAttributeError\u001b[0m: type object 'Venue' has no attribute 'as_dictionary'"
     ]
    }
   ],
   "source": [
    "Venue.as_dictionary()"
   ]
  },
  {
   "cell_type": "code",
   "execution_count": 196,
   "id": "cooked-denial",
   "metadata": {},
   "outputs": [
    {
     "ename": "TypeError",
     "evalue": "'Venue' object is not subscriptable",
     "output_type": "error",
     "traceback": [
      "\u001b[1;31m---------------------------------------------------------------------------\u001b[0m",
      "\u001b[1;31mTypeError\u001b[0m                                 Traceback (most recent call last)",
      "\u001b[1;32m<ipython-input-196-e32ba61aedd1>\u001b[0m in \u001b[0;36m<module>\u001b[1;34m\u001b[0m\n\u001b[1;32m----> 1\u001b[1;33m \u001b[0mvv\u001b[0m\u001b[1;33m[\u001b[0m\u001b[1;36m0\u001b[0m\u001b[1;33m]\u001b[0m\u001b[1;33m.\u001b[0m\u001b[0mas_dict\u001b[0m\u001b[1;33m(\u001b[0m\u001b[1;33m)\u001b[0m\u001b[1;33m\u001b[0m\u001b[1;33m\u001b[0m\u001b[0m\n\u001b[0m",
      "\u001b[1;31mTypeError\u001b[0m: 'Venue' object is not subscriptable"
     ]
    }
   ],
   "source": [
    "vv[0].as_dict()"
   ]
  },
  {
   "cell_type": "code",
   "execution_count": 230,
   "id": "opposed-stanford",
   "metadata": {},
   "outputs": [],
   "source": [
    "artists_data = session.query(Artist).with_entities(Artist.id, Artist.name).all()"
   ]
  },
  {
   "cell_type": "code",
   "execution_count": 231,
   "id": "printable-vegetation",
   "metadata": {},
   "outputs": [],
   "source": [
    "data = dict()"
   ]
  },
  {
   "cell_type": "code",
   "execution_count": 233,
   "id": "split-fusion",
   "metadata": {},
   "outputs": [],
   "source": [
    " "
   ]
  },
  {
   "cell_type": "code",
   "execution_count": 234,
   "id": "fourth-officer",
   "metadata": {},
   "outputs": [
    {
     "data": {
      "text/plain": [
       "[{'id': 1, 'name': '山田 拓真'},\n",
       " {'id': 2, 'name': 'Diana Detti-Molesini'},\n",
       " {'id': 3, 'name': 'Pierangelo Papafava'},\n",
       " {'id': 4, 'name': 'Ernesto Comencini-Bongiorno'},\n",
       " {'id': 5, 'name': '藤田 零'},\n",
       " {'id': 6, 'name': 'Elladio Cagnotto'},\n",
       " {'id': 7, 'name': 'Giada Blasi'},\n",
       " {'id': 8, 'name': 'Giacobbe Fracci'},\n",
       " {'id': 9, 'name': 'Stanley Allen'},\n",
       " {'id': 10, 'name': 'Patrizia Caironi'},\n",
       " {'id': 11, 'name': 'Riccardo Olivetti'},\n",
       " {'id': 12, 'name': '斎藤 稔'},\n",
       " {'id': 13, 'name': 'Jeanette Moran'},\n",
       " {'id': 14, 'name': '近藤 幹'},\n",
       " {'id': 15, 'name': 'Sig.ra Liana Ginese'},\n",
       " {'id': 16, 'name': 'Dott. Romeo Scarpa'},\n",
       " {'id': 17, 'name': 'Kyle Young'},\n",
       " {'id': 18, 'name': 'Amy Acevedo'},\n",
       " {'id': 19, 'name': 'Madison Cervantes'},\n",
       " {'id': 20, 'name': 'Kevin Hicks'},\n",
       " {'id': 21, 'name': 'Ramona Lancisi'},\n",
       " {'id': 22, 'name': 'Sig. Daniele Piacentini'},\n",
       " {'id': 23, 'name': 'Nathaniel Castaneda'},\n",
       " {'id': 24, 'name': '渡辺 治'},\n",
       " {'id': 25, 'name': 'Dr. Eugene Johnson DDS'},\n",
       " {'id': 26, 'name': '小林 英樹'},\n",
       " {'id': 27, 'name': 'Shannon Brandt'},\n",
       " {'id': 28, 'name': 'Costanzo Maderna'},\n",
       " {'id': 29, 'name': '山本 香織'},\n",
       " {'id': 30, 'name': '伊藤 裕美子'},\n",
       " {'id': 31, 'name': 'Fredo Oscuro'},\n",
       " {'id': 32, 'name': 'Monica Andrews'},\n",
       " {'id': 33, 'name': 'Federico Bragadin'},\n",
       " {'id': 34, 'name': 'Emily Boyd'},\n",
       " {'id': 35, 'name': 'Giovanna Malipiero'},\n",
       " {'id': 36, 'name': 'Kelly Peterson'},\n",
       " {'id': 37, 'name': '藤原 加奈'},\n",
       " {'id': 38, 'name': 'Deborah Larson'},\n",
       " {'id': 39, 'name': '山崎 翔太'},\n",
       " {'id': 40, 'name': 'Mercedes Ross'},\n",
       " {'id': 41, 'name': 'Telemaco Magnani'},\n",
       " {'id': 42, 'name': 'Sig.ra Bianca Vecoli'},\n",
       " {'id': 43, 'name': '佐々木 花子'},\n",
       " {'id': 44, 'name': '岡本 千代'},\n",
       " {'id': 45, 'name': 'Arturo Giulietti'},\n",
       " {'id': 46, 'name': 'Tami Miller'},\n",
       " {'id': 47, 'name': '森 太郎'},\n",
       " {'id': 48, 'name': 'Teresa Solomon'},\n",
       " {'id': 49, 'name': 'Enzio Cilibrasi'},\n",
       " {'id': 50, 'name': '吉田 くみ子'},\n",
       " {'id': 51, 'name': 'Giuliano Taccola'},\n",
       " {'id': 52, 'name': 'Pierpaolo Buonauro'},\n",
       " {'id': 53, 'name': 'Melania Grimani-Campanella'},\n",
       " {'id': 54, 'name': '橋本 英樹'},\n",
       " {'id': 55, 'name': '山本 明美'},\n",
       " {'id': 56, 'name': '石川 明美'},\n",
       " {'id': 57, 'name': '小川 稔'},\n",
       " {'id': 58, 'name': '鈴木 明美'},\n",
       " {'id': 59, 'name': '井上 幹'},\n",
       " {'id': 60, 'name': 'Dott. Ugolino Boccherini'},\n",
       " {'id': 61, 'name': 'Michael Sanchez'},\n",
       " {'id': 62, 'name': 'Ryan Patterson'},\n",
       " {'id': 63, 'name': 'Mirko Bova-Giradello'},\n",
       " {'id': 64, 'name': '林 さゆり'},\n",
       " {'id': 65, 'name': '中村 結衣'},\n",
       " {'id': 66, 'name': '森 淳'},\n",
       " {'id': 67, 'name': '中島 知実'},\n",
       " {'id': 68, 'name': 'Melissa Price'},\n",
       " {'id': 69, 'name': 'Dott. Ottavio Errigo'},\n",
       " {'id': 70, 'name': '渡辺 里佳'},\n",
       " {'id': 71, 'name': '藤田 学'},\n",
       " {'id': 72, 'name': '福田 洋介'},\n",
       " {'id': 73, 'name': 'Jeremy Lucas'},\n",
       " {'id': 74, 'name': '石井 翼'},\n",
       " {'id': 75, 'name': 'Sig. Delfino Mascheroni'},\n",
       " {'id': 76, 'name': 'Claudio Argurio'},\n",
       " {'id': 77, 'name': '井上 あすか'},\n",
       " {'id': 78, 'name': 'Megan Kerr'},\n",
       " {'id': 79, 'name': 'Rhonda Griffin'},\n",
       " {'id': 80, 'name': '高橋 亮介'}]"
      ]
     },
     "execution_count": 234,
     "metadata": {},
     "output_type": "execute_result"
    }
   ],
   "source": [
    "data"
   ]
  },
  {
   "cell_type": "code",
   "execution_count": null,
   "id": "hawaiian-ridge",
   "metadata": {},
   "outputs": [],
   "source": []
  }
 ],
 "metadata": {
  "kernelspec": {
   "display_name": "Python 3",
   "language": "python",
   "name": "python3"
  },
  "language_info": {
   "codemirror_mode": {
    "name": "ipython",
    "version": 3
   },
   "file_extension": ".py",
   "mimetype": "text/x-python",
   "name": "python",
   "nbconvert_exporter": "python",
   "pygments_lexer": "ipython3",
   "version": "3.8.5"
  }
 },
 "nbformat": 4,
 "nbformat_minor": 5
}
