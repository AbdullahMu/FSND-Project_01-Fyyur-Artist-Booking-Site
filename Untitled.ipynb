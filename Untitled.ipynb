{
 "cells": [
  {
   "cell_type": "code",
   "execution_count": 77,
   "id": "incredible-receptor",
   "metadata": {},
   "outputs": [],
   "source": [
    "import sqlalchemy as db"
   ]
  },
  {
   "cell_type": "code",
   "execution_count": 78,
   "id": "single-lightning",
   "metadata": {},
   "outputs": [],
   "source": [
    "from app1 import Venue, Artist, Show"
   ]
  },
  {
   "cell_type": "code",
   "execution_count": 79,
   "id": "final-consumption",
   "metadata": {},
   "outputs": [],
   "source": [
    "engine = db.create_engine('postgresql://postgres@localhost:5432/fyyur')\n",
    "connection = engine.connect()"
   ]
  },
  {
   "cell_type": "code",
   "execution_count": 80,
   "id": "liquid-slope",
   "metadata": {},
   "outputs": [
    {
     "data": {
      "text/plain": [
       "immutabledict({})"
      ]
     },
     "execution_count": 80,
     "metadata": {},
     "output_type": "execute_result"
    }
   ],
   "source": [
    "metadata = db.MetaData()\n",
    "metadata.tables"
   ]
  },
  {
   "cell_type": "code",
   "execution_count": 81,
   "id": "parental-witness",
   "metadata": {},
   "outputs": [
    {
     "data": {
      "text/plain": [
       "['alembic_version', 'artist', 'show', 'venue']"
      ]
     },
     "execution_count": 81,
     "metadata": {},
     "output_type": "execute_result"
    }
   ],
   "source": [
    "engine.table_names()"
   ]
  },
  {
   "cell_type": "code",
   "execution_count": 82,
   "id": "variable-discretion",
   "metadata": {},
   "outputs": [],
   "source": [
    "areas = Venue.query.with_entities(db.func.count(Venue.id), Venue.city, Venue.state).group_by(Venue.city, Venue.state).all()"
   ]
  },
  {
   "cell_type": "code",
   "execution_count": 83,
   "id": "owned-rings",
   "metadata": {},
   "outputs": [
    {
     "data": {
      "text/plain": [
       "[]"
      ]
     },
     "execution_count": 83,
     "metadata": {},
     "output_type": "execute_result"
    }
   ],
   "source": [
    "areas"
   ]
  },
  {
   "cell_type": "code",
   "execution_count": 123,
   "id": "statutory-universal",
   "metadata": {},
   "outputs": [
    {
     "data": {
      "text/plain": [
       "[<Venue ID: 1, name: Garza, Miller and Lopez, city: Garza, Miller and Lopez,\n",
       "         state: Texas, image: https://encrypted-tbn0.gstatic.com/images?q=tbn:ANd9GcTwHNYRKMZ8hT_npuDAJJhyDiWerO7-f_-Q0OqrlvazXUOQNvqe03IcY_4z6oo&s, address: 922 Alan Ridge Apt. 093\n",
       " Kaisertown, AR 00914,\n",
       "         phone: (314)932-6484x27942, facebook: https://facebook.com/garza,_miller_and_lopez/wp-content/app/main,\n",
       "         description: Public-key local algorithm. Save white matter attention., seeking_talent: False,\n",
       "         website: https://www.garza,millerandlopez.com, genres: {\"Musical Theatre\",Other,Funk,Pop,Soul,Instrumental},\n",
       " <Venue ID: 2, name: Waters Ltd, city: Waters Ltd,\n",
       "         state: Massachusetts, image: https://encrypted-tbn0.gstatic.com/images?q=tbn:ANd9GcTscPaM34VOHJOfjCNAIN-hiYEdo_dt9Kr5a1TsMIkl_UPXHH69SzpTiigfgps&s, address: 5543 Omar Center Suite 051\n",
       " Lake Patrick, MI 68173,\n",
       "         phone: +1-359-758-8573, facebook: https://facebook.com/waters_ltd/wp-content,\n",
       "         description: Integrated 6thgeneration monitoring. Their want away manage treatment., seeking_talent: True,\n",
       "         website: https://www.watersltd.net, genres: {Other,Blues,Folk,Funk,Hip-Hop,Punk,Jazz,Reggae,\"Musical Theatre\",Electronic,Country,\"Heavy Metal\",R&B,Pop,Classical,Soul,Instrumental},\n",
       " <Venue ID: 3, name: Velasquez-Thomas, city: Velasquez-Thomas,\n",
       "         state: Utah, image: https://encrypted-tbn0.gstatic.com/images?q=tbn:ANd9GcTGE2YyBZ5ofcXQXpo5wd85qupPWQ296WOgZSUITWPHwmrbSPEIi4wdMN19MzY&s, address: 917 Leslie Tunnel\n",
       " New Rachelberg, MI 76702,\n",
       "         phone: 119.090.6972, facebook: https://facebook.com/velasquez-thomas/categories/main/tags,\n",
       "         description: Profit-focused intangible knowledge user. Theory new attention fact., seeking_talent: False,\n",
       "         website: https://www.velasquez-thomas.org, genres: {Alternative,Soul,Classical,Punk,Pop,\"Rock n Roll\"},\n",
       " <Venue ID: 4, name: Martin, York and Buchanan, city: Martin, York and Buchanan,\n",
       "         state: Wisconsin, image: https://encrypted-tbn0.gstatic.com/images?q=tbn:ANd9GcSOB2pjnCi0Ghyq5gm05_KeKDab7gZQnBVHhwQqTXVa4G7UNbgTwyazg9-wcQ&s, address: 35654 Clark Prairie Apt. 066\n",
       " East Christopher, TN 61821,\n",
       "         phone: (800)622-6118, facebook: https://facebook.com/martin,_york_and_buchanan/app,\n",
       "         description: Re-contextualized full-range installation. Weight Republican body., seeking_talent: True,\n",
       "         website: https://www.martin,yorkandbuchanan.tv, genres: {\"Heavy Metal\",Hip-Hop,Reggae,Jazz,Punk,Electronic,Folk,Other,Country,Pop,\"Rock n Roll\",Funk,Blues,R&B,Alternative,\"Musical Theatre\"},\n",
       " <Venue ID: 5, name: Snyder Group, city: Snyder Group,\n",
       "         state: Mississippi, image: https://encrypted-tbn0.gstatic.com/images?q=tbn:ANd9GcSBPKTOUW_NzpgvKCDZhKiyL7mV9mWdDy3vcpLbfuC8sW8di1z_Utnmkc9cHBY&s, address: 92631 Andrew Roads\n",
       " West Karashire, PA 31233,\n",
       "         phone: (238)268-3821x057, facebook: https://facebook.com/snyder_group/tag,\n",
       "         description: Profit-focused even-keeled task-force. Home do cover watch in cultural represent., seeking_talent: False,\n",
       "         website: https://www.snydergroup.net, genres: {Hip-Hop,Folk,Punk,Other,Instrumental,Alternative,Blues,R&B,Electronic,Soul},\n",
       " <Venue ID: 6, name: Baker, Cooper and Chang, city: Baker, Cooper and Chang,\n",
       "         state: Washington, image: https://encrypted-tbn0.gstatic.com/images?q=tbn:ANd9GcS5r-5L7zfc0_aUVDS5SEw7r_DaGtWi6jOFpUyrGVWdDny7hLaKRitKIEqqUA&s, address: Unit 3443 Box 2705\n",
       " DPO AE 59135,\n",
       "         phone: +1-436-679-2854, facebook: https://facebook.com/baker,_cooper_and_chang/list,\n",
       "         description: Ameliorated contextually-based database. Tax quite wrong law., seeking_talent: True,\n",
       "         website: https://www.baker,cooperandchang.com, genres: {Punk,Hip-Hop,Electronic,Instrumental,Folk,Reggae,Other,\"Rock n Roll\",Classical,R&B,\"Musical Theatre\",Funk,Blues,Soul,Country,Alternative},\n",
       " <Venue ID: 7, name: Whitaker Group, city: Whitaker Group,\n",
       "         state: Vermont, image: https://encrypted-tbn0.gstatic.com/images?q=tbn:ANd9GcSaarg539xJbRwfvjZmkMoP1icbN4lIgDOaRUOxAte8An7OtQ8Renx615P4Lw&s, address: 6434 Lewis Crossing\n",
       " Donnabury, VT 97844,\n",
       "         phone: (768)531-0576x41859, facebook: https://facebook.com/whitaker_group/blog/wp-content,\n",
       "         description: Function-based bandwidth-monitored framework. Either beautiful science spring reach action up step., seeking_talent: True,\n",
       "         website: https://www.whitakergroup.org, genres: {Alternative,Classical,Pop,Jazz,Country,Punk,\"Rock n Roll\",Reggae,Funk,\"Musical Theatre\",Instrumental,Folk,Hip-Hop,Other,\"Heavy Metal\",Electronic},\n",
       " <Venue ID: 8, name: Leon, Henry and Carlson, city: Leon, Henry and Carlson,\n",
       "         state: Utah, image: https://encrypted-tbn0.gstatic.com/images?q=tbn:ANd9GcSsnHaJmHVdiTeHvd8GQWrY8F-FKf2h-egZSx50UdjwwUG41lgCPc5pcCbXdGc&s, address: 6192 Chavez Creek\n",
       " East Jennifer, AK 83025,\n",
       "         phone: 563.857.4066x5863, facebook: https://facebook.com/leon,_henry_and_carlson/blog/app/explore,\n",
       "         description: Reactive dynamic standardization. Them nor color trial boy impact approach ready., seeking_talent: False,\n",
       "         website: https://www.leon,henryandcarlson.info, genres: {Pop,Folk,Reggae,Instrumental,Other,\"Rock n Roll\",Funk,Blues},\n",
       " <Venue ID: 9, name: Johnson, Blair and Washington, city: Johnson, Blair and Washington,\n",
       "         state: New Mexico, image: https://encrypted-tbn0.gstatic.com/images?q=tbn:ANd9GcQ3iUJWF_43JxicE617DebshQ8k-GdVs5xlAOd_EN6-Ls7MAhntvELx1BCHeA&s, address: 493 Robin Mountains Suite 584\n",
       " Sydneyshire, IA 98413,\n",
       "         phone: 001-632-708-2302x2826, facebook: https://facebook.com/johnson,_blair_and_washington/category/explore,\n",
       "         description: Ergonomic directional functionalities. Voice score write short either., seeking_talent: True,\n",
       "         website: https://www.johnson,blairandwashington.net, genres: {Reggae,Folk,Instrumental,\"Musical Theatre\",Blues,Pop,R&B,Punk,\"Rock n Roll\",Jazz,Funk,\"Heavy Metal\"},\n",
       " <Venue ID: 10, name: Oneal-Walker, city: Oneal-Walker,\n",
       "         state: California, image: https://encrypted-tbn0.gstatic.com/images?q=tbn:ANd9GcSGs8YEt_xSvFAecF1OcTQHtU0xUbu4x7f9Q_ebmm2kVL2TP-tWfoWey1gvtrg&s, address: 056 Christopher Junctions Apt. 961\n",
       " Natashaland, HI 18893,\n",
       "         phone: (600)998-3095x5509, facebook: https://facebook.com/oneal-walker/posts/wp-content,\n",
       "         description: Customer-focused solution-oriented structure. Article face build no along Congress., seeking_talent: False,\n",
       "         website: https://www.oneal-walker.info, genres: {Electronic,Reggae,Other,Instrumental,Punk,R&B,\"Heavy Metal\",\"Musical Theatre\",Blues,\"Rock n Roll\",Hip-Hop,Jazz,Alternative,Funk,Folk,Classical},\n",
       " <Venue ID: 11, name: Hurst, Thompson and Anderson, city: Hurst, Thompson and Anderson,\n",
       "         state: Florida, image: https://encrypted-tbn0.gstatic.com/images?q=tbn:ANd9GcSNkEb6_1DdSBPGPf-ArkdCrVHJu2zsNozYRQ-BkdKjbXt104yqIGBFTHBNHg&s, address: 13417 David Ville\n",
       " Port Lisa, AR 26645,\n",
       "         phone: 085-820-8353, facebook: https://facebook.com/hurst,_thompson_and_anderson/search/posts,\n",
       "         description: Integrated next generation definition. Bring level throughout., seeking_talent: True,\n",
       "         website: https://www.hurst,thompsonandanderson.org, genres: {Folk,Country,\"Rock n Roll\",Instrumental,Hip-Hop,Jazz,Pop,Other,Blues,R&B,Punk,\"Heavy Metal\",Alternative,Electronic,Soul,\"Musical Theatre\",Reggae},\n",
       " <Venue ID: 12, name: Williams-Barr, city: Williams-Barr,\n",
       "         state: Rhode Island, image: https://encrypted-tbn0.gstatic.com/images?q=tbn:ANd9GcSr4krJSobI0UX_dRn7YDc9WSFIUjWlaZ16EgYve_5L2Mt8iI_CH6IL75z-hj8&s, address: Unit 9591 Box 9176\n",
       " DPO AA 64714,\n",
       "         phone: 694-314-6789x26573, facebook: https://facebook.com/williams-barr/list,\n",
       "         description: Innovative responsive pricing structure. Animal say whole talk., seeking_talent: False,\n",
       "         website: https://www.williams-barr.org, genres: {Other,R&B,Blues,\"Rock n Roll\",Folk,Jazz,Instrumental,\"Heavy Metal\",Hip-Hop,Pop},\n",
       " <Venue ID: 13, name: Serrano, Williams and Riley, city: Serrano, Williams and Riley,\n",
       "         state: Oklahoma, image: https://encrypted-tbn0.gstatic.com/images?q=tbn:ANd9GcQNUyJNpH3ysj2D1dKve3_z3yBqSIorrU7ySQ-A06T1wOZ8z7wCW18xyEbkfQ&s, address: 7348 Susan Oval Suite 954\n",
       " Lake Stephenfurt, AK 17516,\n",
       "         phone: 288.943.5479x66783, facebook: https://facebook.com/serrano,_williams_and_riley/list/list,\n",
       "         description: Team-oriented intangible definition. Government per turn break act sister., seeking_talent: False,\n",
       "         website: https://www.serrano,williamsandriley.org, genres: {Classical,Folk,Alternative,Pop},\n",
       " <Venue ID: 14, name: Baxter-Cox, city: Baxter-Cox,\n",
       "         state: West Virginia, image: https://encrypted-tbn0.gstatic.com/images?q=tbn:ANd9GcStXu7t-KIgwdRf-_70NsGYKZbxpY--w8KQDWGo_xiib4k6w32uPp6eZW3tsQ&s, address: USNV Rodriguez\n",
       " FPO AP 44953,\n",
       "         phone: +1-114-329-5735x265, facebook: https://facebook.com/baxter-cox/tags/main/search,\n",
       "         description: Business-focused intangible Internet solution. Try now understand head summer me., seeking_talent: False,\n",
       "         website: https://www.baxter-cox.org, genres: {Jazz,\"Heavy Metal\",Alternative,Country,Instrumental,Blues,\"Rock n Roll\",Funk,Punk,Soul},\n",
       " <Venue ID: 15, name: Wheeler PLC, city: Wheeler PLC,\n",
       "         state: Maryland, image: https://encrypted-tbn0.gstatic.com/images?q=tbn:ANd9GcRM1hMEvk5IOF6obu-MJwAvdDVbbNKiDTSIOUk-l2MI7bLET2HgS3tITW3ZOg&s, address: 67543 Jacobson Knoll Suite 692\n",
       " Port Kristin, NY 15677,\n",
       "         phone: (542)165-4980x18865, facebook: https://facebook.com/wheeler_plc/explore/category,\n",
       "         description: Secured 24hour strategy. Important ask still possible yourself hard., seeking_talent: False,\n",
       "         website: https://www.wheelerplc.tv, genres: {Alternative,Country,Electronic,Jazz,\"Heavy Metal\",Other,Soul},\n",
       " <Venue ID: 16, name: Davidson Group, city: Davidson Group,\n",
       "         state: North Dakota, image: https://encrypted-tbn0.gstatic.com/images?q=tbn:ANd9GcTCglptg6tNatR6pSjn2m5yIByx1L6znL0PBrQUIIYJa2IGbSReCZX5sdnn4g&s, address: 472 Ricky Garden Suite 242\n",
       " Christophershire, IL 59265,\n",
       "         phone: (947)253-4016x299, facebook: https://facebook.com/davidson_group/posts,\n",
       "         description: Organic empowering frame. See amount voice surface., seeking_talent: False,\n",
       "         website: https://www.davidsongroup.com, genres: {Instrumental,R&B,Alternative,Punk,Classical,Reggae,\"Rock n Roll\"},\n",
       " <Venue ID: 17, name: Johnson, Morgan and Blake, city: Johnson, Morgan and Blake,\n",
       "         state: Minnesota, image: https://encrypted-tbn0.gstatic.com/images?q=tbn:ANd9GcRFjyQnO6swWebYjc9VvIKVXtWtd8Ft2V8Cr9_iSTOUVkRVZOu2I33-2JpncTU&s, address: PSC 3331, Box 4680\n",
       " APO AP 06376,\n",
       "         phone: 424.516.4750, facebook: https://facebook.com/johnson,_morgan_and_blake/category,\n",
       "         description: Synergized leadingedge application. Our for whom personal box staff teacher player., seeking_talent: True,\n",
       "         website: https://www.johnson,morganandblake.org, genres: {Folk,\"Rock n Roll\",Electronic,Reggae,Blues,R&B,\"Heavy Metal\",Other,Punk,Soul,Hip-Hop,Funk,Instrumental,Pop,Classical},\n",
       " <Venue ID: 18, name: Stevens, Ferguson and Meyers, city: Stevens, Ferguson and Meyers,\n",
       "         state: Nebraska, image: https://encrypted-tbn0.gstatic.com/images?q=tbn:ANd9GcSUs-BYts0gQof6z7KeqZmee8TDz1w0PsRbFBMSRIUDsdLT1wuK8sT9LO5bC34&s, address: 018 Julie Prairie\n",
       " Lake Tinastad, DE 13275,\n",
       "         phone: 044-709-5445, facebook: https://facebook.com/stevens,_ferguson_and_meyers/search/category,\n",
       "         description: Monitored grid-enabled Graphical User Interface. Trade receive remain her compare field., seeking_talent: False,\n",
       "         website: https://www.stevens,fergusonandmeyers.info, genres: {Electronic,Classical,\"Heavy Metal\",R&B},\n",
       " <Venue ID: 19, name: Young Inc, city: Young Inc,\n",
       "         state: Massachusetts, image: https://encrypted-tbn0.gstatic.com/images?q=tbn:ANd9GcTHKCWkDAkqHyN3Yaaq5zG-0_pNlMYd2fU2CNH1gxFTuhnIOw7a-8VlpLlk9Q&s, address: 21650 Samuel Path Suite 023\n",
       " Port Davidmouth, UT 61297,\n",
       "         phone: 013.980.4782x19414, facebook: https://facebook.com/young_inc/app/explore/wp-content,\n",
       "         description: Front-line fresh-thinking secured line. Response collection appear interest near newspaper inside owner., seeking_talent: False,\n",
       "         website: https://www.younginc.info, genres: {Other},\n",
       " <Venue ID: 20, name: Tran PLC, city: Tran PLC,\n",
       "         state: New York, image: https://encrypted-tbn0.gstatic.com/images?q=tbn:ANd9GcQm018lgyU6oFAI4ZN7-9_Vqe2oSz3qP8cwUu0_vDd3r7ut_nnjmcOBb5gjag&s, address: 06387 Friedman Loaf Apt. 049\n",
       " Allenchester, TX 04381,\n",
       "         phone: (261)619-9934, facebook: https://facebook.com/tran_plc/search,\n",
       "         description: Visionary executive software. Its poor our picture low seem., seeking_talent: True,\n",
       "         website: https://www.tranplc.org, genres: {\"Rock n Roll\",Electronic}]"
      ]
     },
     "execution_count": 123,
     "metadata": {},
     "output_type": "execute_result"
    }
   ],
   "source": [
    "Venue.query.all()"
   ]
  },
  {
   "cell_type": "code",
   "execution_count": 85,
   "id": "metallic-luther",
   "metadata": {},
   "outputs": [
    {
     "data": {
      "text/plain": [
       "MetaData(bind=None)"
      ]
     },
     "execution_count": 85,
     "metadata": {},
     "output_type": "execute_result"
    }
   ],
   "source": [
    "Venue.metadata"
   ]
  },
  {
   "cell_type": "code",
   "execution_count": 86,
   "id": "fourth-welcome",
   "metadata": {},
   "outputs": [],
   "source": [
    "from sqlalchemy.inspection import inspect\n"
   ]
  },
  {
   "cell_type": "code",
   "execution_count": 87,
   "id": "intense-involvement",
   "metadata": {},
   "outputs": [
    {
     "name": "stdout",
     "output_type": "stream",
     "text": [
      "id\n",
      "name\n",
      "city\n",
      "state\n",
      "address\n",
      "phone\n",
      "image_link\n",
      "facebook_link\n",
      "description\n",
      "seeking_talent\n",
      "website\n",
      "genres\n"
     ]
    }
   ],
   "source": [
    "table = inspect(Venue)\n",
    "for column in table.c:\n",
    "    print(column.name)"
   ]
  },
  {
   "cell_type": "code",
   "execution_count": 18,
   "id": "conceptual-charger",
   "metadata": {},
   "outputs": [
    {
     "name": "stdout",
     "output_type": "stream",
     "text": [
      "id\n",
      "name\n",
      "city\n",
      "state\n",
      "phone\n",
      "genres\n",
      "image_link\n",
      "facebook_link\n",
      "seeking_venue\n",
      "seeking_description\n"
     ]
    }
   ],
   "source": [
    "table = inspect(Artist)\n",
    "for column in table.c:\n",
    "    print(column.name)"
   ]
  },
  {
   "cell_type": "code",
   "execution_count": 19,
   "id": "seasonal-grenada",
   "metadata": {},
   "outputs": [
    {
     "name": "stdout",
     "output_type": "stream",
     "text": [
      "id\n",
      "artist_id\n",
      "venue_id\n",
      "start_time\n"
     ]
    }
   ],
   "source": [
    "table = inspect(Show)\n",
    "for column in table.c:\n",
    "    print(column.name)"
   ]
  },
  {
   "cell_type": "code",
   "execution_count": 22,
   "id": "reported-phenomenon",
   "metadata": {},
   "outputs": [
    {
     "data": {
      "text/plain": [
       "['id', 'artist_id', 'venue_id', 'start_time']"
      ]
     },
     "execution_count": 22,
     "metadata": {},
     "output_type": "execute_result"
    }
   ],
   "source": [
    "[column.name for column in inspect(Show).c] #attributes"
   ]
  },
  {
   "cell_type": "code",
   "execution_count": 24,
   "id": "powered-monte",
   "metadata": {},
   "outputs": [],
   "source": [
    "import barnum"
   ]
  },
  {
   "cell_type": "code",
   "execution_count": 25,
   "id": "isolated-apparatus",
   "metadata": {},
   "outputs": [
    {
     "data": {
      "text/plain": [
       "('Armando', 'Hammond')"
      ]
     },
     "execution_count": 25,
     "metadata": {},
     "output_type": "execute_result"
    }
   ],
   "source": [
    "barnum.create_name()"
   ]
  },
  {
   "cell_type": "code",
   "execution_count": 26,
   "id": "starting-importance",
   "metadata": {},
   "outputs": [],
   "source": [
    "from faker import Faker"
   ]
  },
  {
   "cell_type": "code",
   "execution_count": 68,
   "id": "peaceful-makeup",
   "metadata": {},
   "outputs": [
    {
     "name": "stdout",
     "output_type": "stream",
     "text": [
      "Norman Butler\n",
      "059 White Mills Suite 671\n",
      "West Sheilatown, WY 08239\n",
      "Carol Martinez\n",
      "千葉県多摩市箭坪4丁目20番12号\n",
      "田中 真綾\n",
      "Contrada Soprano 25 Piano 3\n",
      "San Victoria umbro, 83518 Matera (PG)\n",
      "Jessica Patton\n",
      "Stretto Augusto 522\n",
      "Carnera a mare, 32128 Pavia (MB)\n",
      "Santino Iacobucci\n",
      "Viale Francesca 6 Piano 2\n",
      "San Nicoletta lido, 69580 Teramo (NU)\n",
      "小林 里佳\n",
      "埼玉県君津市下吉羽35丁目11番1号 外国府間ハイツ895\n",
      "佐々木 真綾\n",
      "PSC 1865, Box 2620\n",
      "APO AA 52660\n",
      "清水 拓真\n",
      "07520 Stout Isle Suite 290\n",
      "Millshaven, CO 46307\n",
      "Dott. Beppe Goldoni\n",
      "北海道世田谷区前弥六23丁目6番7号 横林パーク021\n",
      "佐藤 香織\n",
      "717 Lawson Plains Suite 662\n",
      "Brownberg, MI 95215\n",
      "伊藤 加奈\n",
      "Stretto Lanfranchi 83\n",
      "Borgo Bernardo nell'emilia, 67506 Trento (VS)\n",
      "井上 陽子\n",
      "Contrada Renata 62\n",
      "Sesto Ornella, 57011 Ascoli Piceno (PA)\n",
      "Elizabeth French\n",
      "Piazza Moschino 86\n",
      "Borgo Ornella laziale, 17242 Olbia-Tempio (RC)\n",
      "Allison Austin\n",
      "大阪府香取郡多古町平須賀34丁目19番18号\n",
      "Rita Canil\n",
      "Strada Giuliano 81\n",
      "Settimo Beatrice, 99423 Taranto (LI)\n",
      "Christina Walton\n",
      "Incrocio Foletti 261\n",
      "Daniele veneto, 33665 Rieti (RC)\n"
     ]
    }
   ],
   "source": [
    "intl_fake = Faker(['it_IT', 'en_US', 'ja_JP'])\n",
    "\n",
    "fake = Faker()\n",
    "\n",
    "for _ in range(16):\n",
    "    print(intl_fake.name())\n",
    "    print(intl_fake.address())"
   ]
  },
  {
   "cell_type": "code",
   "execution_count": 71,
   "id": "opposed-decision",
   "metadata": {},
   "outputs": [
    {
     "data": {
      "text/plain": [
       "'077-056-0013x8287'"
      ]
     },
     "execution_count": 71,
     "metadata": {},
     "output_type": "execute_result"
    }
   ],
   "source": [
    "fake.phone_number()"
   ]
  },
  {
   "cell_type": "code",
   "execution_count": 45,
   "id": "stunning-military",
   "metadata": {},
   "outputs": [
    {
     "name": "stdout",
     "output_type": "stream",
     "text": [
      "https://encrypted-tbn0.gstatic.com/images?q=tbn:ANd9GcSqSV6WmxQ9F0OylaYr0D3GQfkdhOdtkkENQD0BwSF_3e23lB-q4hVdPR4hz6Q&s\n"
     ]
    }
   ],
   "source": [
    "# generate band images\n",
    "\n",
    "from bs4 import BeautifulSoup\n",
    "import urllib.parse\n",
    "from urllib.request import urlopen,Request\n",
    "import random\n",
    "\n",
    "\n",
    "requester = {'User-Agent': 'Mozilla/5.0'}\n",
    "req=Request(\"https://www.google.com/search?q=music+band+concert&safe=strict&rlz=1C1CHBD_enSA864SA864&sxsrf=ALeKk02fYTqwhxXXdNi5qHt_8ydduk3U7g:1614361294720&source=lnms&tbm=isch&sa=X&ved=2ahUKEwjw6Yq8jIjvAhUC8hQKHVT3CWsQ_AUoAXoECCcQAw&biw=1920&bih=979&dpr=1\",headers=requester)\n",
    "u =urlopen(req)\n",
    "\n",
    "\n",
    "soup = BeautifulSoup(u.read(), features=\"lxml\")\n",
    "\n",
    "\n",
    "\n",
    "links = soup.find_all('a')\n",
    "\n",
    "images =[]\n",
    "for img in soup.findAll('img'):\n",
    "    images.append(img.get('src'))\n",
    "\n",
    "img=random.choice(images)    \n",
    "print(img)"
   ]
  },
  {
   "cell_type": "code",
   "execution_count": 46,
   "id": "acceptable-metro",
   "metadata": {},
   "outputs": [
    {
     "data": {
      "text/plain": [
       "21"
      ]
     },
     "execution_count": 46,
     "metadata": {},
     "output_type": "execute_result"
    }
   ],
   "source": [
    "len(images)"
   ]
  },
  {
   "cell_type": "code",
   "execution_count": 50,
   "id": "thrown-revolution",
   "metadata": {},
   "outputs": [],
   "source": [
    "band_images = images[1:]"
   ]
  },
  {
   "cell_type": "code",
   "execution_count": 63,
   "id": "compatible-unknown",
   "metadata": {},
   "outputs": [],
   "source": [
    "# generate venue images\n",
    "\n",
    "req=Request(\"https://www.google.com/search?q=music+venue&tbm=isch&ved=2ahUKEwjXvOuH2InvAhWZgM4BHUtiD2sQ2-cCegQIABAA&oq=music+venue&gs_lcp=CgNpbWcQAzICCAAyAggAMgIIADICCAAyAggAMgIIADICCAAyAggAMgIIADICCAA6BQgAELEDUPGIAViDkwFg_ZQBaABwAHgAgAHGAYgBowaSAQMwLjWYAQCgAQGqAQtnd3Mtd2l6LWltZ8ABAQ&sclient=img&ei=SQg6YJf0O5mBur4Py8S92AY&bih=979&biw=1903&rlz=1C1CHBD_enSA864SA864&safe=strict&hl=en\",headers=requester)\n",
    "u =urlopen(req)\n",
    "\n",
    "\n",
    "soup = BeautifulSoup(u.read(), features=\"lxml\")\n",
    "\n",
    "\n",
    "\n",
    "links = soup.find_all('a')\n",
    "\n",
    "images =[]\n",
    "for img in soup.findAll('img'):\n",
    "    images.append(img.get('src'))"
   ]
  },
  {
   "cell_type": "code",
   "execution_count": 66,
   "id": "rural-nursery",
   "metadata": {},
   "outputs": [],
   "source": [
    "venue_images = images[1:]"
   ]
  },
  {
   "cell_type": "code",
   "execution_count": 49,
   "id": "reliable-clark",
   "metadata": {},
   "outputs": [],
   "source": [
    "genres_list = ['Alternative', 'Blues', 'Classical', 'Country', 'Electronic', 'Folk', 'Funk', 'Hip-Hop', 'Heavy Metal', 'Instrumental', 'Jazz', 'Musical Theatre', 'Pop', 'Punk', 'R&B', 'Reggae', 'Rock n Roll', 'Soul', 'Other']"
   ]
  },
  {
   "cell_type": "code",
   "execution_count": 74,
   "id": "urban-buffalo",
   "metadata": {},
   "outputs": [
    {
     "data": {
      "text/plain": [
       "'Jonesville'"
      ]
     },
     "execution_count": 74,
     "metadata": {},
     "output_type": "execute_result"
    }
   ],
   "source": [
    "fake.city()"
   ]
  },
  {
   "cell_type": "code",
   "execution_count": 75,
   "id": "smoking-instrumentation",
   "metadata": {},
   "outputs": [
    {
     "data": {
      "text/plain": [
       "'Arizona'"
      ]
     },
     "execution_count": 75,
     "metadata": {},
     "output_type": "execute_result"
    }
   ],
   "source": [
    "fake.state()"
   ]
  },
  {
   "cell_type": "code",
   "execution_count": 62,
   "id": "concerned-opposition",
   "metadata": {},
   "outputs": [
    {
     "data": {
      "text/plain": [
       "'埼玉県横浜市南区東大和町41丁目12番9号'"
      ]
     },
     "execution_count": 62,
     "metadata": {},
     "output_type": "execute_result"
    }
   ],
   "source": [
    "fake.address()"
   ]
  },
  {
   "cell_type": "code",
   "execution_count": 89,
   "id": "burning-declaration",
   "metadata": {},
   "outputs": [],
   "source": [
    "# create a Session\n",
    "from sqlalchemy.orm import sessionmaker\n",
    "\n",
    "# create a configured \"Session\" class\n",
    "Session = sessionmaker(bind=engine)\n",
    "\n",
    "session = Session()"
   ]
  },
  {
   "cell_type": "code",
   "execution_count": 92,
   "id": "green-domestic",
   "metadata": {},
   "outputs": [
    {
     "data": {
      "text/plain": [
       "[]"
      ]
     },
     "execution_count": 92,
     "metadata": {},
     "output_type": "execute_result"
    }
   ],
   "source": [
    "artist_query = session.query(Artist).all()\n",
    "artist_query"
   ]
  },
  {
   "cell_type": "code",
   "execution_count": 129,
   "id": "certified-smile",
   "metadata": {},
   "outputs": [],
   "source": [
    "for i in range(0, 20):\n",
    "    # add venue\n",
    "    name = fake.company()\n",
    "    city = fake.city()\n",
    "    state = fake.state()\n",
    "    address = fake.address()\n",
    "    phone = fake.phone_number()\n",
    "    genres = random.sample(genres_list, random.randint(1,len(genres_list)))\n",
    "    image_link = venue_images[i]\n",
    "    facebook_link = 'https://facebook.com/' + name.lower().replace(\" \", \"_\") + '/' + fake.uri_path()\n",
    "    website = 'https://www.' +  name.lower().replace(\" \", \"\") + random.choice(['.com', '.net', '.org', '.info', '.tv'])\n",
    "    seeking_talent = fake.boolean(chance_of_getting_true=50) # https://stackoverflow.com/questions/715417/converting-from-a-string-to-boolean-in-python\n",
    "    description = fake.catch_phrase() + '. ' + fake.sentence()\n",
    "    \n",
    "    venue = Venue(name=name, city=city, state=state, address=address, phone=phone, genres=genres, facebook_link=facebook_link, image_link=image_link, website=website, seeking_talent=seeking_talent, description=description)\n",
    "    session.add(venue)\n",
    "    session.commit()\n",
    "    "
   ]
  },
  {
   "cell_type": "code",
   "execution_count": 130,
   "id": "average-connectivity",
   "metadata": {},
   "outputs": [
    {
     "data": {
      "text/plain": [
       "100"
      ]
     },
     "execution_count": 130,
     "metadata": {},
     "output_type": "execute_result"
    }
   ],
   "source": [
    "len(Venue.query.all())"
   ]
  },
  {
   "cell_type": "code",
   "execution_count": 138,
   "id": "modified-sleeping",
   "metadata": {},
   "outputs": [],
   "source": [
    "for i in range(0, 20):\n",
    "    # add artist\n",
    "    name = intl_fake.name()\n",
    "    city = fake.city()\n",
    "    state = fake.state()\n",
    "    phone = fake.phone_number()\n",
    "    genres = random.choice(genres_list)\n",
    "    image_link = band_images[i]\n",
    "    facebook_link = 'https://facebook.com/' + name.lower().replace(\" \", \"_\") + '/' + fake.uri_path()\n",
    "    seeking_venue = fake.boolean(chance_of_getting_true=50) # https://stackoverflow.com/questions/715417/converting-from-a-string-to-boolean-in-python\n",
    "    seeking_description = fake.catch_phrase() + '. ' + fake.sentence()\n",
    "    \n",
    "    artist = Artist(name=name, city=city, state=state, phone=phone, genres=genres, facebook_link=facebook_link, image_link=image_link, seeking_venue=seeking_venue, seeking_description=seeking_description)\n",
    "    session.add(artist)\n",
    "    session.commit()\n",
    "    "
   ]
  },
  {
   "cell_type": "code",
   "execution_count": 139,
   "id": "radio-dance",
   "metadata": {},
   "outputs": [
    {
     "data": {
      "text/plain": [
       "80"
      ]
     },
     "execution_count": 139,
     "metadata": {},
     "output_type": "execute_result"
    }
   ],
   "source": [
    "len(Artist.query.all())"
   ]
  },
  {
   "cell_type": "code",
   "execution_count": 195,
   "id": "equal-spanking",
   "metadata": {},
   "outputs": [],
   "source": [
    "art = Artist.query.all()"
   ]
  },
  {
   "cell_type": "code",
   "execution_count": 196,
   "id": "italic-marsh",
   "metadata": {},
   "outputs": [
    {
     "data": {
      "text/plain": [
       "list"
      ]
     },
     "execution_count": 196,
     "metadata": {},
     "output_type": "execute_result"
    }
   ],
   "source": [
    "type(art)"
   ]
  },
  {
   "cell_type": "code",
   "execution_count": 197,
   "id": "innocent-advance",
   "metadata": {},
   "outputs": [
    {
     "data": {
      "text/plain": [
       "'Balanced motivating help-desk. Study girl quality economy.'"
      ]
     },
     "execution_count": 197,
     "metadata": {},
     "output_type": "execute_result"
    }
   ],
   "source": [
    "art[1].seeking_description"
   ]
  },
  {
   "cell_type": "code",
   "execution_count": 202,
   "id": "gothic-ozone",
   "metadata": {},
   "outputs": [
    {
     "data": {
      "text/plain": [
       "[<Artist ID: 1, name: 山田 拓真, city: 山田 拓真,\n",
       "         state: Alaska, image: https://encrypted-tbn0.gstatic.com/images?q=tbn:ANd9GcRxQuXMoBwnSFZIvYcSfCmcx_dc3KZ-SjRcERCT4qzL4uZU06Z3il7SaSr0gA&s, genres: Punk,\n",
       "         facebook: https://facebook.com/山田_拓真/tag/explore, seeking_venue: True,\n",
       "         seeking_description: Face-to-face directional implementation. Town nice star style right order. ,\n",
       " <Artist ID: 2, name: Diana Detti-Molesini, city: Diana Detti-Molesini,\n",
       "         state: Montana, image: https://encrypted-tbn0.gstatic.com/images?q=tbn:ANd9GcQK20xSW86-SyOv2q-6vOvZBsegZzxrx8ez3Yi2IVNJopMoY-Fc9GFD6UN25A&s, genres: Musical Theatre,\n",
       "         facebook: https://facebook.com/diana_detti-molesini/main/wp-content/posts, seeking_venue: True,\n",
       "         seeking_description: Balanced motivating help-desk. Study girl quality economy. ,\n",
       " <Artist ID: 3, name: Pierangelo Papafava, city: Pierangelo Papafava,\n",
       "         state: Missouri, image: https://encrypted-tbn0.gstatic.com/images?q=tbn:ANd9GcRM1hMEvk5IOF6obu-MJwAvdDVbbNKiDTSIOUk-l2MI7bLET2HgS3tITW3ZOg&s, genres: R&B,\n",
       "         facebook: https://facebook.com/pierangelo_papafava/category/app, seeking_venue: True,\n",
       "         seeking_description: Future-proofed reciprocal help-desk. East very beyond care. ,\n",
       " <Artist ID: 4, name: Ernesto Comencini-Bongiorno, city: Ernesto Comencini-Bongiorno,\n",
       "         state: New Jersey, image: https://encrypted-tbn0.gstatic.com/images?q=tbn:ANd9GcT_M-ZkHrdCGGyF4tghHO6PEaQpGUof0ujWFBh2ahOy50urqIL1PgOym4Cf5A&s, genres: Hip-Hop,\n",
       "         facebook: https://facebook.com/ernesto_comencini-bongiorno/tags, seeking_venue: True,\n",
       "         seeking_description: Enhanced upward-trending installation. Test church which movie begin grow Republican. ,\n",
       " <Artist ID: 5, name: 藤田 零, city: 藤田 零,\n",
       "         state: Iowa, image: https://encrypted-tbn0.gstatic.com/images?q=tbn:ANd9GcQPTDPw7QQFH3U_92Ntn5lypzLQVZZqTu2no-DQF-7gvhcPIZeG2EC0pbwKHg&s, genres: Alternative,\n",
       "         facebook: https://facebook.com/藤田_零/tags/category, seeking_venue: True,\n",
       "         seeking_description: Advanced holistic Graphic Interface. Yes subject onto. ,\n",
       " <Artist ID: 6, name: Elladio Cagnotto, city: Elladio Cagnotto,\n",
       "         state: South Carolina, image: https://encrypted-tbn0.gstatic.com/images?q=tbn:ANd9GcRId8tsTsdqJsuupBIYibyFDfba_fm1Pd2KjDf8CBrVnZiQetOQBGk6I9gYivE&s, genres: Instrumental,\n",
       "         facebook: https://facebook.com/elladio_cagnotto/wp-content, seeking_venue: False,\n",
       "         seeking_description: Proactive full-range installation. North staff low town with. ,\n",
       " <Artist ID: 7, name: Giada Blasi, city: Giada Blasi,\n",
       "         state: Alabama, image: https://encrypted-tbn0.gstatic.com/images?q=tbn:ANd9GcToo6TT2obR7CuwdlZU0RnckEuUlFYSgkZ9vBXM7aiCc8-2LZqMyI-nXWoE-g&s, genres: Heavy Metal,\n",
       "         facebook: https://facebook.com/giada_blasi/tags/category/explore, seeking_venue: True,\n",
       "         seeking_description: Public-key real-time policy. Not person writer difficult television. ,\n",
       " <Artist ID: 8, name: Giacobbe Fracci, city: Giacobbe Fracci,\n",
       "         state: Vermont, image: https://encrypted-tbn0.gstatic.com/images?q=tbn:ANd9GcTDCc32yG56YqP038TAExNKKb2zVrxm0dohsD95tCuMFufFa5j6wxXcCMR7xgA&s, genres: Pop,\n",
       "         facebook: https://facebook.com/giacobbe_fracci/blog, seeking_venue: True,\n",
       "         seeking_description: Compatible interactive product. Standard energy purpose understand. ,\n",
       " <Artist ID: 9, name: Stanley Allen, city: Stanley Allen,\n",
       "         state: Arkansas, image: https://encrypted-tbn0.gstatic.com/images?q=tbn:ANd9GcTdG_CNoK63JWCCt39FtCUsf53IXQeDcxgS1qWXz4Sjcw5oJpCcq030G0f2Z0k&s, genres: Other,\n",
       "         facebook: https://facebook.com/stanley_allen/categories/search/tags, seeking_venue: False,\n",
       "         seeking_description: Open-architected zero tolerance infrastructure. Must born he. ,\n",
       " <Artist ID: 10, name: Patrizia Caironi, city: Patrizia Caironi,\n",
       "         state: Georgia, image: https://encrypted-tbn0.gstatic.com/images?q=tbn:ANd9GcTF9B50x13snwPDTaSm_EL02zwyrd7L9hIUwcV1KSykXmUbCriQ7RgZxwdfWw&s, genres: Instrumental,\n",
       "         facebook: https://facebook.com/patrizia_caironi/wp-content/app/main, seeking_venue: False,\n",
       "         seeking_description: Virtual empowering Local Area Network. Purpose voice maintain natural oil. ,\n",
       " <Artist ID: 11, name: Riccardo Olivetti, city: Riccardo Olivetti,\n",
       "         state: Washington, image: https://encrypted-tbn0.gstatic.com/images?q=tbn:ANd9GcQMFk8UPoFyQC9HY5FW7QhW67Sl4JzEohq01weynVLO4fcpwF_gbAJ4G0GK9w&s, genres: R&B,\n",
       "         facebook: https://facebook.com/riccardo_olivetti/tag/categories/list, seeking_venue: False,\n",
       "         seeking_description: Stand-alone 4thgeneration groupware. Window majority blood each open reach fly. ,\n",
       " <Artist ID: 12, name: 斎藤 稔, city: 斎藤 稔,\n",
       "         state: Louisiana, image: https://encrypted-tbn0.gstatic.com/images?q=tbn:ANd9GcQ9qLe4F55H5DdkyDBDku_P9K558wYLNbyYeZEw_vxGJlJsvnaPo6kqkMEsdr4&s, genres: R&B,\n",
       "         facebook: https://facebook.com/斎藤_稔/posts, seeking_venue: True,\n",
       "         seeking_description: Cross-group client-driven adapter. Without exactly leg edge. ,\n",
       " <Artist ID: 13, name: Jeanette Moran, city: Jeanette Moran,\n",
       "         state: Kansas, image: https://encrypted-tbn0.gstatic.com/images?q=tbn:ANd9GcQteqWJBnGwJzAvfQ5-UMWEAQ1UjtYeCoUU33b8ut_WAtNnIm8FzwIEtMTXbw&s, genres: Heavy Metal,\n",
       "         facebook: https://facebook.com/jeanette_moran/blog, seeking_venue: True,\n",
       "         seeking_description: Expanded 24hour Graphic Interface. Right community pressure test memory itself thought mouth. ,\n",
       " <Artist ID: 14, name: 近藤 幹, city: 近藤 幹,\n",
       "         state: Wisconsin, image: https://encrypted-tbn0.gstatic.com/images?q=tbn:ANd9GcSqSV6WmxQ9F0OylaYr0D3GQfkdhOdtkkENQD0BwSF_3e23lB-q4hVdPR4hz6Q&s, genres: Reggae,\n",
       "         facebook: https://facebook.com/近藤_幹/main, seeking_venue: True,\n",
       "         seeking_description: Multi-lateral actuating workforce. Little deep quickly task far. ,\n",
       " <Artist ID: 15, name: Sig.ra Liana Ginese, city: Sig.ra Liana Ginese,\n",
       "         state: California, image: https://encrypted-tbn0.gstatic.com/images?q=tbn:ANd9GcRunkop8-efb0FjjOP0rxf00pa4aV22Aw7bH0naHMfO0S4DVkhaNaUZO1rVZQ&s, genres: Country,\n",
       "         facebook: https://facebook.com/sig.ra_liana_ginese/category/tags/blog, seeking_venue: False,\n",
       "         seeking_description: Down-sized scalable policy. Bed for if require visit. ,\n",
       " <Artist ID: 16, name: Dott. Romeo Scarpa, city: Dott. Romeo Scarpa,\n",
       "         state: South Carolina, image: https://encrypted-tbn0.gstatic.com/images?q=tbn:ANd9GcSByDK9OSYc9Alk07Ry8l_YBKbeCFG9evVXw3OQfylJ8gnJM-JpECMWoeNBm9I&s, genres: Other,\n",
       "         facebook: https://facebook.com/dott._romeo_scarpa/categories/tags, seeking_venue: True,\n",
       "         seeking_description: Object-based maximized open system. Offer others process avoid network science experience. ,\n",
       " <Artist ID: 17, name: Kyle Young, city: Kyle Young,\n",
       "         state: Georgia, image: https://encrypted-tbn0.gstatic.com/images?q=tbn:ANd9GcTfvEZYM25Z52MZii-qQzJ1jpMCUumBGM3cOLNqYSvnNnYp1blUqiWSr8_oyw&s, genres: Rock n Roll,\n",
       "         facebook: https://facebook.com/kyle_young/wp-content, seeking_venue: True,\n",
       "         seeking_description: Virtual bifurcated policy. Nation coach plant writer ago church. ,\n",
       " <Artist ID: 18, name: Amy Acevedo, city: Amy Acevedo,\n",
       "         state: Illinois, image: https://encrypted-tbn0.gstatic.com/images?q=tbn:ANd9GcTFHVV4d9ICXb9KbxbuC41JZci3Jd6rBblbEy5IecDr41xcwNM_iu_q6_2VTA&s, genres: Classical,\n",
       "         facebook: https://facebook.com/amy_acevedo/categories/category/wp-content, seeking_venue: False,\n",
       "         seeking_description: Cross-platform maximized projection. Question write population religious. ,\n",
       " <Artist ID: 19, name: Madison Cervantes, city: Madison Cervantes,\n",
       "         state: South Carolina, image: https://encrypted-tbn0.gstatic.com/images?q=tbn:ANd9GcSV8Is40mH5ntUgFktGjSI-p8LeQTZ4J2aWd506pRak4PG_XswA6xNSw4QVvzg&s, genres: Country,\n",
       "         facebook: https://facebook.com/madison_cervantes/search/categories, seeking_venue: False,\n",
       "         seeking_description: Ergonomic cohesive ability. Save step happy improve suggest. ,\n",
       " <Artist ID: 20, name: Kevin Hicks, city: Kevin Hicks,\n",
       "         state: Utah, image: https://encrypted-tbn0.gstatic.com/images?q=tbn:ANd9GcTi3rcQ_imT7av3SRUdXuKMyAzz4eoN6PZCHRTeR49tCNHATWRpVT-no_OAfQ&s, genres: R&B,\n",
       "         facebook: https://facebook.com/kevin_hicks/list/categories, seeking_venue: False,\n",
       "         seeking_description: Multi-layered multimedia Graphical User Interface. Interview condition still part available hold state. ,\n",
       " <Artist ID: 21, name: Ramona Lancisi, city: Ramona Lancisi,\n",
       "         state: Rhode Island, image: https://encrypted-tbn0.gstatic.com/images?q=tbn:ANd9GcRxQuXMoBwnSFZIvYcSfCmcx_dc3KZ-SjRcERCT4qzL4uZU06Z3il7SaSr0gA&s, genres: Soul,\n",
       "         facebook: https://facebook.com/ramona_lancisi/posts/app, seeking_venue: True,\n",
       "         seeking_description: Stand-alone heuristic standardization. Eight far new important keep difficult. ,\n",
       " <Artist ID: 22, name: Sig. Daniele Piacentini, city: Sig. Daniele Piacentini,\n",
       "         state: Ohio, image: https://encrypted-tbn0.gstatic.com/images?q=tbn:ANd9GcQK20xSW86-SyOv2q-6vOvZBsegZzxrx8ez3Yi2IVNJopMoY-Fc9GFD6UN25A&s, genres: Funk,\n",
       "         facebook: https://facebook.com/sig._daniele_piacentini/blog, seeking_venue: False,\n",
       "         seeking_description: Organized neutral neural-net. Sea lawyer light reduce chance response tend. ,\n",
       " <Artist ID: 23, name: Nathaniel Castaneda, city: Nathaniel Castaneda,\n",
       "         state: Illinois, image: https://encrypted-tbn0.gstatic.com/images?q=tbn:ANd9GcRM1hMEvk5IOF6obu-MJwAvdDVbbNKiDTSIOUk-l2MI7bLET2HgS3tITW3ZOg&s, genres: R&B,\n",
       "         facebook: https://facebook.com/nathaniel_castaneda/search/wp-content/main, seeking_venue: True,\n",
       "         seeking_description: Virtual asymmetric access. Any picture focus campaign here experience box. ,\n",
       " <Artist ID: 24, name: 渡辺 治, city: 渡辺 治,\n",
       "         state: Illinois, image: https://encrypted-tbn0.gstatic.com/images?q=tbn:ANd9GcT_M-ZkHrdCGGyF4tghHO6PEaQpGUof0ujWFBh2ahOy50urqIL1PgOym4Cf5A&s, genres: Folk,\n",
       "         facebook: https://facebook.com/渡辺_治/main/main, seeking_venue: False,\n",
       "         seeking_description: Profit-focused 24hour website. Never day almost. ,\n",
       " <Artist ID: 25, name: Dr. Eugene Johnson DDS, city: Dr. Eugene Johnson DDS,\n",
       "         state: Kansas, image: https://encrypted-tbn0.gstatic.com/images?q=tbn:ANd9GcQPTDPw7QQFH3U_92Ntn5lypzLQVZZqTu2no-DQF-7gvhcPIZeG2EC0pbwKHg&s, genres: Musical Theatre,\n",
       "         facebook: https://facebook.com/dr._eugene_johnson_dds/categories/list, seeking_venue: True,\n",
       "         seeking_description: Profit-focused modular website. Big popular memory great himself two. ,\n",
       " <Artist ID: 26, name: 小林 英樹, city: 小林 英樹,\n",
       "         state: Montana, image: https://encrypted-tbn0.gstatic.com/images?q=tbn:ANd9GcRId8tsTsdqJsuupBIYibyFDfba_fm1Pd2KjDf8CBrVnZiQetOQBGk6I9gYivE&s, genres: Reggae,\n",
       "         facebook: https://facebook.com/小林_英樹/explore, seeking_venue: False,\n",
       "         seeking_description: Up-sized methodical firmware. Building so require beautiful just common. ,\n",
       " <Artist ID: 27, name: Shannon Brandt, city: Shannon Brandt,\n",
       "         state: Georgia, image: https://encrypted-tbn0.gstatic.com/images?q=tbn:ANd9GcToo6TT2obR7CuwdlZU0RnckEuUlFYSgkZ9vBXM7aiCc8-2LZqMyI-nXWoE-g&s, genres: Heavy Metal,\n",
       "         facebook: https://facebook.com/shannon_brandt/tags/posts/list, seeking_venue: True,\n",
       "         seeking_description: Optimized bi-directional frame. Admit by article quite south own government. ,\n",
       " <Artist ID: 28, name: Costanzo Maderna, city: Costanzo Maderna,\n",
       "         state: Virginia, image: https://encrypted-tbn0.gstatic.com/images?q=tbn:ANd9GcTDCc32yG56YqP038TAExNKKb2zVrxm0dohsD95tCuMFufFa5j6wxXcCMR7xgA&s, genres: Instrumental,\n",
       "         facebook: https://facebook.com/costanzo_maderna/category/posts, seeking_venue: True,\n",
       "         seeking_description: Visionary scalable secured line. Art note read record ball exactly. ,\n",
       " <Artist ID: 29, name: 山本 香織, city: 山本 香織,\n",
       "         state: Wyoming, image: https://encrypted-tbn0.gstatic.com/images?q=tbn:ANd9GcTdG_CNoK63JWCCt39FtCUsf53IXQeDcxgS1qWXz4Sjcw5oJpCcq030G0f2Z0k&s, genres: Folk,\n",
       "         facebook: https://facebook.com/山本_香織/list/tags, seeking_venue: False,\n",
       "         seeking_description: Down-sized uniform knowledge user. Million class ask body industry. ,\n",
       " <Artist ID: 30, name: 伊藤 裕美子, city: 伊藤 裕美子,\n",
       "         state: Alaska, image: https://encrypted-tbn0.gstatic.com/images?q=tbn:ANd9GcTF9B50x13snwPDTaSm_EL02zwyrd7L9hIUwcV1KSykXmUbCriQ7RgZxwdfWw&s, genres: Country,\n",
       "         facebook: https://facebook.com/伊藤_裕美子/tag, seeking_venue: True,\n",
       "         seeking_description: Object-based interactive attitude. Again save down would hundred nothing bar condition. ,\n",
       " <Artist ID: 31, name: Fredo Oscuro, city: Fredo Oscuro,\n",
       "         state: Mississippi, image: https://encrypted-tbn0.gstatic.com/images?q=tbn:ANd9GcQMFk8UPoFyQC9HY5FW7QhW67Sl4JzEohq01weynVLO4fcpwF_gbAJ4G0GK9w&s, genres: R&B,\n",
       "         facebook: https://facebook.com/fredo_oscuro/category/categories, seeking_venue: False,\n",
       "         seeking_description: De-engineered content-based support. Hair fire himself else these year. ,\n",
       " <Artist ID: 32, name: Monica Andrews, city: Monica Andrews,\n",
       "         state: Mississippi, image: https://encrypted-tbn0.gstatic.com/images?q=tbn:ANd9GcQ9qLe4F55H5DdkyDBDku_P9K558wYLNbyYeZEw_vxGJlJsvnaPo6kqkMEsdr4&s, genres: Jazz,\n",
       "         facebook: https://facebook.com/monica_andrews/categories/tag, seeking_venue: True,\n",
       "         seeking_description: User-friendly non-volatile middleware. Run power business spring smile next until. ,\n",
       " <Artist ID: 33, name: Federico Bragadin, city: Federico Bragadin,\n",
       "         state: Mississippi, image: https://encrypted-tbn0.gstatic.com/images?q=tbn:ANd9GcQteqWJBnGwJzAvfQ5-UMWEAQ1UjtYeCoUU33b8ut_WAtNnIm8FzwIEtMTXbw&s, genres: Soul,\n",
       "         facebook: https://facebook.com/federico_bragadin/main/tags, seeking_venue: False,\n",
       "         seeking_description: Innovative multimedia firmware. Likely wait leader view government behavior two. ,\n",
       " <Artist ID: 34, name: Emily Boyd, city: Emily Boyd,\n",
       "         state: Delaware, image: https://encrypted-tbn0.gstatic.com/images?q=tbn:ANd9GcSqSV6WmxQ9F0OylaYr0D3GQfkdhOdtkkENQD0BwSF_3e23lB-q4hVdPR4hz6Q&s, genres: Electronic,\n",
       "         facebook: https://facebook.com/emily_boyd/main/wp-content, seeking_venue: False,\n",
       "         seeking_description: Ameliorated uniform structure. Consider member campaign trial general. ,\n",
       " <Artist ID: 35, name: Giovanna Malipiero, city: Giovanna Malipiero,\n",
       "         state: South Carolina, image: https://encrypted-tbn0.gstatic.com/images?q=tbn:ANd9GcRunkop8-efb0FjjOP0rxf00pa4aV22Aw7bH0naHMfO0S4DVkhaNaUZO1rVZQ&s, genres: Heavy Metal,\n",
       "         facebook: https://facebook.com/giovanna_malipiero/tag/list, seeking_venue: False,\n",
       "         seeking_description: Persevering executive installation. Owner measure because then. ,\n",
       " <Artist ID: 36, name: Kelly Peterson, city: Kelly Peterson,\n",
       "         state: Nebraska, image: https://encrypted-tbn0.gstatic.com/images?q=tbn:ANd9GcSByDK9OSYc9Alk07Ry8l_YBKbeCFG9evVXw3OQfylJ8gnJM-JpECMWoeNBm9I&s, genres: Blues,\n",
       "         facebook: https://facebook.com/kelly_peterson/app/category, seeking_venue: False,\n",
       "         seeking_description: Quality-focused global challenge. Maybe individual war grow. ,\n",
       " <Artist ID: 37, name: 藤原 加奈, city: 藤原 加奈,\n",
       "         state: South Carolina, image: https://encrypted-tbn0.gstatic.com/images?q=tbn:ANd9GcTfvEZYM25Z52MZii-qQzJ1jpMCUumBGM3cOLNqYSvnNnYp1blUqiWSr8_oyw&s, genres: Country,\n",
       "         facebook: https://facebook.com/藤原_加奈/explore/tags/blog, seeking_venue: True,\n",
       "         seeking_description: Devolved directional strategy. Believe argue behavior. ,\n",
       " <Artist ID: 38, name: Deborah Larson, city: Deborah Larson,\n",
       "         state: Virginia, image: https://encrypted-tbn0.gstatic.com/images?q=tbn:ANd9GcTFHVV4d9ICXb9KbxbuC41JZci3Jd6rBblbEy5IecDr41xcwNM_iu_q6_2VTA&s, genres: Hip-Hop,\n",
       "         facebook: https://facebook.com/deborah_larson/wp-content/main, seeking_venue: False,\n",
       "         seeking_description: Automated secondary parallelism. Both six up lead toward. ,\n",
       " <Artist ID: 39, name: 山崎 翔太, city: 山崎 翔太,\n",
       "         state: Texas, image: https://encrypted-tbn0.gstatic.com/images?q=tbn:ANd9GcSV8Is40mH5ntUgFktGjSI-p8LeQTZ4J2aWd506pRak4PG_XswA6xNSw4QVvzg&s, genres: Reggae,\n",
       "         facebook: https://facebook.com/山崎_翔太/wp-content/category, seeking_venue: True,\n",
       "         seeking_description: Pre-emptive clear-thinking product. Arrive thus hotel fact. ,\n",
       " <Artist ID: 40, name: Mercedes Ross, city: Mercedes Ross,\n",
       "         state: Mississippi, image: https://encrypted-tbn0.gstatic.com/images?q=tbn:ANd9GcTi3rcQ_imT7av3SRUdXuKMyAzz4eoN6PZCHRTeR49tCNHATWRpVT-no_OAfQ&s, genres: Electronic,\n",
       "         facebook: https://facebook.com/mercedes_ross/tags/search/main, seeking_venue: True,\n",
       "         seeking_description: Cross-platform intermediate model. Voice better get. ,\n",
       " <Artist ID: 41, name: Telemaco Magnani, city: Telemaco Magnani,\n",
       "         state: Missouri, image: https://encrypted-tbn0.gstatic.com/images?q=tbn:ANd9GcRxQuXMoBwnSFZIvYcSfCmcx_dc3KZ-SjRcERCT4qzL4uZU06Z3il7SaSr0gA&s, genres: Blues,\n",
       "         facebook: https://facebook.com/telemaco_magnani/blog/main, seeking_venue: True,\n",
       "         seeking_description: Networked analyzing help-desk. Top word perhaps sit phone. ,\n",
       " <Artist ID: 42, name: Sig.ra Bianca Vecoli, city: Sig.ra Bianca Vecoli,\n",
       "         state: New Jersey, image: https://encrypted-tbn0.gstatic.com/images?q=tbn:ANd9GcQK20xSW86-SyOv2q-6vOvZBsegZzxrx8ez3Yi2IVNJopMoY-Fc9GFD6UN25A&s, genres: Country,\n",
       "         facebook: https://facebook.com/sig.ra_bianca_vecoli/explore/explore/tags, seeking_venue: False,\n",
       "         seeking_description: Down-sized composite adapter. Professional sign style yeah back. ,\n",
       " <Artist ID: 43, name: 佐々木 花子, city: 佐々木 花子,\n",
       "         state: Kansas, image: https://encrypted-tbn0.gstatic.com/images?q=tbn:ANd9GcRM1hMEvk5IOF6obu-MJwAvdDVbbNKiDTSIOUk-l2MI7bLET2HgS3tITW3ZOg&s, genres: Folk,\n",
       "         facebook: https://facebook.com/佐々木_花子/tags/category, seeking_venue: True,\n",
       "         seeking_description: Focused cohesive infrastructure. Ability get note simple. ,\n",
       " <Artist ID: 44, name: 岡本 千代, city: 岡本 千代,\n",
       "         state: Minnesota, image: https://encrypted-tbn0.gstatic.com/images?q=tbn:ANd9GcT_M-ZkHrdCGGyF4tghHO6PEaQpGUof0ujWFBh2ahOy50urqIL1PgOym4Cf5A&s, genres: Soul,\n",
       "         facebook: https://facebook.com/岡本_千代/main, seeking_venue: False,\n",
       "         seeking_description: Self-enabling interactive analyzer. Lay page western this people. ,\n",
       " <Artist ID: 45, name: Arturo Giulietti, city: Arturo Giulietti,\n",
       "         state: Nebraska, image: https://encrypted-tbn0.gstatic.com/images?q=tbn:ANd9GcQPTDPw7QQFH3U_92Ntn5lypzLQVZZqTu2no-DQF-7gvhcPIZeG2EC0pbwKHg&s, genres: Reggae,\n",
       "         facebook: https://facebook.com/arturo_giulietti/wp-content, seeking_venue: False,\n",
       "         seeking_description: Versatile systemic interface. Bag front policy skin. ,\n",
       " <Artist ID: 46, name: Tami Miller, city: Tami Miller,\n",
       "         state: South Dakota, image: https://encrypted-tbn0.gstatic.com/images?q=tbn:ANd9GcRId8tsTsdqJsuupBIYibyFDfba_fm1Pd2KjDf8CBrVnZiQetOQBGk6I9gYivE&s, genres: Country,\n",
       "         facebook: https://facebook.com/tami_miller/tag/explore/category, seeking_venue: True,\n",
       "         seeking_description: Horizontal context-sensitive alliance. Seat under story data international natural customer school. ,\n",
       " <Artist ID: 47, name: 森 太郎, city: 森 太郎,\n",
       "         state: Nevada, image: https://encrypted-tbn0.gstatic.com/images?q=tbn:ANd9GcToo6TT2obR7CuwdlZU0RnckEuUlFYSgkZ9vBXM7aiCc8-2LZqMyI-nXWoE-g&s, genres: Blues,\n",
       "         facebook: https://facebook.com/森_太郎/app, seeking_venue: True,\n",
       "         seeking_description: Seamless intangible capability. Note history body effect. ,\n",
       " <Artist ID: 48, name: Teresa Solomon, city: Teresa Solomon,\n",
       "         state: Nebraska, image: https://encrypted-tbn0.gstatic.com/images?q=tbn:ANd9GcTDCc32yG56YqP038TAExNKKb2zVrxm0dohsD95tCuMFufFa5j6wxXcCMR7xgA&s, genres: Reggae,\n",
       "         facebook: https://facebook.com/teresa_solomon/app/list/wp-content, seeking_venue: False,\n",
       "         seeking_description: Reactive methodical strategy. Including pressure relationship while bring yes science. ,\n",
       " <Artist ID: 49, name: Enzio Cilibrasi, city: Enzio Cilibrasi,\n",
       "         state: North Dakota, image: https://encrypted-tbn0.gstatic.com/images?q=tbn:ANd9GcTdG_CNoK63JWCCt39FtCUsf53IXQeDcxgS1qWXz4Sjcw5oJpCcq030G0f2Z0k&s, genres: Other,\n",
       "         facebook: https://facebook.com/enzio_cilibrasi/search/wp-content, seeking_venue: False,\n",
       "         seeking_description: Expanded grid-enabled capacity. Painting economic billion level moment. ,\n",
       " <Artist ID: 50, name: 吉田 くみ子, city: 吉田 くみ子,\n",
       "         state: Arizona, image: https://encrypted-tbn0.gstatic.com/images?q=tbn:ANd9GcTF9B50x13snwPDTaSm_EL02zwyrd7L9hIUwcV1KSykXmUbCriQ7RgZxwdfWw&s, genres: Alternative,\n",
       "         facebook: https://facebook.com/吉田_くみ子/main, seeking_venue: True,\n",
       "         seeking_description: Profit-focused 5thgeneration info-mediaries. Cell why when draw child blood character. ,\n",
       " <Artist ID: 51, name: Giuliano Taccola, city: Giuliano Taccola,\n",
       "         state: Ohio, image: https://encrypted-tbn0.gstatic.com/images?q=tbn:ANd9GcQMFk8UPoFyQC9HY5FW7QhW67Sl4JzEohq01weynVLO4fcpwF_gbAJ4G0GK9w&s, genres: R&B,\n",
       "         facebook: https://facebook.com/giuliano_taccola/posts/list/category, seeking_venue: False,\n",
       "         seeking_description: Reverse-engineered 4thgeneration open architecture. Standard carry catch bit. ,\n",
       " <Artist ID: 52, name: Pierpaolo Buonauro, city: Pierpaolo Buonauro,\n",
       "         state: Pennsylvania, image: https://encrypted-tbn0.gstatic.com/images?q=tbn:ANd9GcQ9qLe4F55H5DdkyDBDku_P9K558wYLNbyYeZEw_vxGJlJsvnaPo6kqkMEsdr4&s, genres: Folk,\n",
       "         facebook: https://facebook.com/pierpaolo_buonauro/main, seeking_venue: False,\n",
       "         seeking_description: Multi-layered secondary data-warehouse. One much chair black. ,\n",
       " <Artist ID: 53, name: Melania Grimani-Campanella, city: Melania Grimani-Campanella,\n",
       "         state: Montana, image: https://encrypted-tbn0.gstatic.com/images?q=tbn:ANd9GcQteqWJBnGwJzAvfQ5-UMWEAQ1UjtYeCoUU33b8ut_WAtNnIm8FzwIEtMTXbw&s, genres: Heavy Metal,\n",
       "         facebook: https://facebook.com/melania_grimani-campanella/posts/explore/posts, seeking_venue: False,\n",
       "         seeking_description: Monitored attitude-oriented parallelism. Building though present dream property girl. ,\n",
       " <Artist ID: 54, name: 橋本 英樹, city: 橋本 英樹,\n",
       "         state: South Dakota, image: https://encrypted-tbn0.gstatic.com/images?q=tbn:ANd9GcSqSV6WmxQ9F0OylaYr0D3GQfkdhOdtkkENQD0BwSF_3e23lB-q4hVdPR4hz6Q&s, genres: Electronic,\n",
       "         facebook: https://facebook.com/橋本_英樹/tag/blog/explore, seeking_venue: True,\n",
       "         seeking_description: Visionary exuding access. Than TV determine industry. ,\n",
       " <Artist ID: 55, name: 山本 明美, city: 山本 明美,\n",
       "         state: Mississippi, image: https://encrypted-tbn0.gstatic.com/images?q=tbn:ANd9GcRunkop8-efb0FjjOP0rxf00pa4aV22Aw7bH0naHMfO0S4DVkhaNaUZO1rVZQ&s, genres: Folk,\n",
       "         facebook: https://facebook.com/山本_明美/list/explore, seeking_venue: False,\n",
       "         seeking_description: Down-sized actuating installation. Everybody voice soldier quite. ,\n",
       " <Artist ID: 56, name: 石川 明美, city: 石川 明美,\n",
       "         state: Minnesota, image: https://encrypted-tbn0.gstatic.com/images?q=tbn:ANd9GcSByDK9OSYc9Alk07Ry8l_YBKbeCFG9evVXw3OQfylJ8gnJM-JpECMWoeNBm9I&s, genres: Pop,\n",
       "         facebook: https://facebook.com/石川_明美/list/search/posts, seeking_venue: True,\n",
       "         seeking_description: Stand-alone client-driven instruction set. However nearly including rise. ,\n",
       " <Artist ID: 57, name: 小川 稔, city: 小川 稔,\n",
       "         state: Oregon, image: https://encrypted-tbn0.gstatic.com/images?q=tbn:ANd9GcTfvEZYM25Z52MZii-qQzJ1jpMCUumBGM3cOLNqYSvnNnYp1blUqiWSr8_oyw&s, genres: Rock n Roll,\n",
       "         facebook: https://facebook.com/小川_稔/app, seeking_venue: False,\n",
       "         seeking_description: Organic empowering project. Training share if nation both possible. ,\n",
       " <Artist ID: 58, name: 鈴木 明美, city: 鈴木 明美,\n",
       "         state: Ohio, image: https://encrypted-tbn0.gstatic.com/images?q=tbn:ANd9GcTFHVV4d9ICXb9KbxbuC41JZci3Jd6rBblbEy5IecDr41xcwNM_iu_q6_2VTA&s, genres: Punk,\n",
       "         facebook: https://facebook.com/鈴木_明美/wp-content/tag/main, seeking_venue: False,\n",
       "         seeking_description: Stand-alone web-enabled challenge. Beat top bag either few evening usually. ,\n",
       " <Artist ID: 59, name: 井上 幹, city: 井上 幹,\n",
       "         state: Idaho, image: https://encrypted-tbn0.gstatic.com/images?q=tbn:ANd9GcSV8Is40mH5ntUgFktGjSI-p8LeQTZ4J2aWd506pRak4PG_XswA6xNSw4QVvzg&s, genres: Country,\n",
       "         facebook: https://facebook.com/井上_幹/wp-content/wp-content, seeking_venue: True,\n",
       "         seeking_description: Function-based bottom-line core. Center seven simply mission concern. ,\n",
       " <Artist ID: 60, name: Dott. Ugolino Boccherini, city: Dott. Ugolino Boccherini,\n",
       "         state: North Carolina, image: https://encrypted-tbn0.gstatic.com/images?q=tbn:ANd9GcTi3rcQ_imT7av3SRUdXuKMyAzz4eoN6PZCHRTeR49tCNHATWRpVT-no_OAfQ&s, genres: Alternative,\n",
       "         facebook: https://facebook.com/dott._ugolino_boccherini/wp-content/blog, seeking_venue: True,\n",
       "         seeking_description: Function-based attitude-oriented adapter. Major home think number staff generation campaign. ,\n",
       " <Artist ID: 61, name: Michael Sanchez, city: Michael Sanchez,\n",
       "         state: New Jersey, image: https://encrypted-tbn0.gstatic.com/images?q=tbn:ANd9GcRxQuXMoBwnSFZIvYcSfCmcx_dc3KZ-SjRcERCT4qzL4uZU06Z3il7SaSr0gA&s, genres: Folk,\n",
       "         facebook: https://facebook.com/michael_sanchez/search/app/categories, seeking_venue: True,\n",
       "         seeking_description: De-engineered contextually-based throughput. Three city just weight share. ,\n",
       " <Artist ID: 62, name: Ryan Patterson, city: Ryan Patterson,\n",
       "         state: Kansas, image: https://encrypted-tbn0.gstatic.com/images?q=tbn:ANd9GcQK20xSW86-SyOv2q-6vOvZBsegZzxrx8ez3Yi2IVNJopMoY-Fc9GFD6UN25A&s, genres: Electronic,\n",
       "         facebook: https://facebook.com/ryan_patterson/categories, seeking_venue: True,\n",
       "         seeking_description: Implemented reciprocal database. Enjoy be require need. ,\n",
       " <Artist ID: 63, name: Mirko Bova-Giradello, city: Mirko Bova-Giradello,\n",
       "         state: Texas, image: https://encrypted-tbn0.gstatic.com/images?q=tbn:ANd9GcRM1hMEvk5IOF6obu-MJwAvdDVbbNKiDTSIOUk-l2MI7bLET2HgS3tITW3ZOg&s, genres: Folk,\n",
       "         facebook: https://facebook.com/mirko_bova-giradello/main/explore, seeking_venue: True,\n",
       "         seeking_description: Organized foreground moderator. Something writer admit yes above interview carry. ,\n",
       " <Artist ID: 64, name: 林 さゆり, city: 林 さゆり,\n",
       "         state: North Carolina, image: https://encrypted-tbn0.gstatic.com/images?q=tbn:ANd9GcT_M-ZkHrdCGGyF4tghHO6PEaQpGUof0ujWFBh2ahOy50urqIL1PgOym4Cf5A&s, genres: Funk,\n",
       "         facebook: https://facebook.com/林_さゆり/main, seeking_venue: True,\n",
       "         seeking_description: Object-based value-added conglomeration. Give many also week. ,\n",
       " <Artist ID: 65, name: 中村 結衣, city: 中村 結衣,\n",
       "         state: Iowa, image: https://encrypted-tbn0.gstatic.com/images?q=tbn:ANd9GcQPTDPw7QQFH3U_92Ntn5lypzLQVZZqTu2no-DQF-7gvhcPIZeG2EC0pbwKHg&s, genres: Electronic,\n",
       "         facebook: https://facebook.com/中村_結衣/category, seeking_venue: False,\n",
       "         seeking_description: Face-to-face zero tolerance encryption. Approach kind woman toward. ,\n",
       " <Artist ID: 66, name: 森 淳, city: 森 淳,\n",
       "         state: Delaware, image: https://encrypted-tbn0.gstatic.com/images?q=tbn:ANd9GcRId8tsTsdqJsuupBIYibyFDfba_fm1Pd2KjDf8CBrVnZiQetOQBGk6I9gYivE&s, genres: Hip-Hop,\n",
       "         facebook: https://facebook.com/森_淳/tag/app/posts, seeking_venue: True,\n",
       "         seeking_description: Vision-oriented needs-based adapter. Trouble need bed. ,\n",
       " <Artist ID: 67, name: 中島 知実, city: 中島 知実,\n",
       "         state: Rhode Island, image: https://encrypted-tbn0.gstatic.com/images?q=tbn:ANd9GcToo6TT2obR7CuwdlZU0RnckEuUlFYSgkZ9vBXM7aiCc8-2LZqMyI-nXWoE-g&s, genres: Reggae,\n",
       "         facebook: https://facebook.com/中島_知実/tags/tags, seeking_venue: False,\n",
       "         seeking_description: Secured asymmetric infrastructure. Defense film real campaign foreign amount nature. ,\n",
       " <Artist ID: 68, name: Melissa Price, city: Melissa Price,\n",
       "         state: New York, image: https://encrypted-tbn0.gstatic.com/images?q=tbn:ANd9GcTDCc32yG56YqP038TAExNKKb2zVrxm0dohsD95tCuMFufFa5j6wxXcCMR7xgA&s, genres: Alternative,\n",
       "         facebook: https://facebook.com/melissa_price/tags, seeking_venue: True,\n",
       "         seeking_description: Organized grid-enabled website. Play under join better opportunity general. ,\n",
       " <Artist ID: 69, name: Dott. Ottavio Errigo, city: Dott. Ottavio Errigo,\n",
       "         state: Pennsylvania, image: https://encrypted-tbn0.gstatic.com/images?q=tbn:ANd9GcTdG_CNoK63JWCCt39FtCUsf53IXQeDcxgS1qWXz4Sjcw5oJpCcq030G0f2Z0k&s, genres: Jazz,\n",
       "         facebook: https://facebook.com/dott._ottavio_errigo/search/wp-content/tag, seeking_venue: False,\n",
       "         seeking_description: Open-architected impactful utilization. Wonder pretty certainly medical close financial. ,\n",
       " <Artist ID: 70, name: 渡辺 里佳, city: 渡辺 里佳,\n",
       "         state: Tennessee, image: https://encrypted-tbn0.gstatic.com/images?q=tbn:ANd9GcTF9B50x13snwPDTaSm_EL02zwyrd7L9hIUwcV1KSykXmUbCriQ7RgZxwdfWw&s, genres: Funk,\n",
       "         facebook: https://facebook.com/渡辺_里佳/wp-content/app/explore, seeking_venue: True,\n",
       "         seeking_description: Versatile contextually-based task-force. Anything foot for occur six American value. ,\n",
       " <Artist ID: 71, name: 藤田 学, city: 藤田 学,\n",
       "         state: Idaho, image: https://encrypted-tbn0.gstatic.com/images?q=tbn:ANd9GcQMFk8UPoFyQC9HY5FW7QhW67Sl4JzEohq01weynVLO4fcpwF_gbAJ4G0GK9w&s, genres: Country,\n",
       "         facebook: https://facebook.com/藤田_学/list/main, seeking_venue: False,\n",
       "         seeking_description: Distributed client-server core. American during even agent draw six impact. ,\n",
       " <Artist ID: 72, name: 福田 洋介, city: 福田 洋介,\n",
       "         state: Tennessee, image: https://encrypted-tbn0.gstatic.com/images?q=tbn:ANd9GcQ9qLe4F55H5DdkyDBDku_P9K558wYLNbyYeZEw_vxGJlJsvnaPo6kqkMEsdr4&s, genres: Blues,\n",
       "         facebook: https://facebook.com/福田_洋介/tags/search, seeking_venue: True,\n",
       "         seeking_description: Total local software. Bag network hit body anyone goal. ,\n",
       " <Artist ID: 73, name: Jeremy Lucas, city: Jeremy Lucas,\n",
       "         state: Arizona, image: https://encrypted-tbn0.gstatic.com/images?q=tbn:ANd9GcQteqWJBnGwJzAvfQ5-UMWEAQ1UjtYeCoUU33b8ut_WAtNnIm8FzwIEtMTXbw&s, genres: Funk,\n",
       "         facebook: https://facebook.com/jeremy_lucas/list/app, seeking_venue: True,\n",
       "         seeking_description: Networked disintermediate flexibility. Set if sometimes. ,\n",
       " <Artist ID: 74, name: 石井 翼, city: 石井 翼,\n",
       "         state: Virginia, image: https://encrypted-tbn0.gstatic.com/images?q=tbn:ANd9GcSqSV6WmxQ9F0OylaYr0D3GQfkdhOdtkkENQD0BwSF_3e23lB-q4hVdPR4hz6Q&s, genres: Funk,\n",
       "         facebook: https://facebook.com/石井_翼/categories, seeking_venue: True,\n",
       "         seeking_description: Configurable didactic matrices. City traditional picture free cup his official. ,\n",
       " <Artist ID: 75, name: Sig. Delfino Mascheroni, city: Sig. Delfino Mascheroni,\n",
       "         state: Montana, image: https://encrypted-tbn0.gstatic.com/images?q=tbn:ANd9GcRunkop8-efb0FjjOP0rxf00pa4aV22Aw7bH0naHMfO0S4DVkhaNaUZO1rVZQ&s, genres: Funk,\n",
       "         facebook: https://facebook.com/sig._delfino_mascheroni/app/categories, seeking_venue: False,\n",
       "         seeking_description: Public-key object-oriented moderator. Bit half seem people executive live anyone. ,\n",
       " <Artist ID: 76, name: Claudio Argurio, city: Claudio Argurio,\n",
       "         state: Georgia, image: https://encrypted-tbn0.gstatic.com/images?q=tbn:ANd9GcSByDK9OSYc9Alk07Ry8l_YBKbeCFG9evVXw3OQfylJ8gnJM-JpECMWoeNBm9I&s, genres: Heavy Metal,\n",
       "         facebook: https://facebook.com/claudio_argurio/tags/category, seeking_venue: True,\n",
       "         seeking_description: Monitored holistic conglomeration. Face herself air. ,\n",
       " <Artist ID: 77, name: 井上 あすか, city: 井上 あすか,\n",
       "         state: Utah, image: https://encrypted-tbn0.gstatic.com/images?q=tbn:ANd9GcTfvEZYM25Z52MZii-qQzJ1jpMCUumBGM3cOLNqYSvnNnYp1blUqiWSr8_oyw&s, genres: Electronic,\n",
       "         facebook: https://facebook.com/井上_あすか/wp-content/search, seeking_venue: False,\n",
       "         seeking_description: Advanced interactive extranet. During imagine speech white yes sit. ,\n",
       " <Artist ID: 78, name: Megan Kerr, city: Megan Kerr,\n",
       "         state: Connecticut, image: https://encrypted-tbn0.gstatic.com/images?q=tbn:ANd9GcTFHVV4d9ICXb9KbxbuC41JZci3Jd6rBblbEy5IecDr41xcwNM_iu_q6_2VTA&s, genres: Hip-Hop,\n",
       "         facebook: https://facebook.com/megan_kerr/main, seeking_venue: False,\n",
       "         seeking_description: Focused mission-critical throughput. Figure cost floor race. ,\n",
       " <Artist ID: 79, name: Rhonda Griffin, city: Rhonda Griffin,\n",
       "         state: Rhode Island, image: https://encrypted-tbn0.gstatic.com/images?q=tbn:ANd9GcSV8Is40mH5ntUgFktGjSI-p8LeQTZ4J2aWd506pRak4PG_XswA6xNSw4QVvzg&s, genres: Instrumental,\n",
       "         facebook: https://facebook.com/rhonda_griffin/blog/wp-content/explore, seeking_venue: True,\n",
       "         seeking_description: Robust holistic frame. Nor but perform resource. ,\n",
       " <Artist ID: 80, name: 高橋 亮介, city: 高橋 亮介,\n",
       "         state: Arizona, image: https://encrypted-tbn0.gstatic.com/images?q=tbn:ANd9GcTi3rcQ_imT7av3SRUdXuKMyAzz4eoN6PZCHRTeR49tCNHATWRpVT-no_OAfQ&s, genres: Rock n Roll,\n",
       "         facebook: https://facebook.com/高橋_亮介/explore, seeking_venue: True,\n",
       "         seeking_description: User-friendly upward-trending analyzer. Pattern personal resource will. ]"
      ]
     },
     "execution_count": 202,
     "metadata": {},
     "output_type": "execute_result"
    }
   ],
   "source": [
    " Artist.query.all()"
   ]
  },
  {
   "cell_type": "code",
   "execution_count": 159,
   "id": "republican-concert",
   "metadata": {},
   "outputs": [
    {
     "data": {
      "text/plain": [
       "(1)"
      ]
     },
     "execution_count": 159,
     "metadata": {},
     "output_type": "execute_result"
    }
   ],
   "source": [
    "Venue.query.with_entities(Artist.id).all()[0]"
   ]
  },
  {
   "cell_type": "code",
   "execution_count": 162,
   "id": "flexible-creation",
   "metadata": {},
   "outputs": [
    {
     "ename": "AttributeError",
     "evalue": "type object 'Venue' has no attribute 'options'",
     "output_type": "error",
     "traceback": [
      "\u001b[1;31m---------------------------------------------------------------------------\u001b[0m",
      "\u001b[1;31mAttributeError\u001b[0m                            Traceback (most recent call last)",
      "\u001b[1;32m<ipython-input-162-7875a5d86d5f>\u001b[0m in \u001b[0;36m<module>\u001b[1;34m\u001b[0m\n\u001b[1;32m----> 1\u001b[1;33m \u001b[0mVenue\u001b[0m\u001b[1;33m.\u001b[0m\u001b[0moptions\u001b[0m\u001b[1;33m(\u001b[0m\u001b[0mload_only\u001b[0m\u001b[1;33m(\u001b[0m \u001b[1;34m'id'\u001b[0m\u001b[1;33m)\u001b[0m\u001b[1;33m)\u001b[0m\u001b[1;33m.\u001b[0m\u001b[0mall\u001b[0m\u001b[1;33m(\u001b[0m\u001b[1;33m)\u001b[0m\u001b[1;33m\u001b[0m\u001b[1;33m\u001b[0m\u001b[0m\n\u001b[0m",
      "\u001b[1;31mAttributeError\u001b[0m: type object 'Venue' has no attribute 'options'"
     ]
    }
   ],
   "source": [
    "Venue.options(load_only( 'id')).all()"
   ]
  },
  {
   "cell_type": "code",
   "execution_count": 23,
   "id": "wireless-syndrome",
   "metadata": {},
   "outputs": [
    {
     "ename": "AttributeError",
     "evalue": "'Table' object has no attribute 'query'",
     "output_type": "error",
     "traceback": [
      "\u001b[1;31m---------------------------------------------------------------------------\u001b[0m",
      "\u001b[1;31mAttributeError\u001b[0m                            Traceback (most recent call last)",
      "\u001b[1;32m<ipython-input-23-ec2452055de3>\u001b[0m in \u001b[0;36m<module>\u001b[1;34m\u001b[0m\n\u001b[1;32m----> 1\u001b[1;33m \u001b[0mareas\u001b[0m \u001b[1;33m=\u001b[0m \u001b[0mVenue\u001b[0m\u001b[1;33m.\u001b[0m\u001b[0mquery\u001b[0m\u001b[1;33m.\u001b[0m\u001b[0mwith_entities\u001b[0m\u001b[1;33m(\u001b[0m\u001b[0mfunc\u001b[0m\u001b[1;33m.\u001b[0m\u001b[0mcount\u001b[0m\u001b[1;33m(\u001b[0m\u001b[0mVenue\u001b[0m\u001b[1;33m.\u001b[0m\u001b[0mid\u001b[0m\u001b[1;33m)\u001b[0m\u001b[1;33m,\u001b[0m \u001b[0mVenue\u001b[0m\u001b[1;33m.\u001b[0m\u001b[0mcity\u001b[0m\u001b[1;33m,\u001b[0m \u001b[0mVenue\u001b[0m\u001b[1;33m.\u001b[0m\u001b[0mstate\u001b[0m\u001b[1;33m)\u001b[0m\u001b[1;33m.\u001b[0m\u001b[0mgroup_by\u001b[0m\u001b[1;33m(\u001b[0m\u001b[0mVenue\u001b[0m\u001b[1;33m.\u001b[0m\u001b[0mcity\u001b[0m\u001b[1;33m,\u001b[0m \u001b[0mVenue\u001b[0m\u001b[1;33m.\u001b[0m\u001b[0mstate\u001b[0m\u001b[1;33m)\u001b[0m\u001b[1;33m.\u001b[0m\u001b[0mall\u001b[0m\u001b[1;33m(\u001b[0m\u001b[1;33m)\u001b[0m\u001b[1;33m\u001b[0m\u001b[1;33m\u001b[0m\u001b[0m\n\u001b[0m",
      "\u001b[1;31mAttributeError\u001b[0m: 'Table' object has no attribute 'query'"
     ]
    }
   ],
   "source": [
    "areas = Venue.query.with_entities(func.count(Venue.id), Venue.city, Venue.state).group_by(Venue.city, Venue.state).all()"
   ]
  },
  {
   "cell_type": "code",
   "execution_count": 154,
   "id": "balanced-province",
   "metadata": {},
   "outputs": [
    {
     "ename": "AttributeError",
     "evalue": "'BaseQuery' object has no attribute 'select'",
     "output_type": "error",
     "traceback": [
      "\u001b[1;31m---------------------------------------------------------------------------\u001b[0m",
      "\u001b[1;31mAttributeError\u001b[0m                            Traceback (most recent call last)",
      "\u001b[1;32m<ipython-input-154-07a038285943>\u001b[0m in \u001b[0;36m<module>\u001b[1;34m\u001b[0m\n\u001b[1;32m----> 1\u001b[1;33m \u001b[0mVenue\u001b[0m\u001b[1;33m.\u001b[0m\u001b[0mquery\u001b[0m\u001b[1;33m.\u001b[0m\u001b[0mselect\u001b[0m\u001b[1;33m(\u001b[0m\u001b[1;33m)\u001b[0m\u001b[1;33m.\u001b[0m\u001b[0mall\u001b[0m\u001b[1;33m(\u001b[0m\u001b[1;33m)\u001b[0m\u001b[1;33m\u001b[0m\u001b[1;33m\u001b[0m\u001b[0m\n\u001b[0m",
      "\u001b[1;31mAttributeError\u001b[0m: 'BaseQuery' object has no attribute 'select'"
     ]
    }
   ],
   "source": [
    "Venue.query.select().all()"
   ]
  },
  {
   "cell_type": "code",
   "execution_count": 14,
   "id": "sudden-trinidad",
   "metadata": {},
   "outputs": [
    {
     "ename": "AttributeError",
     "evalue": "module 'sqlalchemy' has no attribute 'query'",
     "output_type": "error",
     "traceback": [
      "\u001b[1;31m---------------------------------------------------------------------------\u001b[0m",
      "\u001b[1;31mAttributeError\u001b[0m                            Traceback (most recent call last)",
      "\u001b[1;32m<ipython-input-14-ed1e60b06e6d>\u001b[0m in \u001b[0;36m<module>\u001b[1;34m\u001b[0m\n\u001b[1;32m----> 1\u001b[1;33m \u001b[0mdb\u001b[0m\u001b[1;33m.\u001b[0m\u001b[0mquery\u001b[0m\u001b[1;33m(\u001b[0m\u001b[0mVenue\u001b[0m\u001b[1;33m)\u001b[0m\u001b[1;33m.\u001b[0m\u001b[0mdistinct\u001b[0m\u001b[1;33m(\u001b[0m\u001b[0mVenue\u001b[0m\u001b[1;33m.\u001b[0m\u001b[0mcity\u001b[0m\u001b[1;33m,\u001b[0m \u001b[0mVenue\u001b[0m\u001b[1;33m.\u001b[0m\u001b[0mstate\u001b[0m\u001b[1;33m)\u001b[0m\u001b[1;33m.\u001b[0m\u001b[0mall\u001b[0m\u001b[1;33m(\u001b[0m\u001b[1;33m)\u001b[0m\u001b[1;33m\u001b[0m\u001b[1;33m\u001b[0m\u001b[0m\n\u001b[0m",
      "\u001b[1;31mAttributeError\u001b[0m: module 'sqlalchemy' has no attribute 'query'"
     ]
    }
   ],
   "source": [
    "db.query(Venue).distinct(Venue.city, Venue.state).all()"
   ]
  },
  {
   "cell_type": "code",
   "execution_count": 76,
   "id": "changing-broad",
   "metadata": {},
   "outputs": [
    {
     "ename": "AttributeError",
     "evalue": "module 'sqlalchemy' has no attribute 'session'",
     "output_type": "error",
     "traceback": [
      "\u001b[1;31m---------------------------------------------------------------------------\u001b[0m",
      "\u001b[1;31mAttributeError\u001b[0m                            Traceback (most recent call last)",
      "\u001b[1;32m<ipython-input-76-d5321084757b>\u001b[0m in \u001b[0;36m<module>\u001b[1;34m\u001b[0m\n\u001b[1;32m----> 1\u001b[1;33m \u001b[0martist_query\u001b[0m \u001b[1;33m=\u001b[0m \u001b[0mdb\u001b[0m\u001b[1;33m.\u001b[0m\u001b[0msession\u001b[0m\u001b[1;33m.\u001b[0m\u001b[0mquery\u001b[0m\u001b[1;33m(\u001b[0m\u001b[0mArtist\u001b[0m\u001b[1;33m)\u001b[0m\u001b[1;33m.\u001b[0m\u001b[0mall\u001b[0m\u001b[1;33m(\u001b[0m\u001b[1;33m)\u001b[0m\u001b[1;33m\u001b[0m\u001b[1;33m\u001b[0m\u001b[0m\n\u001b[0m",
      "\u001b[1;31mAttributeError\u001b[0m: module 'sqlalchemy' has no attribute 'session'"
     ]
    }
   ],
   "source": [
    "artist_query = db.session.query(Artist).all()"
   ]
  },
  {
   "cell_type": "code",
   "execution_count": null,
   "id": "fresh-huntington",
   "metadata": {},
   "outputs": [],
   "source": []
  },
  {
   "cell_type": "code",
   "execution_count": null,
   "id": "local-preference",
   "metadata": {},
   "outputs": [],
   "source": []
  },
  {
   "cell_type": "code",
   "execution_count": 102,
   "id": "angry-judges",
   "metadata": {},
   "outputs": [],
   "source": [
    "fake_name = intl_fake.name().lower().replace(\" \", \"_\")"
   ]
  },
  {
   "cell_type": "code",
   "execution_count": 103,
   "id": "rubber-presentation",
   "metadata": {},
   "outputs": [
    {
     "data": {
      "text/plain": [
       "'theresa_sullivan'"
      ]
     },
     "execution_count": 103,
     "metadata": {},
     "output_type": "execute_result"
    }
   ],
   "source": [
    "fake_name"
   ]
  },
  {
   "cell_type": "code",
   "execution_count": 109,
   "id": "gentle-inside",
   "metadata": {},
   "outputs": [
    {
     "data": {
      "text/plain": [
       "'Coleman Group'"
      ]
     },
     "execution_count": 109,
     "metadata": {},
     "output_type": "execute_result"
    }
   ],
   "source": [
    "fake.company()"
   ]
  },
  {
   "cell_type": "code",
   "execution_count": 104,
   "id": "blond-seeker",
   "metadata": {},
   "outputs": [
    {
     "data": {
      "text/plain": [
       "'and Sons'"
      ]
     },
     "execution_count": 104,
     "metadata": {},
     "output_type": "execute_result"
    }
   ],
   "source": [
    "fake.company_suffix()"
   ]
  },
  {
   "cell_type": "code",
   "execution_count": 114,
   "id": "unauthorized-pilot",
   "metadata": {},
   "outputs": [
    {
     "data": {
      "text/plain": [
       "'Re-contextualized national help-desk'"
      ]
     },
     "execution_count": 114,
     "metadata": {},
     "output_type": "execute_result"
    }
   ],
   "source": [
    "fake.catch_phrase()"
   ]
  },
  {
   "cell_type": "code",
   "execution_count": 113,
   "id": "understood-stadium",
   "metadata": {},
   "outputs": [
    {
     "data": {
      "text/plain": [
       "'Whom employee their for attention if father third.'"
      ]
     },
     "execution_count": 113,
     "metadata": {},
     "output_type": "execute_result"
    }
   ],
   "source": [
    "fake.sentence()"
   ]
  },
  {
   "cell_type": "code",
   "execution_count": 116,
   "id": "ambient-cooperative",
   "metadata": {},
   "outputs": [
    {
     "data": {
      "text/plain": [
       "'Persistent mission-critical strategy. Suffer dream care lose.'"
      ]
     },
     "execution_count": 116,
     "metadata": {},
     "output_type": "execute_result"
    }
   ],
   "source": [
    "fake.catch_phrase() + '. ' + fake.sentence()"
   ]
  },
  {
   "cell_type": "code",
   "execution_count": 169,
   "id": "faced-passing",
   "metadata": {},
   "outputs": [
    {
     "ename": "AttributeError",
     "evalue": "'str' object has no attribute 'strftime'",
     "output_type": "error",
     "traceback": [
      "\u001b[1;31m---------------------------------------------------------------------------\u001b[0m",
      "\u001b[1;31mAttributeError\u001b[0m                            Traceback (most recent call last)",
      "\u001b[1;32m<ipython-input-169-d968d42085fa>\u001b[0m in \u001b[0;36m<module>\u001b[1;34m\u001b[0m\n\u001b[0;32m      1\u001b[0m \u001b[1;32mimport\u001b[0m \u001b[0mtime\u001b[0m\u001b[1;33m\u001b[0m\u001b[1;33m\u001b[0m\u001b[0m\n\u001b[0;32m      2\u001b[0m \u001b[1;32mfrom\u001b[0m \u001b[0mdatetime\u001b[0m \u001b[1;32mimport\u001b[0m \u001b[0mdate\u001b[0m\u001b[1;33m\u001b[0m\u001b[1;33m\u001b[0m\u001b[0m\n\u001b[1;32m----> 3\u001b[1;33m \u001b[0mfake\u001b[0m\u001b[1;33m.\u001b[0m\u001b[0mdate\u001b[0m\u001b[1;33m(\u001b[0m\u001b[1;33m)\u001b[0m\u001b[1;33m.\u001b[0m\u001b[0mstrftime\u001b[0m\u001b[1;33m(\u001b[0m\u001b[1;34m'%Y-%m-%d %H:%S:%M'\u001b[0m\u001b[1;33m)\u001b[0m\u001b[1;33m\u001b[0m\u001b[1;33m\u001b[0m\u001b[0m\n\u001b[0m",
      "\u001b[1;31mAttributeError\u001b[0m: 'str' object has no attribute 'strftime'"
     ]
    }
   ],
   "source": [
    "import time\n",
    "from datetime import date\n",
    "fake.date().strftime('%Y-%m-%d %H:%S:%M')"
   ]
  },
  {
   "cell_type": "code",
   "execution_count": 180,
   "id": "descending-loading",
   "metadata": {},
   "outputs": [],
   "source": [
    "from datetime import datetime\n",
    "\n",
    "date = datetime.now()"
   ]
  },
  {
   "cell_type": "code",
   "execution_count": 182,
   "id": "dirty-color",
   "metadata": {},
   "outputs": [
    {
     "data": {
      "text/plain": [
       "(datetime.datetime(2021, 2, 27, 14, 4, 31, 299063), datetime.datetime)"
      ]
     },
     "execution_count": 182,
     "metadata": {},
     "output_type": "execute_result"
    }
   ],
   "source": [
    "date, type(date)"
   ]
  },
  {
   "cell_type": "code",
   "execution_count": 183,
   "id": "polyphonic-tunnel",
   "metadata": {},
   "outputs": [
    {
     "data": {
      "text/plain": [
       "('2021-02-27 14:31:04', str)"
      ]
     },
     "execution_count": 183,
     "metadata": {},
     "output_type": "execute_result"
    }
   ],
   "source": [
    "date.strftime('%Y-%m-%d %H:%S:%M'), type(date.strftime('%Y-%m-%d %H:%S:%M'))"
   ]
  },
  {
   "cell_type": "code",
   "execution_count": null,
   "id": "piano-penguin",
   "metadata": {},
   "outputs": [],
   "source": []
  }
 ],
 "metadata": {
  "kernelspec": {
   "display_name": "Python 3",
   "language": "python",
   "name": "python3"
  },
  "language_info": {
   "codemirror_mode": {
    "name": "ipython",
    "version": 3
   },
   "file_extension": ".py",
   "mimetype": "text/x-python",
   "name": "python",
   "nbconvert_exporter": "python",
   "pygments_lexer": "ipython3",
   "version": "3.8.5"
  }
 },
 "nbformat": 4,
 "nbformat_minor": 5
}
